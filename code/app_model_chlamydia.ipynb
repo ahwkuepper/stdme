{
 "cells": [
  {
   "cell_type": "markdown",
   "metadata": {},
   "source": [
    "# A first simple model"
   ]
  },
  {
   "cell_type": "code",
   "execution_count": 1,
   "metadata": {
    "collapsed": true
   },
   "outputs": [],
   "source": [
    "import pandas as pd\n",
    "import pickle\n",
    "import numpy as np\n",
    "import matplotlib.pyplot as plt\n",
    "%matplotlib inline"
   ]
  },
  {
   "cell_type": "code",
   "execution_count": 2,
   "metadata": {
    "collapsed": false
   },
   "outputs": [
    {
     "data": {
      "text/html": [
       "<div>\n",
       "<table border=\"1\" class=\"dataframe\">\n",
       "  <thead>\n",
       "    <tr style=\"text-align: right;\">\n",
       "      <th></th>\n",
       "      <th>FIPS</th>\n",
       "      <th>Population</th>\n",
       "      <th>hd01s001</th>\n",
       "      <th>hd02s002</th>\n",
       "      <th>hd02s003</th>\n",
       "      <th>hd02s004</th>\n",
       "      <th>hd02s005</th>\n",
       "      <th>hd02s006</th>\n",
       "      <th>hd02s007</th>\n",
       "      <th>hd02s008</th>\n",
       "      <th>...</th>\n",
       "      <th>hd01s167</th>\n",
       "      <th>hd01s168</th>\n",
       "      <th>hd02s181</th>\n",
       "      <th>hd02s184</th>\n",
       "      <th>hd01vd01</th>\n",
       "      <th>d002</th>\n",
       "      <th>d014</th>\n",
       "      <th>d019</th>\n",
       "      <th>d024</th>\n",
       "      <th>d029</th>\n",
       "    </tr>\n",
       "  </thead>\n",
       "  <tbody>\n",
       "    <tr>\n",
       "      <th>0</th>\n",
       "      <td>1001</td>\n",
       "      <td>55246</td>\n",
       "      <td>4.736962</td>\n",
       "      <td>6.6</td>\n",
       "      <td>7.3</td>\n",
       "      <td>7.9</td>\n",
       "      <td>7.9</td>\n",
       "      <td>5.6</td>\n",
       "      <td>5.8</td>\n",
       "      <td>6.1</td>\n",
       "      <td>...</td>\n",
       "      <td>2.68</td>\n",
       "      <td>3.13</td>\n",
       "      <td>75.4</td>\n",
       "      <td>24.6</td>\n",
       "      <td>52475</td>\n",
       "      <td>0.562138</td>\n",
       "      <td>0.003017</td>\n",
       "      <td>0.020029</td>\n",
       "      <td>0.002868</td>\n",
       "      <td>0.017704</td>\n",
       "    </tr>\n",
       "    <tr>\n",
       "      <th>1</th>\n",
       "      <td>1003</td>\n",
       "      <td>195540</td>\n",
       "      <td>5.260703</td>\n",
       "      <td>6.1</td>\n",
       "      <td>6.4</td>\n",
       "      <td>6.5</td>\n",
       "      <td>6.4</td>\n",
       "      <td>5.2</td>\n",
       "      <td>5.6</td>\n",
       "      <td>5.9</td>\n",
       "      <td>...</td>\n",
       "      <td>2.46</td>\n",
       "      <td>2.93</td>\n",
       "      <td>72.5</td>\n",
       "      <td>27.5</td>\n",
       "      <td>50183</td>\n",
       "      <td>0.545409</td>\n",
       "      <td>0.002747</td>\n",
       "      <td>0.023886</td>\n",
       "      <td>0.003444</td>\n",
       "      <td>0.020292</td>\n",
       "    </tr>\n",
       "    <tr>\n",
       "      <th>2</th>\n",
       "      <td>1005</td>\n",
       "      <td>27076</td>\n",
       "      <td>4.438653</td>\n",
       "      <td>6.2</td>\n",
       "      <td>6.0</td>\n",
       "      <td>5.8</td>\n",
       "      <td>6.3</td>\n",
       "      <td>6.5</td>\n",
       "      <td>7.3</td>\n",
       "      <td>6.6</td>\n",
       "      <td>...</td>\n",
       "      <td>2.47</td>\n",
       "      <td>3.01</td>\n",
       "      <td>66.8</td>\n",
       "      <td>33.2</td>\n",
       "      <td>35634</td>\n",
       "      <td>0.437169</td>\n",
       "      <td>0.002342</td>\n",
       "      <td>0.019348</td>\n",
       "      <td>0.003666</td>\n",
       "      <td>0.022200</td>\n",
       "    </tr>\n",
       "    <tr>\n",
       "      <th>3</th>\n",
       "      <td>1007</td>\n",
       "      <td>22512</td>\n",
       "      <td>4.360120</td>\n",
       "      <td>6.0</td>\n",
       "      <td>6.1</td>\n",
       "      <td>6.3</td>\n",
       "      <td>6.7</td>\n",
       "      <td>6.5</td>\n",
       "      <td>7.0</td>\n",
       "      <td>7.2</td>\n",
       "      <td>...</td>\n",
       "      <td>2.60</td>\n",
       "      <td>3.09</td>\n",
       "      <td>75.6</td>\n",
       "      <td>24.4</td>\n",
       "      <td>37984</td>\n",
       "      <td>0.524582</td>\n",
       "      <td>0.001886</td>\n",
       "      <td>0.020244</td>\n",
       "      <td>0.002012</td>\n",
       "      <td>0.020370</td>\n",
       "    </tr>\n",
       "    <tr>\n",
       "      <th>4</th>\n",
       "      <td>1009</td>\n",
       "      <td>57872</td>\n",
       "      <td>4.758321</td>\n",
       "      <td>6.3</td>\n",
       "      <td>6.8</td>\n",
       "      <td>7.1</td>\n",
       "      <td>7.0</td>\n",
       "      <td>5.4</td>\n",
       "      <td>6.0</td>\n",
       "      <td>6.0</td>\n",
       "      <td>...</td>\n",
       "      <td>2.63</td>\n",
       "      <td>3.07</td>\n",
       "      <td>80.6</td>\n",
       "      <td>19.4</td>\n",
       "      <td>44409</td>\n",
       "      <td>0.606034</td>\n",
       "      <td>0.001946</td>\n",
       "      <td>0.017981</td>\n",
       "      <td>0.003707</td>\n",
       "      <td>0.013440</td>\n",
       "    </tr>\n",
       "  </tbody>\n",
       "</table>\n",
       "<p>5 rows × 53 columns</p>\n",
       "</div>"
      ],
      "text/plain": [
       "   FIPS  Population  hd01s001  hd02s002  hd02s003  hd02s004  hd02s005  \\\n",
       "0  1001       55246  4.736962       6.6       7.3       7.9       7.9   \n",
       "1  1003      195540  5.260703       6.1       6.4       6.5       6.4   \n",
       "2  1005       27076  4.438653       6.2       6.0       5.8       6.3   \n",
       "3  1007       22512  4.360120       6.0       6.1       6.3       6.7   \n",
       "4  1009       57872  4.758321       6.3       6.8       7.1       7.0   \n",
       "\n",
       "   hd02s006  hd02s007  hd02s008    ...     hd01s167  hd01s168  hd02s181  \\\n",
       "0       5.6       5.8       6.1    ...         2.68      3.13      75.4   \n",
       "1       5.2       5.6       5.9    ...         2.46      2.93      72.5   \n",
       "2       6.5       7.3       6.6    ...         2.47      3.01      66.8   \n",
       "3       6.5       7.0       7.2    ...         2.60      3.09      75.6   \n",
       "4       5.4       6.0       6.0    ...         2.63      3.07      80.6   \n",
       "\n",
       "   hd02s184  hd01vd01      d002      d014      d019      d024      d029  \n",
       "0      24.6     52475  0.562138  0.003017  0.020029  0.002868  0.017704  \n",
       "1      27.5     50183  0.545409  0.002747  0.023886  0.003444  0.020292  \n",
       "2      33.2     35634  0.437169  0.002342  0.019348  0.003666  0.022200  \n",
       "3      24.4     37984  0.524582  0.001886  0.020244  0.002012  0.020370  \n",
       "4      19.4     44409  0.606034  0.001946  0.017981  0.003707  0.013440  \n",
       "\n",
       "[5 rows x 53 columns]"
      ]
     },
     "execution_count": 2,
     "metadata": {},
     "output_type": "execute_result"
    }
   ],
   "source": [
    "df_merged = pd.read_csv(\"../data/chlamydia_cdc_census.csv\")\n",
    "df_merged.drop(\"Cases\", axis=1, inplace=True)\n",
    "df_merged.head()"
   ]
  },
  {
   "cell_type": "code",
   "execution_count": 3,
   "metadata": {
    "collapsed": true
   },
   "outputs": [],
   "source": [
    "df_zipfips= pd.read_csv(\"../data/ZIP_COUNTY_122014.csv\", usecols={0,1})"
   ]
  },
  {
   "cell_type": "code",
   "execution_count": 4,
   "metadata": {
    "collapsed": true
   },
   "outputs": [],
   "source": [
    "zip2fips = dict(zip(df_zipfips[\"ZIP\"], df_zipfips[\"COUNTY\"]))"
   ]
  },
  {
   "cell_type": "code",
   "execution_count": 5,
   "metadata": {
    "collapsed": false
   },
   "outputs": [],
   "source": [
    "fips = zip2fips[10027]"
   ]
  },
  {
   "cell_type": "code",
   "execution_count": 6,
   "metadata": {
    "collapsed": false
   },
   "outputs": [
    {
     "data": {
      "text/plain": [
       "(1, 53)"
      ]
     },
     "execution_count": 6,
     "metadata": {},
     "output_type": "execute_result"
    }
   ],
   "source": [
    "target = df_merged[df_merged['FIPS']==fips]\n",
    "target.shape"
   ]
  },
  {
   "cell_type": "code",
   "execution_count": 7,
   "metadata": {
    "collapsed": false
   },
   "outputs": [],
   "source": [
    "target_params = target.values[0]"
   ]
  },
  {
   "cell_type": "code",
   "execution_count": 8,
   "metadata": {
    "collapsed": true
   },
   "outputs": [],
   "source": [
    "model = pickle.load(open('../data/randomforest_params.pickle', \"rb\" ))"
   ]
  },
  {
   "cell_type": "code",
   "execution_count": 9,
   "metadata": {
    "collapsed": true
   },
   "outputs": [],
   "source": [
    "model2 = pickle.load(open('../data/gradientboosting_params.pickle', \"rb\" ))"
   ]
  },
  {
   "cell_type": "code",
   "execution_count": 10,
   "metadata": {
    "collapsed": true
   },
   "outputs": [],
   "source": [
    "Ymean = pickle.load(open('../data/Ymean.pickle', \"rb\"))"
   ]
  },
  {
   "cell_type": "code",
   "execution_count": 11,
   "metadata": {
    "collapsed": true
   },
   "outputs": [],
   "source": [
    "Ystd = pickle.load(open('../data/Ystd.pickle', \"rb\"))"
   ]
  },
  {
   "cell_type": "code",
   "execution_count": 12,
   "metadata": {
    "collapsed": false
   },
   "outputs": [
    {
     "name": "stderr",
     "output_type": "stream",
     "text": [
      "/Users/akuepper/anaconda/lib/python3.5/site-packages/sklearn/utils/validation.py:386: DeprecationWarning: Passing 1d arrays as data is deprecated in 0.17 and willraise ValueError in 0.19. Reshape your data either using X.reshape(-1, 1) if your data has a single feature or X.reshape(1, -1) if it contains a single sample.\n",
      "  DeprecationWarning)\n"
     ]
    }
   ],
   "source": [
    "chlamydia_rate = model.predict(target_params[1:])"
   ]
  },
  {
   "cell_type": "code",
   "execution_count": 13,
   "metadata": {
    "collapsed": false
   },
   "outputs": [
    {
     "data": {
      "text/plain": [
       "(2.0094210449309635,\n",
       " 0.33767371499492893,\n",
       " 3.360990707281132,\n",
       " 1.0970021725482926,\n",
       " 0.3385485173653821,\n",
       " 1.8706190688190578,\n",
       " 0.5452934775824846)"
      ]
     },
     "execution_count": 13,
     "metadata": {},
     "output_type": "execute_result"
    }
   ],
   "source": [
    "gender_rate = {}\n",
    "gender_factor = {}\n",
    "gender_number = {}\n",
    "gender_rate[\"Male\"] = 278.4e-5\n",
    "gender_rate[\"Female\"] = 627.2e-5\n",
    "gender_number[\"Male\"] = 155651602\n",
    "gender_number[\"Female\"] = 160477237\n",
    "rate_average = (gender_rate[\"Male\"]*gender_number[\"Male\"]+gender_rate[\"Female\"]*gender_number[\"Male\"])/(gender_number[\"Male\"]+gender_number[\"Female\"])\n",
    "gender_factor[\"Male\"] = gender_rate[\"Male\"]/rate_average\n",
    "gender_factor[\"Female\"] = gender_rate[\"Female\"]/rate_average\n",
    "gender_factor[\"Female\"], gender_factor[\"Male\"]\n",
    "race_rate = {}\n",
    "race_factor = {}\n",
    "race_number = {}\n",
    "race_number[\"Native\"] = 1942876.0\n",
    "race_number[\"Asian\"] = 12721721.0\n",
    "race_number[\"Black\"] = 29489649.0\n",
    "race_number[\"Hispanic\"] = 46407173.0\n",
    "race_number[\"Multiple\"] = 5145135.0\n",
    "race_number[\"Pacific\"] = 473703.0\n",
    "race_number[\"White\"] = 161443167.0\n",
    "race_rate[\"Native\"] = 689.1e-5\n",
    "race_rate[\"Asian\"] = 115.8e-5\n",
    "race_rate[\"Black\"] = 1152.6e-5\n",
    "race_rate[\"Hispanic\"] = 376.2e-5\n",
    "race_rate[\"Multiple\"] = 116.1e-5\n",
    "race_rate[\"Pacific\"] = 641.5e-5\n",
    "race_rate[\"White\"] = 187.0e-5\n",
    "US_number = race_number[\"Native\"] + race_number[\"Asian\"] + race_number[\"Black\"] + race_number[\"Hispanic\"] + race_number[\"Multiple\"] + race_number[\"Pacific\"] + race_number[\"White\"]\n",
    "rate_average = (race_rate[\"Native\"]*race_number[\"Native\"]+race_rate[\"Asian\"]*race_number[\"Asian\"]+race_rate[\"Black\"]*race_number[\"Black\"]+race_rate[\"Hispanic\"]*race_number[\"Hispanic\"]+race_rate[\"Multiple\"]*race_number[\"Multiple\"]+race_rate[\"Pacific\"]*race_number[\"Multiple\"]+race_rate[\"White\"]*race_number[\"White\"])/US_number  \n",
    "race_factor[\"Native\"] = race_rate[\"Native\"]/rate_average\n",
    "race_factor[\"Asian\"] = race_rate[\"Asian\"]/rate_average\n",
    "race_factor[\"Black\"] = race_rate[\"Black\"]/rate_average\n",
    "race_factor[\"Hispanic\"] = race_rate[\"Hispanic\"]/rate_average\n",
    "race_factor[\"Multiple\"] = race_rate[\"Multiple\"]/rate_average\n",
    "race_factor[\"Pacific\"] = race_rate[\"Pacific\"]/rate_average\n",
    "race_factor[\"White\"] = race_rate[\"White\"]/rate_average\n",
    "\n",
    "age_rate = {}\n",
    "age_factor = {}\n",
    "age_number = {}\n",
    "age_number[\"0-14\"] = 61089123.0\n",
    "age_number[\"15-19\"] = 21158964.0\n",
    "age_number[\"20-24\"] = 22795438.0\n",
    "age_number[\"25-29\"] = 21580198.0\n",
    "age_number[\"30-34\"] = 21264389.0\n",
    "age_number[\"35-39\"] = 19603770.0\n",
    "age_number[\"40-44\"] = 20848920.0\n",
    "age_number[\"45-54\"] = 43767532.0\n",
    "age_number[\"55-64\"] = 39316431.0\n",
    "age_number[\"65+\"] = 44704074.0\n",
    "\n",
    "age_rate[\"0-14\"] = 20.0e-5\n",
    "age_rate[\"15-19\"] = 1804.0e-5\n",
    "age_rate[\"20-24\"] = 2484.6e-5\n",
    "age_rate[\"25-29\"] = 1176.2e-5\n",
    "age_rate[\"30-34\"] = 532.4e-5\n",
    "age_rate[\"35-39\"] = 268.0e-5\n",
    "age_rate[\"40-44\"] = 131.5e-5\n",
    "age_rate[\"45-54\"] = 56.6e-5\n",
    "age_rate[\"55-64\"] = 16.6e-5\n",
    "age_rate[\"65+\"] = 3.2e-5\n",
    "\n",
    "US_age_number = age_number[\"0-14\"] + age_number[\"15-19\"] + age_number[\"20-24\"] + age_number[\"25-29\"] + age_number[\"30-34\"] + age_number[\"35-39\"] + age_number[\"40-44\"] + age_number[\"45-54\"] + age_number[\"55-64\"] + age_number[\"65+\"]\n",
    "rate_average = (age_rate[\"0-14\"]*age_number[\"0-14\"]+age_rate[\"15-19\"]*age_number[\"15-19\"]+age_rate[\"20-24\"]*age_number[\"20-24\"]+age_rate[\"25-29\"]*age_number[\"25-29\"]+age_rate[\"30-34\"]*age_number[\"30-34\"]+age_rate[\"35-39\"]*age_number[\"35-39\"]+age_rate[\"40-44\"]*age_number[\"40-44\"]+age_rate[\"45-54\"]*age_number[\"45-54\"]+age_rate[\"55-64\"]*age_number[\"55-64\"]+age_rate[\"65+\"]*age_number[\"65+\"])/US_age_number  \n",
    "age_factor[\"0-14\"] = age_rate[\"0-14\"]/rate_average\n",
    "age_factor[\"15-19\"] = age_rate[\"15-19\"]/rate_average\n",
    "age_factor[\"20-24\"] = age_rate[\"20-24\"]/rate_average\n",
    "age_factor[\"25-29\"] = age_rate[\"30-34\"]/rate_average\n",
    "age_factor[\"30-34\"] = age_rate[\"30-34\"]/rate_average\n",
    "age_factor[\"35-39\"] = age_rate[\"35-39\"]/rate_average\n",
    "age_factor[\"40-44\"] = age_rate[\"40-44\"]/rate_average\n",
    "age_factor[\"45-54\"] = age_rate[\"45-54\"]/rate_average\n",
    "age_factor[\"55-64\"] = age_rate[\"55-64\"]/rate_average\n",
    "age_factor[\"65+\"] = age_rate[\"65+\"]/rate_average\n",
    "\n",
    "race_factor[\"Native\"], race_factor[\"Asian\"], race_factor[\"Black\"], race_factor[\"Hispanic\"], race_factor[\"Multiple\"], race_factor[\"Pacific\"], race_factor[\"White\"]\n",
    "#age_factor[\"0-14\"], age_factor[\"15-19\"], age_factor[\"20-24\"], age_factor[\"25-29\"], age_factor[\"30-34\"], age_factor[\"35-39\"], age_factor[\"40-44\"], age_factor[\"45-54\"], age_factor[\"55-64\"], age_factor[\"65+\"]"
   ]
  },
  {
   "cell_type": "code",
   "execution_count": 14,
   "metadata": {
    "collapsed": false
   },
   "outputs": [
    {
     "name": "stdout",
     "output_type": "stream",
     "text": [
      "Your individual chance of having Chlamydia is 2.08 percent\n"
     ]
    },
    {
     "name": "stderr",
     "output_type": "stream",
     "text": [
      "/Users/akuepper/anaconda/lib/python3.5/site-packages/sklearn/utils/validation.py:386: DeprecationWarning: Passing 1d arrays as data is deprecated in 0.17 and willraise ValueError in 0.19. Reshape your data either using X.reshape(-1, 1) if your data has a single feature or X.reshape(1, -1) if it contains a single sample.\n",
      "  DeprecationWarning)\n"
     ]
    }
   ],
   "source": [
    "def calculate_rate(Zipcode, Race, Gender, Age):\n",
    "    fips = zip2fips[int(Zipcode)]\n",
    "    target = df_merged[df_merged['FIPS']==fips]\n",
    "    target_params = target.values[0]\n",
    "    chlamydia_rate = model.predict(target_params[1:])\n",
    "    return chlamydia_rate*gender_factor[Gender]*race_factor[Race]*age_factor[Age]\n",
    "\n",
    "Race = \"White\"\n",
    "Gender = \"Male\"\n",
    "Age = \"35-39\"\n",
    "Zipcode = \"02139\"\n",
    "print(\"Your individual chance of having Chlamydia is %.2f percent\"%(calculate_rate(Zipcode, Race, Gender, Age)*100))"
   ]
  },
  {
   "cell_type": "markdown",
   "metadata": {
    "collapsed": true
   },
   "source": [
    "## ZIP code census data base"
   ]
  },
  {
   "cell_type": "code",
   "execution_count": 15,
   "metadata": {
    "collapsed": true
   },
   "outputs": [],
   "source": [
    "df_zipcode = pd.read_csv(\"../data/census_zipcode.csv\")"
   ]
  },
  {
   "cell_type": "code",
   "execution_count": 16,
   "metadata": {
    "collapsed": false
   },
   "outputs": [
    {
     "data": {
      "text/html": [
       "<div>\n",
       "<table border=\"1\" class=\"dataframe\">\n",
       "  <thead>\n",
       "    <tr style=\"text-align: right;\">\n",
       "      <th></th>\n",
       "      <th>geoid2</th>\n",
       "      <th>Population</th>\n",
       "      <th>hd01s001</th>\n",
       "      <th>hd02s002</th>\n",
       "      <th>hd02s003</th>\n",
       "      <th>hd02s004</th>\n",
       "      <th>hd02s005</th>\n",
       "      <th>hd02s006</th>\n",
       "      <th>hd02s007</th>\n",
       "      <th>hd02s008</th>\n",
       "      <th>...</th>\n",
       "      <th>hd01s167</th>\n",
       "      <th>hd01s168</th>\n",
       "      <th>hd02s181</th>\n",
       "      <th>hd02s184</th>\n",
       "      <th>hd01vd01</th>\n",
       "      <th>d002</th>\n",
       "      <th>d014</th>\n",
       "      <th>d019</th>\n",
       "      <th>d024</th>\n",
       "      <th>d029</th>\n",
       "    </tr>\n",
       "  </thead>\n",
       "  <tbody>\n",
       "    <tr>\n",
       "      <th>0</th>\n",
       "      <td>601</td>\n",
       "      <td>-0.257958</td>\n",
       "      <td>-0.379097</td>\n",
       "      <td>-0.126296</td>\n",
       "      <td>0.326802</td>\n",
       "      <td>1.342912</td>\n",
       "      <td>1.316156</td>\n",
       "      <td>0.379797</td>\n",
       "      <td>0.866131</td>\n",
       "      <td>0.408369</td>\n",
       "      <td>...</td>\n",
       "      <td>1.788032</td>\n",
       "      <td>1.544925</td>\n",
       "      <td>-0.729104</td>\n",
       "      <td>0.729102</td>\n",
       "      <td>-2.980053</td>\n",
       "      <td>0.069422</td>\n",
       "      <td>-1.305092</td>\n",
       "      <td>-0.291655</td>\n",
       "      <td>-1.013556</td>\n",
       "      <td>-0.244493</td>\n",
       "    </tr>\n",
       "    <tr>\n",
       "      <th>1</th>\n",
       "      <td>602</td>\n",
       "      <td>-0.187985</td>\n",
       "      <td>0.202049</td>\n",
       "      <td>-0.667304</td>\n",
       "      <td>-0.375680</td>\n",
       "      <td>0.792144</td>\n",
       "      <td>0.868417</td>\n",
       "      <td>0.458393</td>\n",
       "      <td>0.369554</td>\n",
       "      <td>1.049363</td>\n",
       "      <td>...</td>\n",
       "      <td>1.389665</td>\n",
       "      <td>1.155430</td>\n",
       "      <td>0.683548</td>\n",
       "      <td>-0.683573</td>\n",
       "      <td>-2.522258</td>\n",
       "      <td>0.550821</td>\n",
       "      <td>-0.475777</td>\n",
       "      <td>-1.064918</td>\n",
       "      <td>-0.417037</td>\n",
       "      <td>-1.132623</td>\n",
       "    </tr>\n",
       "    <tr>\n",
       "      <th>2</th>\n",
       "      <td>603</td>\n",
       "      <td>-0.147833</td>\n",
       "      <td>0.401021</td>\n",
       "      <td>-0.306632</td>\n",
       "      <td>-0.074617</td>\n",
       "      <td>0.461683</td>\n",
       "      <td>0.241583</td>\n",
       "      <td>0.222605</td>\n",
       "      <td>0.452316</td>\n",
       "      <td>0.835698</td>\n",
       "      <td>...</td>\n",
       "      <td>0.244360</td>\n",
       "      <td>0.376440</td>\n",
       "      <td>-1.061493</td>\n",
       "      <td>1.061497</td>\n",
       "      <td>-2.524746</td>\n",
       "      <td>-1.301043</td>\n",
       "      <td>-0.781474</td>\n",
       "      <td>-1.519258</td>\n",
       "      <td>-0.905455</td>\n",
       "      <td>0.099090</td>\n",
       "    </tr>\n",
       "    <tr>\n",
       "      <th>3</th>\n",
       "      <td>606</td>\n",
       "      <td>-0.294408</td>\n",
       "      <td>-1.124613</td>\n",
       "      <td>0.324544</td>\n",
       "      <td>-0.174971</td>\n",
       "      <td>0.902298</td>\n",
       "      <td>0.689322</td>\n",
       "      <td>0.694182</td>\n",
       "      <td>0.866131</td>\n",
       "      <td>0.408369</td>\n",
       "      <td>...</td>\n",
       "      <td>1.339869</td>\n",
       "      <td>1.377999</td>\n",
       "      <td>-0.036628</td>\n",
       "      <td>0.036615</td>\n",
       "      <td>-2.705957</td>\n",
       "      <td>-0.339241</td>\n",
       "      <td>-0.015301</td>\n",
       "      <td>0.107207</td>\n",
       "      <td>-1.278090</td>\n",
       "      <td>-0.523061</td>\n",
       "    </tr>\n",
       "    <tr>\n",
       "      <th>4</th>\n",
       "      <td>610</td>\n",
       "      <td>-0.226109</td>\n",
       "      <td>-0.056754</td>\n",
       "      <td>-0.486968</td>\n",
       "      <td>-0.275326</td>\n",
       "      <td>1.122605</td>\n",
       "      <td>0.510226</td>\n",
       "      <td>0.144009</td>\n",
       "      <td>0.286791</td>\n",
       "      <td>1.049363</td>\n",
       "      <td>...</td>\n",
       "      <td>0.941502</td>\n",
       "      <td>0.821577</td>\n",
       "      <td>0.683548</td>\n",
       "      <td>-0.683573</td>\n",
       "      <td>-2.446622</td>\n",
       "      <td>-0.395512</td>\n",
       "      <td>-0.547272</td>\n",
       "      <td>-0.622365</td>\n",
       "      <td>-0.760020</td>\n",
       "      <td>0.785830</td>\n",
       "    </tr>\n",
       "  </tbody>\n",
       "</table>\n",
       "<p>5 rows × 53 columns</p>\n",
       "</div>"
      ],
      "text/plain": [
       "   geoid2  Population  hd01s001  hd02s002  hd02s003  hd02s004  hd02s005  \\\n",
       "0     601   -0.257958 -0.379097 -0.126296  0.326802  1.342912  1.316156   \n",
       "1     602   -0.187985  0.202049 -0.667304 -0.375680  0.792144  0.868417   \n",
       "2     603   -0.147833  0.401021 -0.306632 -0.074617  0.461683  0.241583   \n",
       "3     606   -0.294408 -1.124613  0.324544 -0.174971  0.902298  0.689322   \n",
       "4     610   -0.226109 -0.056754 -0.486968 -0.275326  1.122605  0.510226   \n",
       "\n",
       "   hd02s006  hd02s007  hd02s008    ...     hd01s167  hd01s168  hd02s181  \\\n",
       "0  0.379797  0.866131  0.408369    ...     1.788032  1.544925 -0.729104   \n",
       "1  0.458393  0.369554  1.049363    ...     1.389665  1.155430  0.683548   \n",
       "2  0.222605  0.452316  0.835698    ...     0.244360  0.376440 -1.061493   \n",
       "3  0.694182  0.866131  0.408369    ...     1.339869  1.377999 -0.036628   \n",
       "4  0.144009  0.286791  1.049363    ...     0.941502  0.821577  0.683548   \n",
       "\n",
       "   hd02s184  hd01vd01      d002      d014      d019      d024      d029  \n",
       "0  0.729102 -2.980053  0.069422 -1.305092 -0.291655 -1.013556 -0.244493  \n",
       "1 -0.683573 -2.522258  0.550821 -0.475777 -1.064918 -0.417037 -1.132623  \n",
       "2  1.061497 -2.524746 -1.301043 -0.781474 -1.519258 -0.905455  0.099090  \n",
       "3  0.036615 -2.705957 -0.339241 -0.015301  0.107207 -1.278090 -0.523061  \n",
       "4 -0.683573 -2.446622 -0.395512 -0.547272 -0.622365 -0.760020  0.785830  \n",
       "\n",
       "[5 rows x 53 columns]"
      ]
     },
     "execution_count": 16,
     "metadata": {},
     "output_type": "execute_result"
    }
   ],
   "source": [
    "df_zipcode.head()"
   ]
  },
  {
   "cell_type": "code",
   "execution_count": 17,
   "metadata": {
    "collapsed": false
   },
   "outputs": [
    {
     "data": {
      "text/html": [
       "<div>\n",
       "<table border=\"1\" class=\"dataframe\">\n",
       "  <thead>\n",
       "    <tr style=\"text-align: right;\">\n",
       "      <th></th>\n",
       "      <th>geoid2</th>\n",
       "      <th>Population</th>\n",
       "      <th>hd01s001</th>\n",
       "      <th>hd02s002</th>\n",
       "      <th>hd02s003</th>\n",
       "      <th>hd02s004</th>\n",
       "      <th>hd02s005</th>\n",
       "      <th>hd02s006</th>\n",
       "      <th>hd02s007</th>\n",
       "      <th>hd02s008</th>\n",
       "      <th>...</th>\n",
       "      <th>hd01s167</th>\n",
       "      <th>hd01s168</th>\n",
       "      <th>hd02s181</th>\n",
       "      <th>hd02s184</th>\n",
       "      <th>hd01vd01</th>\n",
       "      <th>d002</th>\n",
       "      <th>d014</th>\n",
       "      <th>d019</th>\n",
       "      <th>d024</th>\n",
       "      <th>d029</th>\n",
       "    </tr>\n",
       "  </thead>\n",
       "  <tbody>\n",
       "    <tr>\n",
       "      <th>488</th>\n",
       "      <td>2139</td>\n",
       "      <td>-0.203751</td>\n",
       "      <td>0.105983</td>\n",
       "      <td>-1.839488</td>\n",
       "      <td>-3.486673</td>\n",
       "      <td>-4.495233</td>\n",
       "      <td>-0.206155</td>\n",
       "      <td>4.231004</td>\n",
       "      <td>10.9632</td>\n",
       "      <td>6.818309</td>\n",
       "      <td>...</td>\n",
       "      <td>-1.996455</td>\n",
       "      <td>-1.014614</td>\n",
       "      <td>-5.59029</td>\n",
       "      <td>5.590367</td>\n",
       "      <td>2.243621</td>\n",
       "      <td>-4.474072</td>\n",
       "      <td>4.25443</td>\n",
       "      <td>1.148414</td>\n",
       "      <td>4.81522</td>\n",
       "      <td>2.045444</td>\n",
       "    </tr>\n",
       "  </tbody>\n",
       "</table>\n",
       "<p>1 rows × 53 columns</p>\n",
       "</div>"
      ],
      "text/plain": [
       "     geoid2  Population  hd01s001  hd02s002  hd02s003  hd02s004  hd02s005  \\\n",
       "488    2139   -0.203751  0.105983 -1.839488 -3.486673 -4.495233 -0.206155   \n",
       "\n",
       "     hd02s006  hd02s007  hd02s008    ...     hd01s167  hd01s168  hd02s181  \\\n",
       "488  4.231004   10.9632  6.818309    ...    -1.996455 -1.014614  -5.59029   \n",
       "\n",
       "     hd02s184  hd01vd01      d002     d014      d019     d024      d029  \n",
       "488  5.590367  2.243621 -4.474072  4.25443  1.148414  4.81522  2.045444  \n",
       "\n",
       "[1 rows x 53 columns]"
      ]
     },
     "execution_count": 17,
     "metadata": {},
     "output_type": "execute_result"
    }
   ],
   "source": [
    "df_zipcode[df_zipcode[\"geoid2\"]==int(Zipcode)]"
   ]
  },
  {
   "cell_type": "code",
   "execution_count": 18,
   "metadata": {
    "collapsed": false
   },
   "outputs": [
    {
     "name": "stdout",
     "output_type": "stream",
     "text": [
      "Your individual chance of having Chlamydia is 0.11 percent\n"
     ]
    },
    {
     "name": "stderr",
     "output_type": "stream",
     "text": [
      "/Users/akuepper/anaconda/lib/python3.5/site-packages/sklearn/utils/validation.py:386: DeprecationWarning: Passing 1d arrays as data is deprecated in 0.17 and willraise ValueError in 0.19. Reshape your data either using X.reshape(-1, 1) if your data has a single feature or X.reshape(1, -1) if it contains a single sample.\n",
      "  DeprecationWarning)\n"
     ]
    }
   ],
   "source": [
    "def calculate_rate(Zipcode, Race, Gender, Age):\n",
    "    target = df_zipcode[df_zipcode[\"geoid2\"]==int(Zipcode)]\n",
    "    target_params = target.values[0]\n",
    "    chlamydia_rate = model.predict(target_params[1:])*Ystd+Ymean\n",
    "    return chlamydia_rate*gender_factor[Gender]*race_factor[Race]*age_factor[Age]\n",
    "\n",
    "Race = \"White\"\n",
    "Gender = \"Male\"\n",
    "Age = \"35-39\"\n",
    "Zipcode = \"02139\"\n",
    "print(\"Your individual chance of having Chlamydia is %.2f percent\"%(calculate_rate(Zipcode, Race, Gender, Age)*100))"
   ]
  },
  {
   "cell_type": "markdown",
   "metadata": {
    "collapsed": true
   },
   "source": [
    "## Model validation with Boston Public Health Commission data"
   ]
  },
  {
   "cell_type": "code",
   "execution_count": 19,
   "metadata": {
    "collapsed": false
   },
   "outputs": [],
   "source": [
    "df_boston = np.genfromtxt(\"../data/zipcodes_boston.txt\", dtype=[('Neighborhood','S20'),('zip1','i8'),('zip2','i8'),('zip3','i8'),('zip4','i8'),('zip5','i8'),('zip6','i8')], delimiter=\",\")"
   ]
  },
  {
   "cell_type": "code",
   "execution_count": 20,
   "metadata": {
    "collapsed": false
   },
   "outputs": [
    {
     "data": {
      "text/plain": [
       "(array([(b'HydePark', 2136, 0, 0, 0, 0, 0),\n",
       "        (b'WestRoxbury', 2132, 0, 0, 0, 0, 0),\n",
       "        (b'Roslindale', 2131, 0, 0, 0, 0, 0),\n",
       "        (b'Mattapan', 2126, 0, 0, 0, 0, 0),\n",
       "        (b'JamaicaPlain', 2130, 0, 0, 0, 0, 0),\n",
       "        (b'SouthDorchester', 2124, 2122, 0, 0, 0, 0),\n",
       "        (b'NorthDorchester', 2121, 2125, 0, 0, 0, 0),\n",
       "        (b'Roxbury', 2119, 2120, 0, 0, 0, 0),\n",
       "        (b'Fenway', 2215, 2115, 0, 0, 0, 0),\n",
       "        (b'SouthEnd', 2118, 2111, 0, 0, 0, 0),\n",
       "        (b'SouthBoston', 2127, 2210, 0, 0, 0, 0),\n",
       "        (b'BackBay', 2199, 2116, 2110, 2113, 2114, 2109),\n",
       "        (b'Charlestown', 2129, 0, 0, 0, 0, 0),\n",
       "        (b'Allston', 2134, 2135, 2163, 0, 0, 0),\n",
       "        (b'EastBoston', 2128, 0, 0, 0, 0, 0)], \n",
       "       dtype=[('Neighborhood', 'S20'), ('zip1', '<i8'), ('zip2', '<i8'), ('zip3', '<i8'), ('zip4', '<i8'), ('zip5', '<i8'), ('zip6', '<i8')]),\n",
       " 15)"
      ]
     },
     "execution_count": 20,
     "metadata": {},
     "output_type": "execute_result"
    }
   ],
   "source": [
    "df_boston, len(df_boston)"
   ]
  },
  {
   "cell_type": "code",
   "execution_count": 21,
   "metadata": {
    "collapsed": false,
    "scrolled": false
   },
   "outputs": [
    {
     "name": "stderr",
     "output_type": "stream",
     "text": [
      "/Users/akuepper/anaconda/lib/python3.5/site-packages/sklearn/utils/validation.py:386: DeprecationWarning: Passing 1d arrays as data is deprecated in 0.17 and willraise ValueError in 0.19. Reshape your data either using X.reshape(-1, 1) if your data has a single feature or X.reshape(1, -1) if it contains a single sample.\n",
      "  DeprecationWarning)\n",
      "/Users/akuepper/anaconda/lib/python3.5/site-packages/sklearn/utils/validation.py:386: DeprecationWarning: Passing 1d arrays as data is deprecated in 0.17 and willraise ValueError in 0.19. Reshape your data either using X.reshape(-1, 1) if your data has a single feature or X.reshape(1, -1) if it contains a single sample.\n",
      "  DeprecationWarning)\n",
      "/Users/akuepper/anaconda/lib/python3.5/site-packages/sklearn/utils/validation.py:386: DeprecationWarning: Passing 1d arrays as data is deprecated in 0.17 and willraise ValueError in 0.19. Reshape your data either using X.reshape(-1, 1) if your data has a single feature or X.reshape(1, -1) if it contains a single sample.\n",
      "  DeprecationWarning)\n",
      "/Users/akuepper/anaconda/lib/python3.5/site-packages/sklearn/utils/validation.py:386: DeprecationWarning: Passing 1d arrays as data is deprecated in 0.17 and willraise ValueError in 0.19. Reshape your data either using X.reshape(-1, 1) if your data has a single feature or X.reshape(1, -1) if it contains a single sample.\n",
      "  DeprecationWarning)\n",
      "/Users/akuepper/anaconda/lib/python3.5/site-packages/sklearn/utils/validation.py:386: DeprecationWarning: Passing 1d arrays as data is deprecated in 0.17 and willraise ValueError in 0.19. Reshape your data either using X.reshape(-1, 1) if your data has a single feature or X.reshape(1, -1) if it contains a single sample.\n",
      "  DeprecationWarning)\n",
      "/Users/akuepper/anaconda/lib/python3.5/site-packages/sklearn/utils/validation.py:386: DeprecationWarning: Passing 1d arrays as data is deprecated in 0.17 and willraise ValueError in 0.19. Reshape your data either using X.reshape(-1, 1) if your data has a single feature or X.reshape(1, -1) if it contains a single sample.\n",
      "  DeprecationWarning)\n",
      "/Users/akuepper/anaconda/lib/python3.5/site-packages/sklearn/utils/validation.py:386: DeprecationWarning: Passing 1d arrays as data is deprecated in 0.17 and willraise ValueError in 0.19. Reshape your data either using X.reshape(-1, 1) if your data has a single feature or X.reshape(1, -1) if it contains a single sample.\n",
      "  DeprecationWarning)\n",
      "/Users/akuepper/anaconda/lib/python3.5/site-packages/sklearn/utils/validation.py:386: DeprecationWarning: Passing 1d arrays as data is deprecated in 0.17 and willraise ValueError in 0.19. Reshape your data either using X.reshape(-1, 1) if your data has a single feature or X.reshape(1, -1) if it contains a single sample.\n",
      "  DeprecationWarning)\n",
      "/Users/akuepper/anaconda/lib/python3.5/site-packages/sklearn/utils/validation.py:386: DeprecationWarning: Passing 1d arrays as data is deprecated in 0.17 and willraise ValueError in 0.19. Reshape your data either using X.reshape(-1, 1) if your data has a single feature or X.reshape(1, -1) if it contains a single sample.\n",
      "  DeprecationWarning)\n",
      "/Users/akuepper/anaconda/lib/python3.5/site-packages/sklearn/utils/validation.py:386: DeprecationWarning: Passing 1d arrays as data is deprecated in 0.17 and willraise ValueError in 0.19. Reshape your data either using X.reshape(-1, 1) if your data has a single feature or X.reshape(1, -1) if it contains a single sample.\n",
      "  DeprecationWarning)\n",
      "/Users/akuepper/anaconda/lib/python3.5/site-packages/sklearn/utils/validation.py:386: DeprecationWarning: Passing 1d arrays as data is deprecated in 0.17 and willraise ValueError in 0.19. Reshape your data either using X.reshape(-1, 1) if your data has a single feature or X.reshape(1, -1) if it contains a single sample.\n",
      "  DeprecationWarning)\n",
      "/Users/akuepper/anaconda/lib/python3.5/site-packages/sklearn/utils/validation.py:386: DeprecationWarning: Passing 1d arrays as data is deprecated in 0.17 and willraise ValueError in 0.19. Reshape your data either using X.reshape(-1, 1) if your data has a single feature or X.reshape(1, -1) if it contains a single sample.\n",
      "  DeprecationWarning)\n",
      "/Users/akuepper/anaconda/lib/python3.5/site-packages/sklearn/utils/validation.py:386: DeprecationWarning: Passing 1d arrays as data is deprecated in 0.17 and willraise ValueError in 0.19. Reshape your data either using X.reshape(-1, 1) if your data has a single feature or X.reshape(1, -1) if it contains a single sample.\n",
      "  DeprecationWarning)\n",
      "/Users/akuepper/anaconda/lib/python3.5/site-packages/sklearn/utils/validation.py:386: DeprecationWarning: Passing 1d arrays as data is deprecated in 0.17 and willraise ValueError in 0.19. Reshape your data either using X.reshape(-1, 1) if your data has a single feature or X.reshape(1, -1) if it contains a single sample.\n",
      "  DeprecationWarning)\n",
      "/Users/akuepper/anaconda/lib/python3.5/site-packages/sklearn/utils/validation.py:386: DeprecationWarning: Passing 1d arrays as data is deprecated in 0.17 and willraise ValueError in 0.19. Reshape your data either using X.reshape(-1, 1) if your data has a single feature or X.reshape(1, -1) if it contains a single sample.\n",
      "  DeprecationWarning)\n",
      "/Users/akuepper/anaconda/lib/python3.5/site-packages/sklearn/utils/validation.py:386: DeprecationWarning: Passing 1d arrays as data is deprecated in 0.17 and willraise ValueError in 0.19. Reshape your data either using X.reshape(-1, 1) if your data has a single feature or X.reshape(1, -1) if it contains a single sample.\n",
      "  DeprecationWarning)\n",
      "/Users/akuepper/anaconda/lib/python3.5/site-packages/sklearn/utils/validation.py:386: DeprecationWarning: Passing 1d arrays as data is deprecated in 0.17 and willraise ValueError in 0.19. Reshape your data either using X.reshape(-1, 1) if your data has a single feature or X.reshape(1, -1) if it contains a single sample.\n",
      "  DeprecationWarning)\n"
     ]
    },
    {
     "name": "stdout",
     "output_type": "stream",
     "text": [
      "b'HydePark' 2136 664.0\n",
      "b'WestRoxbury' 2132 320.0\n",
      "b'Roslindale' 2131 632.0\n",
      "b'Mattapan' 2126 658.0\n",
      "b'JamaicaPlain' 2130 535.0\n",
      "b'SouthDorchester' 2124 678.0\n",
      "b'SouthDorchester' 2122 656.0\n",
      "b'NorthDorchester' 2121 702.0\n",
      "b'NorthDorchester' 2125 639.0\n",
      "b'Roxbury' 2119 684.0\n",
      "b'Roxbury' 2120 566.0\n",
      "b'Fenway' 2215 465.0\n",
      "b'Fenway' 2115 487.0\n",
      "b'SouthEnd' 2118 409.0\n",
      "b'SouthEnd' 2111 472.0\n",
      "b'SouthBoston' 2127 439.0\n",
      "b'SouthBoston' 2210 360.0\n",
      "b'BackBay' 2199 366.0\n",
      "b'BackBay' 2116 457.0\n",
      "b'BackBay' 2110 305.0\n",
      "b'BackBay' 2113 377.0\n",
      "b'BackBay' 2114 427.0\n",
      "b'BackBay' 2109 393.0\n",
      "b'Charlestown' 2129 464.0\n",
      "b'Allston' 2134 451.0\n",
      "b'Allston' 2135 452.0\n",
      "b'Allston' 2163 465.0\n",
      "b'EastBoston' 2128 587.0\n"
     ]
    },
    {
     "name": "stderr",
     "output_type": "stream",
     "text": [
      "/Users/akuepper/anaconda/lib/python3.5/site-packages/sklearn/utils/validation.py:386: DeprecationWarning: Passing 1d arrays as data is deprecated in 0.17 and willraise ValueError in 0.19. Reshape your data either using X.reshape(-1, 1) if your data has a single feature or X.reshape(1, -1) if it contains a single sample.\n",
      "  DeprecationWarning)\n",
      "/Users/akuepper/anaconda/lib/python3.5/site-packages/sklearn/utils/validation.py:386: DeprecationWarning: Passing 1d arrays as data is deprecated in 0.17 and willraise ValueError in 0.19. Reshape your data either using X.reshape(-1, 1) if your data has a single feature or X.reshape(1, -1) if it contains a single sample.\n",
      "  DeprecationWarning)\n",
      "/Users/akuepper/anaconda/lib/python3.5/site-packages/sklearn/utils/validation.py:386: DeprecationWarning: Passing 1d arrays as data is deprecated in 0.17 and willraise ValueError in 0.19. Reshape your data either using X.reshape(-1, 1) if your data has a single feature or X.reshape(1, -1) if it contains a single sample.\n",
      "  DeprecationWarning)\n",
      "/Users/akuepper/anaconda/lib/python3.5/site-packages/sklearn/utils/validation.py:386: DeprecationWarning: Passing 1d arrays as data is deprecated in 0.17 and willraise ValueError in 0.19. Reshape your data either using X.reshape(-1, 1) if your data has a single feature or X.reshape(1, -1) if it contains a single sample.\n",
      "  DeprecationWarning)\n",
      "/Users/akuepper/anaconda/lib/python3.5/site-packages/sklearn/utils/validation.py:386: DeprecationWarning: Passing 1d arrays as data is deprecated in 0.17 and willraise ValueError in 0.19. Reshape your data either using X.reshape(-1, 1) if your data has a single feature or X.reshape(1, -1) if it contains a single sample.\n",
      "  DeprecationWarning)\n",
      "/Users/akuepper/anaconda/lib/python3.5/site-packages/sklearn/utils/validation.py:386: DeprecationWarning: Passing 1d arrays as data is deprecated in 0.17 and willraise ValueError in 0.19. Reshape your data either using X.reshape(-1, 1) if your data has a single feature or X.reshape(1, -1) if it contains a single sample.\n",
      "  DeprecationWarning)\n",
      "/Users/akuepper/anaconda/lib/python3.5/site-packages/sklearn/utils/validation.py:386: DeprecationWarning: Passing 1d arrays as data is deprecated in 0.17 and willraise ValueError in 0.19. Reshape your data either using X.reshape(-1, 1) if your data has a single feature or X.reshape(1, -1) if it contains a single sample.\n",
      "  DeprecationWarning)\n",
      "/Users/akuepper/anaconda/lib/python3.5/site-packages/sklearn/utils/validation.py:386: DeprecationWarning: Passing 1d arrays as data is deprecated in 0.17 and willraise ValueError in 0.19. Reshape your data either using X.reshape(-1, 1) if your data has a single feature or X.reshape(1, -1) if it contains a single sample.\n",
      "  DeprecationWarning)\n",
      "/Users/akuepper/anaconda/lib/python3.5/site-packages/sklearn/utils/validation.py:386: DeprecationWarning: Passing 1d arrays as data is deprecated in 0.17 and willraise ValueError in 0.19. Reshape your data either using X.reshape(-1, 1) if your data has a single feature or X.reshape(1, -1) if it contains a single sample.\n",
      "  DeprecationWarning)\n",
      "/Users/akuepper/anaconda/lib/python3.5/site-packages/sklearn/utils/validation.py:386: DeprecationWarning: Passing 1d arrays as data is deprecated in 0.17 and willraise ValueError in 0.19. Reshape your data either using X.reshape(-1, 1) if your data has a single feature or X.reshape(1, -1) if it contains a single sample.\n",
      "  DeprecationWarning)\n",
      "/Users/akuepper/anaconda/lib/python3.5/site-packages/sklearn/utils/validation.py:386: DeprecationWarning: Passing 1d arrays as data is deprecated in 0.17 and willraise ValueError in 0.19. Reshape your data either using X.reshape(-1, 1) if your data has a single feature or X.reshape(1, -1) if it contains a single sample.\n",
      "  DeprecationWarning)\n"
     ]
    }
   ],
   "source": [
    "predictions = np.zeros(len(df_boston))\n",
    "i = 0\n",
    "for hood in df_boston:\n",
    "    average = 0.0\n",
    "    count = 0\n",
    "    if (hood[\"zip1\"]):\n",
    "        target = df_zipcode[df_zipcode[\"geoid2\"]==int(hood[\"zip1\"])]\n",
    "        target_params = target.values[0]\n",
    "        chlamydia_rate = model.predict(target_params[1:])*Ystd+Ymean\n",
    "        average += chlamydia_rate[0]*1e5\n",
    "        count += 1\n",
    "        print(hood[\"Neighborhood\"], hood[\"zip1\"],round(chlamydia_rate[0]*1e5))\n",
    "    if (hood[\"zip2\"]):\n",
    "        target = df_zipcode[df_zipcode[\"geoid2\"]==int(hood[\"zip2\"])]\n",
    "        target_params = target.values[0]\n",
    "        chlamydia_rate = model.predict(target_params[1:])*Ystd+Ymean\n",
    "        average += chlamydia_rate[0]*1e5\n",
    "        count += 1\n",
    "        print(hood[\"Neighborhood\"], hood[\"zip2\"],round(chlamydia_rate[0]*1e5))\n",
    "    if (hood[\"zip3\"]):\n",
    "        target = df_zipcode[df_zipcode[\"geoid2\"]==int(hood[\"zip3\"])]\n",
    "        target_params = target.values[0]\n",
    "        chlamydia_rate = model.predict(target_params[1:])*Ystd+Ymean\n",
    "        average += chlamydia_rate[0]*1e5\n",
    "        count += 1\n",
    "        print(hood[\"Neighborhood\"], hood[\"zip3\"],round(chlamydia_rate[0]*1e5))\n",
    "    if (hood[\"zip4\"]):\n",
    "        target = df_zipcode[df_zipcode[\"geoid2\"]==int(hood[\"zip4\"])]\n",
    "        target_params = target.values[0]\n",
    "        chlamydia_rate = model.predict(target_params[1:])*Ystd+Ymean\n",
    "        average += chlamydia_rate[0]*1e5\n",
    "        count += 1\n",
    "        print(hood[\"Neighborhood\"], hood[\"zip4\"],round(chlamydia_rate[0]*1e5))\n",
    "    if (hood[\"zip5\"]):\n",
    "        target = df_zipcode[df_zipcode[\"geoid2\"]==int(hood[\"zip5\"])]\n",
    "        target_params = target.values[0]\n",
    "        chlamydia_rate = model.predict(target_params[1:])*Ystd+Ymean\n",
    "        average += chlamydia_rate[0]*1e5\n",
    "        count += 1\n",
    "        print(hood[\"Neighborhood\"], hood[\"zip5\"],round(chlamydia_rate[0]*1e5))\n",
    "    if (hood[\"zip6\"]):\n",
    "        target = df_zipcode[df_zipcode[\"geoid2\"]==int(hood[\"zip6\"])]\n",
    "        target_params = target.values[0]\n",
    "        chlamydia_rate = model.predict(target_params[1:])*Ystd+Ymean\n",
    "        average += chlamydia_rate[0]*1e5\n",
    "        count += 1\n",
    "        print(hood[\"Neighborhood\"], hood[\"zip6\"],round(chlamydia_rate[0]*1e5))\n",
    "    average /= count\n",
    "    predictions[i] = average\n",
    "    i+=1"
   ]
  },
  {
   "cell_type": "code",
   "execution_count": 22,
   "metadata": {
    "collapsed": false
   },
   "outputs": [
    {
     "data": {
      "text/plain": [
       "(15,)"
      ]
     },
     "execution_count": 22,
     "metadata": {},
     "output_type": "execute_result"
    }
   ],
   "source": [
    "len(predictions), "
   ]
  },
  {
   "cell_type": "code",
   "execution_count": 23,
   "metadata": {
    "collapsed": false
   },
   "outputs": [],
   "source": [
    "df_boston_rates = np.genfromtxt(\"../data/rate_boston.txt\", dtype=[('Neighborhood','S20'),('mean','i8'),('error','i8')], delimiter=\",\")"
   ]
  },
  {
   "cell_type": "code",
   "execution_count": 24,
   "metadata": {
    "collapsed": false
   },
   "outputs": [
    {
     "name": "stderr",
     "output_type": "stream",
     "text": [
      "/Users/akuepper/anaconda/lib/python3.5/site-packages/matplotlib/collections.py:590: FutureWarning: elementwise comparison failed; returning scalar instead, but in the future will perform elementwise comparison\n",
      "  if self._edgecolors == str('face'):\n"
     ]
    },
    {
     "data": {
      "image/png": "[encoded data removed]",
      "text/plain": [
       "<matplotlib.figure.Figure at 0x115d5e320>"
      ]
     },
     "metadata": {},
     "output_type": "display_data"
    }
   ],
   "source": [
    "fig = plt.figure(figsize=(10, 6))\n",
    "data = np.arange(len(df_boston_rates['Neighborhood']))\n",
    "ax1 = plt.scatter(data,predictions)\n",
    "plt.xlabel(\"Neighborhood\")\n",
    "plt.ylabel(\"Chlamydia cases [per 100,000]\")\n",
    "ax2 = plt.errorbar(data, df_boston_rates[\"mean\"], yerr=df_boston_rates[\"error\"],fmt='o', color='red')\n",
    "plt.savefig('../graphics/boston_comparison.png', bbox_inches='tight', dpi=150)"
   ]
  },
  {
   "cell_type": "markdown",
   "metadata": {
    "collapsed": true
   },
   "source": [
    "# Plots for website"
   ]
  },
  {
   "cell_type": "code",
   "execution_count": null,
   "metadata": {
    "collapsed": true
   },
   "outputs": [],
   "source": []
  },
  {
   "cell_type": "code",
   "execution_count": null,
   "metadata": {
    "collapsed": true
   },
   "outputs": [],
   "source": []
  },
  {
   "cell_type": "code",
   "execution_count": null,
   "metadata": {
    "collapsed": true
   },
   "outputs": [],
   "source": []
  }
 ],
 "metadata": {
  "kernelspec": {
   "display_name": "Python 3",
   "language": "python",
   "name": "python3"
  },
  "language_info": {
   "codemirror_mode": {
    "name": "ipython",
    "version": 3
   },
   "file_extension": ".py",
   "mimetype": "text/x-python",
   "name": "python",
   "nbconvert_exporter": "python",
   "pygments_lexer": "ipython3",
   "version": "3.5.1"
  }
 },
 "nbformat": 4,
 "nbformat_minor": 0
}
