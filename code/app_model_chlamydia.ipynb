{
 "cells": [
  {
   "cell_type": "markdown",
   "metadata": {},
   "source": [
    "# A first simple model"
   ]
  },
  {
   "cell_type": "code",
   "execution_count": 106,
   "metadata": {
    "collapsed": true
   },
   "outputs": [],
   "source": [
    "import pandas as pd\n",
    "import pickle"
   ]
  },
  {
   "cell_type": "code",
   "execution_count": 107,
   "metadata": {
    "collapsed": true
   },
   "outputs": [],
   "source": [
    "df_merged = pd.read_csv(\"../data/chlamydia_cdc_census.csv\")"
   ]
  },
  {
   "cell_type": "code",
   "execution_count": 108,
   "metadata": {
    "collapsed": true
   },
   "outputs": [],
   "source": [
    "df_zipfips= pd.read_csv(\"../data/ZIP_COUNTY_122014.csv\", usecols={0,1})"
   ]
  },
  {
   "cell_type": "code",
   "execution_count": 109,
   "metadata": {
    "collapsed": true
   },
   "outputs": [],
   "source": [
    "zip2fips = dict(zip(df_zipfips[\"ZIP\"], df_zipfips[\"COUNTY\"]))"
   ]
  },
  {
   "cell_type": "code",
   "execution_count": 110,
   "metadata": {
    "collapsed": false
   },
   "outputs": [],
   "source": [
    "fips = zip2fips[10027]"
   ]
  },
  {
   "cell_type": "code",
   "execution_count": 111,
   "metadata": {
    "collapsed": false
   },
   "outputs": [
    {
     "data": {
      "text/plain": [
       "(1, 50)"
      ]
     },
     "execution_count": 111,
     "metadata": {},
     "output_type": "execute_result"
    }
   ],
   "source": [
    "target = df_merged[df_merged['FIPS']==fips]\n",
    "target.shape"
   ]
  },
  {
   "cell_type": "code",
   "execution_count": 112,
   "metadata": {
    "collapsed": false
   },
   "outputs": [],
   "source": [
    "target_params = target.values[0]"
   ]
  },
  {
   "cell_type": "code",
   "execution_count": 113,
   "metadata": {
    "collapsed": true
   },
   "outputs": [],
   "source": [
    "model = pickle.load(open('../data/randomforest_params.pickle', \"rb\" ))"
   ]
  },
  {
   "cell_type": "code",
   "execution_count": 114,
   "metadata": {
    "collapsed": false
   },
   "outputs": [
    {
     "name": "stderr",
     "output_type": "stream",
     "text": [
      "/Users/akuepper/anaconda/lib/python3.5/site-packages/sklearn/utils/validation.py:386: DeprecationWarning: Passing 1d arrays as data is deprecated in 0.17 and willraise ValueError in 0.19. Reshape your data either using X.reshape(-1, 1) if your data has a single feature or X.reshape(1, -1) if it contains a single sample.\n",
      "  DeprecationWarning)\n"
     ]
    }
   ],
   "source": [
    "chlamydia_rate = model.predict(target_params[5:])"
   ]
  },
  {
   "cell_type": "code",
   "execution_count": 121,
   "metadata": {
    "collapsed": false
   },
   "outputs": [
    {
     "data": {
      "text/plain": [
       "(2.0094210449309635,\n",
       " 0.33767371499492893,\n",
       " 3.360990707281132,\n",
       " 1.0970021725482926,\n",
       " 0.3385485173653821,\n",
       " 1.8706190688190578,\n",
       " 0.5452934775824846)"
      ]
     },
     "execution_count": 121,
     "metadata": {},
     "output_type": "execute_result"
    }
   ],
   "source": [
    "gender_rate = {}\n",
    "gender_factor = {}\n",
    "gender_number = {}\n",
    "gender_rate[\"Male\"] = 278.4e-5\n",
    "gender_rate[\"Female\"] = 627.2e-5\n",
    "gender_number[\"Male\"] = 155651602\n",
    "gender_number[\"Female\"] = 160477237\n",
    "rate_average = (gender_rate[\"Male\"]*gender_number[\"Male\"]+gender_rate[\"Female\"]*gender_number[\"Male\"])/(gender_number[\"Male\"]+gender_number[\"Female\"])\n",
    "gender_factor[\"Male\"] = gender_rate[\"Male\"]/rate_average\n",
    "gender_factor[\"Female\"] = gender_rate[\"Female\"]/rate_average\n",
    "gender_factor[\"Female\"], gender_factor[\"Male\"]\n",
    "race_rate = {}\n",
    "race_factor = {}\n",
    "race_number = {}\n",
    "race_number[\"Native\"] = 1942876.0\n",
    "race_number[\"Asian\"] = 12721721.0\n",
    "race_number[\"Black\"] = 29489649.0\n",
    "race_number[\"Hispanic\"] = 46407173.0\n",
    "race_number[\"Multiple\"] = 5145135.0\n",
    "race_number[\"Pacific\"] = 473703.0\n",
    "race_number[\"White\"] = 161443167.0\n",
    "race_rate[\"Native\"] = 689.1e-5\n",
    "race_rate[\"Asian\"] = 115.8e-5\n",
    "race_rate[\"Black\"] = 1152.6e-5\n",
    "race_rate[\"Hispanic\"] = 376.2e-5\n",
    "race_rate[\"Multiple\"] = 116.1e-5\n",
    "race_rate[\"Pacific\"] = 641.5e-5\n",
    "race_rate[\"White\"] = 187.0e-5\n",
    "US_number = race_number[\"Native\"] + race_number[\"Asian\"] + race_number[\"Black\"] + race_number[\"Hispanic\"] + race_number[\"Multiple\"] + race_number[\"Pacific\"] + race_number[\"White\"]\n",
    "rate_average = (race_rate[\"Native\"]*race_number[\"Native\"]+race_rate[\"Asian\"]*race_number[\"Asian\"]+race_rate[\"Black\"]*race_number[\"Black\"]+race_rate[\"Hispanic\"]*race_number[\"Hispanic\"]+race_rate[\"Multiple\"]*race_number[\"Multiple\"]+race_rate[\"Pacific\"]*race_number[\"Multiple\"]+race_rate[\"White\"]*race_number[\"White\"])/US_number  \n",
    "race_factor[\"Native\"] = race_rate[\"Native\"]/rate_average\n",
    "race_factor[\"Asian\"] = race_rate[\"Asian\"]/rate_average\n",
    "race_factor[\"Black\"] = race_rate[\"Black\"]/rate_average\n",
    "race_factor[\"Hispanic\"] = race_rate[\"Hispanic\"]/rate_average\n",
    "race_factor[\"Multiple\"] = race_rate[\"Multiple\"]/rate_average\n",
    "race_factor[\"Pacific\"] = race_rate[\"Pacific\"]/rate_average\n",
    "race_factor[\"White\"] = race_rate[\"White\"]/rate_average\n",
    "\n",
    "age_rate = {}\n",
    "age_factor = {}\n",
    "age_number = {}\n",
    "age_number[\"0-14\"] = 61089123.0\n",
    "age_number[\"15-19\"] = 21158964.0\n",
    "age_number[\"20-24\"] = 22795438.0\n",
    "age_number[\"25-29\"] = 21580198.0\n",
    "age_number[\"30-34\"] = 21264389.0\n",
    "age_number[\"35-39\"] = 19603770.0\n",
    "age_number[\"40-44\"] = 20848920.0\n",
    "age_number[\"45-54\"] = 43767532.0\n",
    "age_number[\"55-64\"] = 39316431.0\n",
    "age_number[\"65+\"] = 44704074.0\n",
    "\n",
    "age_rate[\"0-14\"] = 20.0e-5\n",
    "age_rate[\"15-19\"] = 1804.0e-5\n",
    "age_rate[\"20-24\"] = 2484.6e-5\n",
    "age_rate[\"25-29\"] = 1176.2e-5\n",
    "age_rate[\"30-34\"] = 532.4e-5\n",
    "age_rate[\"35-39\"] = 268.0e-5\n",
    "age_rate[\"40-44\"] = 131.5e-5\n",
    "age_rate[\"45-54\"] = 56.6e-5\n",
    "age_rate[\"55-64\"] = 16.6e-5\n",
    "age_rate[\"65+\"] = 3.2e-5\n",
    "\n",
    "US_age_number = age_number[\"0-14\"] + age_number[\"15-19\"] + age_number[\"20-24\"] + age_number[\"25-29\"] + age_number[\"30-34\"] + age_number[\"35-39\"] + age_number[\"40-44\"] + age_number[\"45-54\"] + age_number[\"55-64\"] + age_number[\"65+\"]\n",
    "rate_average = (age_rate[\"0-14\"]*age_number[\"0-14\"]+age_rate[\"15-19\"]*age_number[\"15-19\"]+age_rate[\"20-24\"]*age_number[\"20-24\"]+age_rate[\"25-29\"]*age_number[\"25-29\"]+age_rate[\"30-34\"]*age_number[\"30-34\"]+age_rate[\"35-39\"]*age_number[\"35-39\"]+age_rate[\"40-44\"]*age_number[\"40-44\"]+age_rate[\"45-54\"]*age_number[\"45-54\"]+age_rate[\"55-64\"]*age_number[\"55-64\"]+age_rate[\"65+\"]*age_number[\"65+\"])/US_age_number  \n",
    "age_factor[\"0-14\"] = age_rate[\"0-14\"]/rate_average\n",
    "age_factor[\"15-19\"] = age_rate[\"15-19\"]/rate_average\n",
    "age_factor[\"20-24\"] = age_rate[\"20-24\"]/rate_average\n",
    "age_factor[\"25-29\"] = age_rate[\"30-34\"]/rate_average\n",
    "age_factor[\"30-34\"] = age_rate[\"30-34\"]/rate_average\n",
    "age_factor[\"35-39\"] = age_rate[\"35-39\"]/rate_average\n",
    "age_factor[\"40-44\"] = age_rate[\"40-44\"]/rate_average\n",
    "age_factor[\"45-54\"] = age_rate[\"45-54\"]/rate_average\n",
    "age_factor[\"55-64\"] = age_rate[\"55-64\"]/rate_average\n",
    "age_factor[\"65+\"] = age_rate[\"65+\"]/rate_average\n",
    "\n",
    "race_factor[\"Native\"], race_factor[\"Asian\"], race_factor[\"Black\"], race_factor[\"Hispanic\"], race_factor[\"Multiple\"], race_factor[\"Pacific\"], race_factor[\"White\"]\n",
    "#age_factor[\"0-14\"], age_factor[\"15-19\"], age_factor[\"20-24\"], age_factor[\"25-29\"], age_factor[\"30-34\"], age_factor[\"35-39\"], age_factor[\"40-44\"], age_factor[\"45-54\"], age_factor[\"55-64\"], age_factor[\"65+\"]"
   ]
  },
  {
   "cell_type": "code",
   "execution_count": 116,
   "metadata": {
    "collapsed": false
   },
   "outputs": [
    {
     "name": "stdout",
     "output_type": "stream",
     "text": [
      "Your individual chance of having Chlamydia is 7.23 percent\n"
     ]
    },
    {
     "name": "stderr",
     "output_type": "stream",
     "text": [
      "/Users/akuepper/anaconda/lib/python3.5/site-packages/sklearn/utils/validation.py:386: DeprecationWarning: Passing 1d arrays as data is deprecated in 0.17 and willraise ValueError in 0.19. Reshape your data either using X.reshape(-1, 1) if your data has a single feature or X.reshape(1, -1) if it contains a single sample.\n",
      "  DeprecationWarning)\n"
     ]
    }
   ],
   "source": [
    "def calculate_rate(Zipcode, Race, Gender, Age):\n",
    "    fips = zip2fips[int(Zipcode)]\n",
    "    target = df_merged[df_merged['FIPS']==fips]\n",
    "    target_params = target.values[0]\n",
    "    chlamydia_rate = model.predict(target_params[5:])\n",
    "    return chlamydia_rate*gender_factor[Gender]*race_factor[Race]*age_factor[Age]\n",
    "\n",
    "Race = \"Black\"\n",
    "Gender = \"Female\"\n",
    "Age = \"20-24\"\n",
    "Zipcode = \"02139\"\n",
    "print(\"Your individual chance of having Chlamydia is %.2f percent\"%(calculate_rate(Zipcode, Race, Gender, Age)*100))"
   ]
  },
  {
   "cell_type": "markdown",
   "metadata": {
    "collapsed": true
   },
   "source": [
    "## ZIP code census data base"
   ]
  },
  {
   "cell_type": "code",
   "execution_count": 117,
   "metadata": {
    "collapsed": true
   },
   "outputs": [],
   "source": [
    "df_zipcode = pd.read_csv(\"../data/census_zipcode.csv\")"
   ]
  },
  {
   "cell_type": "code",
   "execution_count": 118,
   "metadata": {
    "collapsed": false
   },
   "outputs": [
    {
     "data": {
      "text/html": [
       "<div>\n",
       "<table border=\"1\" class=\"dataframe\">\n",
       "  <thead>\n",
       "    <tr style=\"text-align: right;\">\n",
       "      <th></th>\n",
       "      <th>Unnamed: 0</th>\n",
       "      <th>geoid2</th>\n",
       "      <th>hd01s001</th>\n",
       "      <th>hd02s002</th>\n",
       "      <th>hd02s003</th>\n",
       "      <th>hd02s004</th>\n",
       "      <th>hd02s005</th>\n",
       "      <th>hd02s006</th>\n",
       "      <th>hd02s007</th>\n",
       "      <th>hd02s008</th>\n",
       "      <th>...</th>\n",
       "      <th>hd02s143</th>\n",
       "      <th>hd02s151</th>\n",
       "      <th>hd02s152</th>\n",
       "      <th>hd02s153</th>\n",
       "      <th>hd02s154</th>\n",
       "      <th>hd02s159</th>\n",
       "      <th>hd01s167</th>\n",
       "      <th>hd01s168</th>\n",
       "      <th>hd02s181</th>\n",
       "      <th>hd02s184</th>\n",
       "    </tr>\n",
       "  </thead>\n",
       "  <tbody>\n",
       "    <tr>\n",
       "      <th>0</th>\n",
       "      <td>0</td>\n",
       "      <td>601</td>\n",
       "      <td>18570</td>\n",
       "      <td>6.1</td>\n",
       "      <td>6.7</td>\n",
       "      <td>7.8</td>\n",
       "      <td>8.4</td>\n",
       "      <td>7</td>\n",
       "      <td>6.9</td>\n",
       "      <td>6.1</td>\n",
       "      <td>...</td>\n",
       "      <td>0.3</td>\n",
       "      <td>77.8</td>\n",
       "      <td>34.7</td>\n",
       "      <td>52.3</td>\n",
       "      <td>22.5</td>\n",
       "      <td>22.2</td>\n",
       "      <td>2.84</td>\n",
       "      <td>3.27</td>\n",
       "      <td>67.3</td>\n",
       "      <td>32.7</td>\n",
       "    </tr>\n",
       "    <tr>\n",
       "      <th>1</th>\n",
       "      <td>1</td>\n",
       "      <td>602</td>\n",
       "      <td>41520</td>\n",
       "      <td>5.5</td>\n",
       "      <td>6</td>\n",
       "      <td>7.3</td>\n",
       "      <td>7.9</td>\n",
       "      <td>7.2</td>\n",
       "      <td>6.3</td>\n",
       "      <td>6.7</td>\n",
       "      <td>...</td>\n",
       "      <td>0.2</td>\n",
       "      <td>77.6</td>\n",
       "      <td>32.7</td>\n",
       "      <td>55.1</td>\n",
       "      <td>22.6</td>\n",
       "      <td>22.4</td>\n",
       "      <td>2.76</td>\n",
       "      <td>3.20</td>\n",
       "      <td>77.5</td>\n",
       "      <td>22.5</td>\n",
       "    </tr>\n",
       "    <tr>\n",
       "      <th>2</th>\n",
       "      <td>2</td>\n",
       "      <td>603</td>\n",
       "      <td>54689</td>\n",
       "      <td>5.9</td>\n",
       "      <td>6.3</td>\n",
       "      <td>7</td>\n",
       "      <td>7.2</td>\n",
       "      <td>6.6</td>\n",
       "      <td>6.4</td>\n",
       "      <td>6.5</td>\n",
       "      <td>...</td>\n",
       "      <td>2.1</td>\n",
       "      <td>71.1</td>\n",
       "      <td>29.8</td>\n",
       "      <td>44.4</td>\n",
       "      <td>17.1</td>\n",
       "      <td>28.9</td>\n",
       "      <td>2.53</td>\n",
       "      <td>3.06</td>\n",
       "      <td>64.9</td>\n",
       "      <td>35.1</td>\n",
       "    </tr>\n",
       "    <tr>\n",
       "      <th>3</th>\n",
       "      <td>3</td>\n",
       "      <td>606</td>\n",
       "      <td>6615</td>\n",
       "      <td>6.6</td>\n",
       "      <td>6.2</td>\n",
       "      <td>7.4</td>\n",
       "      <td>7.7</td>\n",
       "      <td>7.8</td>\n",
       "      <td>6.9</td>\n",
       "      <td>6.1</td>\n",
       "      <td>...</td>\n",
       "      <td>0.2</td>\n",
       "      <td>74.6</td>\n",
       "      <td>31.6</td>\n",
       "      <td>50</td>\n",
       "      <td>20.8</td>\n",
       "      <td>25.4</td>\n",
       "      <td>2.75</td>\n",
       "      <td>3.24</td>\n",
       "      <td>72.3</td>\n",
       "      <td>27.7</td>\n",
       "    </tr>\n",
       "    <tr>\n",
       "      <th>4</th>\n",
       "      <td>4</td>\n",
       "      <td>610</td>\n",
       "      <td>29016</td>\n",
       "      <td>5.7</td>\n",
       "      <td>6.1</td>\n",
       "      <td>7.6</td>\n",
       "      <td>7.5</td>\n",
       "      <td>6.4</td>\n",
       "      <td>6.2</td>\n",
       "      <td>6.7</td>\n",
       "      <td>...</td>\n",
       "      <td>0.4</td>\n",
       "      <td>74.4</td>\n",
       "      <td>31.2</td>\n",
       "      <td>49.6</td>\n",
       "      <td>19.9</td>\n",
       "      <td>25.6</td>\n",
       "      <td>2.67</td>\n",
       "      <td>3.14</td>\n",
       "      <td>77.5</td>\n",
       "      <td>22.5</td>\n",
       "    </tr>\n",
       "  </tbody>\n",
       "</table>\n",
       "<p>5 rows × 47 columns</p>\n",
       "</div>"
      ],
      "text/plain": [
       "   Unnamed: 0  geoid2  hd01s001 hd02s002 hd02s003 hd02s004 hd02s005 hd02s006  \\\n",
       "0           0     601     18570      6.1      6.7      7.8      8.4        7   \n",
       "1           1     602     41520      5.5        6      7.3      7.9      7.2   \n",
       "2           2     603     54689      5.9      6.3        7      7.2      6.6   \n",
       "3           3     606      6615      6.6      6.2      7.4      7.7      7.8   \n",
       "4           4     610     29016      5.7      6.1      7.6      7.5      6.4   \n",
       "\n",
       "  hd02s007 hd02s008   ...    hd02s143 hd02s151 hd02s152 hd02s153 hd02s154  \\\n",
       "0      6.9      6.1   ...         0.3     77.8     34.7     52.3     22.5   \n",
       "1      6.3      6.7   ...         0.2     77.6     32.7     55.1     22.6   \n",
       "2      6.4      6.5   ...         2.1     71.1     29.8     44.4     17.1   \n",
       "3      6.9      6.1   ...         0.2     74.6     31.6       50     20.8   \n",
       "4      6.2      6.7   ...         0.4     74.4     31.2     49.6     19.9   \n",
       "\n",
       "  hd02s159 hd01s167 hd01s168 hd02s181 hd02s184  \n",
       "0     22.2     2.84     3.27     67.3     32.7  \n",
       "1     22.4     2.76     3.20     77.5     22.5  \n",
       "2     28.9     2.53     3.06     64.9     35.1  \n",
       "3     25.4     2.75     3.24     72.3     27.7  \n",
       "4     25.6     2.67     3.14     77.5     22.5  \n",
       "\n",
       "[5 rows x 47 columns]"
      ]
     },
     "execution_count": 118,
     "metadata": {},
     "output_type": "execute_result"
    }
   ],
   "source": [
    "df_zipcode.head()"
   ]
  },
  {
   "cell_type": "code",
   "execution_count": 119,
   "metadata": {
    "collapsed": false
   },
   "outputs": [
    {
     "data": {
      "text/html": [
       "<div>\n",
       "<table border=\"1\" class=\"dataframe\">\n",
       "  <thead>\n",
       "    <tr style=\"text-align: right;\">\n",
       "      <th></th>\n",
       "      <th>Unnamed: 0</th>\n",
       "      <th>geoid2</th>\n",
       "      <th>hd01s001</th>\n",
       "      <th>hd02s002</th>\n",
       "      <th>hd02s003</th>\n",
       "      <th>hd02s004</th>\n",
       "      <th>hd02s005</th>\n",
       "      <th>hd02s006</th>\n",
       "      <th>hd02s007</th>\n",
       "      <th>hd02s008</th>\n",
       "      <th>...</th>\n",
       "      <th>hd02s143</th>\n",
       "      <th>hd02s151</th>\n",
       "      <th>hd02s152</th>\n",
       "      <th>hd02s153</th>\n",
       "      <th>hd02s154</th>\n",
       "      <th>hd02s159</th>\n",
       "      <th>hd01s167</th>\n",
       "      <th>hd01s168</th>\n",
       "      <th>hd02s181</th>\n",
       "      <th>hd02s184</th>\n",
       "    </tr>\n",
       "  </thead>\n",
       "  <tbody>\n",
       "    <tr>\n",
       "      <th>488</th>\n",
       "      <td>488</td>\n",
       "      <td>2139</td>\n",
       "      <td>36349</td>\n",
       "      <td>4.2</td>\n",
       "      <td>2.9</td>\n",
       "      <td>2.5</td>\n",
       "      <td>6.7</td>\n",
       "      <td>16.8</td>\n",
       "      <td>19.1</td>\n",
       "      <td>12.1</td>\n",
       "      <td>...</td>\n",
       "      <td>16.9</td>\n",
       "      <td>37.6</td>\n",
       "      <td>15.7</td>\n",
       "      <td>25.9</td>\n",
       "      <td>9.7</td>\n",
       "      <td>62.4</td>\n",
       "      <td>2.08</td>\n",
       "      <td>2.81</td>\n",
       "      <td>32.2</td>\n",
       "      <td>67.8</td>\n",
       "    </tr>\n",
       "  </tbody>\n",
       "</table>\n",
       "<p>1 rows × 47 columns</p>\n",
       "</div>"
      ],
      "text/plain": [
       "     Unnamed: 0  geoid2  hd01s001 hd02s002 hd02s003 hd02s004 hd02s005  \\\n",
       "488         488    2139     36349      4.2      2.9      2.5      6.7   \n",
       "\n",
       "    hd02s006 hd02s007 hd02s008   ...    hd02s143 hd02s151 hd02s152 hd02s153  \\\n",
       "488     16.8     19.1     12.1   ...        16.9     37.6     15.7     25.9   \n",
       "\n",
       "    hd02s154 hd02s159 hd01s167 hd01s168 hd02s181 hd02s184  \n",
       "488      9.7     62.4     2.08     2.81     32.2     67.8  \n",
       "\n",
       "[1 rows x 47 columns]"
      ]
     },
     "execution_count": 119,
     "metadata": {},
     "output_type": "execute_result"
    }
   ],
   "source": [
    "df_zipcode[df_zipcode[\"geoid2\"]==int(Zipcode)]"
   ]
  },
  {
   "cell_type": "code",
   "execution_count": 120,
   "metadata": {
    "collapsed": false
   },
   "outputs": [
    {
     "name": "stdout",
     "output_type": "stream",
     "text": [
      "Your individual chance of having Chlamydia is 0.12 percent\n"
     ]
    },
    {
     "name": "stderr",
     "output_type": "stream",
     "text": [
      "/Users/akuepper/anaconda/lib/python3.5/site-packages/sklearn/utils/validation.py:386: DeprecationWarning: Passing 1d arrays as data is deprecated in 0.17 and willraise ValueError in 0.19. Reshape your data either using X.reshape(-1, 1) if your data has a single feature or X.reshape(1, -1) if it contains a single sample.\n",
      "  DeprecationWarning)\n"
     ]
    }
   ],
   "source": [
    "def calculate_rate(Zipcode, Race, Gender, Age):\n",
    "    target = df_zipcode[df_zipcode[\"geoid2\"]==int(Zipcode)]\n",
    "    target_params = target.values[0]\n",
    "    chlamydia_rate = model.predict(target_params[2:])\n",
    "    return chlamydia_rate*gender_factor[Gender]*race_factor[Race]*age_factor[Age]\n",
    "\n",
    "Race = \"White\"\n",
    "Gender = \"Male\"\n",
    "Age = \"35-39\"\n",
    "Zipcode = \"02139\"\n",
    "print(\"Your individual chance of having Chlamydia is %.2f percent\"%(calculate_rate(Zipcode, Race, Gender, Age)*100))"
   ]
  },
  {
   "cell_type": "code",
   "execution_count": null,
   "metadata": {
    "collapsed": true
   },
   "outputs": [],
   "source": []
  },
  {
   "cell_type": "code",
   "execution_count": null,
   "metadata": {
    "collapsed": true
   },
   "outputs": [],
   "source": []
  },
  {
   "cell_type": "code",
   "execution_count": null,
   "metadata": {
    "collapsed": true
   },
   "outputs": [],
   "source": []
  }
 ],
 "metadata": {
  "kernelspec": {
   "display_name": "Python 3",
   "language": "python",
   "name": "python3"
  },
  "language_info": {
   "codemirror_mode": {
    "name": "ipython",
    "version": 3
   },
   "file_extension": ".py",
   "mimetype": "text/x-python",
   "name": "python",
   "nbconvert_exporter": "python",
   "pygments_lexer": "ipython3",
   "version": "3.5.1"
  }
 },
 "nbformat": 4,
 "nbformat_minor": 0
}
