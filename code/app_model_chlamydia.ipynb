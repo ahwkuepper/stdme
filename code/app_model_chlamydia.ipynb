{
 "cells": [
  {
   "cell_type": "markdown",
   "metadata": {},
   "source": [
    "# A first simple model"
   ]
  },
  {
   "cell_type": "code",
   "execution_count": 1,
   "metadata": {
    "collapsed": true
   },
   "outputs": [],
   "source": [
    "import pandas as pd\n",
    "import pickle\n",
    "import numpy as np\n",
    "import matplotlib as mpl\n",
    "import matplotlib.pyplot as plt\n",
    "import seaborn as sns\n",
    "%matplotlib inline"
   ]
  },
  {
   "cell_type": "code",
   "execution_count": 2,
   "metadata": {
    "collapsed": true
   },
   "outputs": [],
   "source": [
    "# Plain Seaborn figures with matplotlib color codes mapped to the default seaborn palette \n",
    "sns.set(style=\"white\", color_codes=True)"
   ]
  },
  {
   "cell_type": "code",
   "execution_count": 3,
   "metadata": {
    "collapsed": false
   },
   "outputs": [
    {
     "data": {
      "text/html": [
       "<div>\n",
       "<table border=\"1\" class=\"dataframe\">\n",
       "  <thead>\n",
       "    <tr style=\"text-align: right;\">\n",
       "      <th></th>\n",
       "      <th>FIPS</th>\n",
       "      <th>Population</th>\n",
       "      <th>hd01s001</th>\n",
       "      <th>hd02s002</th>\n",
       "      <th>hd02s005</th>\n",
       "      <th>hd02s006</th>\n",
       "      <th>hd02s007</th>\n",
       "      <th>hd02s008</th>\n",
       "      <th>hd02s009</th>\n",
       "      <th>hd02s010</th>\n",
       "      <th>...</th>\n",
       "      <th>hd01s168</th>\n",
       "      <th>hd02s181</th>\n",
       "      <th>hd02s184</th>\n",
       "      <th>hd01vd01</th>\n",
       "      <th>d002</th>\n",
       "      <th>d014</th>\n",
       "      <th>d019</th>\n",
       "      <th>d024</th>\n",
       "      <th>d029</th>\n",
       "      <th>lnd110210d</th>\n",
       "    </tr>\n",
       "  </thead>\n",
       "  <tbody>\n",
       "    <tr>\n",
       "      <th>0</th>\n",
       "      <td>1001</td>\n",
       "      <td>55246</td>\n",
       "      <td>4.736962</td>\n",
       "      <td>21.8</td>\n",
       "      <td>7.9</td>\n",
       "      <td>5.6</td>\n",
       "      <td>5.8</td>\n",
       "      <td>6.1</td>\n",
       "      <td>7.6</td>\n",
       "      <td>7.5</td>\n",
       "      <td>...</td>\n",
       "      <td>3.13</td>\n",
       "      <td>75.4</td>\n",
       "      <td>24.6</td>\n",
       "      <td>52475</td>\n",
       "      <td>0.562138</td>\n",
       "      <td>0.003017</td>\n",
       "      <td>0.020029</td>\n",
       "      <td>0.002868</td>\n",
       "      <td>0.017704</td>\n",
       "      <td>92.781808</td>\n",
       "    </tr>\n",
       "    <tr>\n",
       "      <th>1</th>\n",
       "      <td>1003</td>\n",
       "      <td>195540</td>\n",
       "      <td>5.260703</td>\n",
       "      <td>19.0</td>\n",
       "      <td>6.4</td>\n",
       "      <td>5.2</td>\n",
       "      <td>5.6</td>\n",
       "      <td>5.9</td>\n",
       "      <td>6.3</td>\n",
       "      <td>6.6</td>\n",
       "      <td>...</td>\n",
       "      <td>2.93</td>\n",
       "      <td>72.5</td>\n",
       "      <td>27.5</td>\n",
       "      <td>50183</td>\n",
       "      <td>0.545409</td>\n",
       "      <td>0.002747</td>\n",
       "      <td>0.023886</td>\n",
       "      <td>0.003444</td>\n",
       "      <td>0.020292</td>\n",
       "      <td>122.920831</td>\n",
       "    </tr>\n",
       "    <tr>\n",
       "      <th>2</th>\n",
       "      <td>1005</td>\n",
       "      <td>27076</td>\n",
       "      <td>4.438653</td>\n",
       "      <td>18.0</td>\n",
       "      <td>6.3</td>\n",
       "      <td>6.5</td>\n",
       "      <td>7.3</td>\n",
       "      <td>6.6</td>\n",
       "      <td>6.6</td>\n",
       "      <td>6.6</td>\n",
       "      <td>...</td>\n",
       "      <td>3.01</td>\n",
       "      <td>66.8</td>\n",
       "      <td>33.2</td>\n",
       "      <td>35634</td>\n",
       "      <td>0.437169</td>\n",
       "      <td>0.002342</td>\n",
       "      <td>0.019348</td>\n",
       "      <td>0.003666</td>\n",
       "      <td>0.022200</td>\n",
       "      <td>30.563959</td>\n",
       "    </tr>\n",
       "    <tr>\n",
       "      <th>3</th>\n",
       "      <td>1007</td>\n",
       "      <td>22512</td>\n",
       "      <td>4.360120</td>\n",
       "      <td>18.4</td>\n",
       "      <td>6.7</td>\n",
       "      <td>6.5</td>\n",
       "      <td>7.0</td>\n",
       "      <td>7.2</td>\n",
       "      <td>7.6</td>\n",
       "      <td>7.1</td>\n",
       "      <td>...</td>\n",
       "      <td>3.09</td>\n",
       "      <td>75.6</td>\n",
       "      <td>24.4</td>\n",
       "      <td>37984</td>\n",
       "      <td>0.524582</td>\n",
       "      <td>0.001886</td>\n",
       "      <td>0.020244</td>\n",
       "      <td>0.002012</td>\n",
       "      <td>0.020370</td>\n",
       "      <td>36.101222</td>\n",
       "    </tr>\n",
       "    <tr>\n",
       "      <th>4</th>\n",
       "      <td>1009</td>\n",
       "      <td>57872</td>\n",
       "      <td>4.758321</td>\n",
       "      <td>20.2</td>\n",
       "      <td>7.0</td>\n",
       "      <td>5.4</td>\n",
       "      <td>6.0</td>\n",
       "      <td>6.0</td>\n",
       "      <td>6.8</td>\n",
       "      <td>7.0</td>\n",
       "      <td>...</td>\n",
       "      <td>3.07</td>\n",
       "      <td>80.6</td>\n",
       "      <td>19.4</td>\n",
       "      <td>44409</td>\n",
       "      <td>0.606034</td>\n",
       "      <td>0.001946</td>\n",
       "      <td>0.017981</td>\n",
       "      <td>0.003707</td>\n",
       "      <td>0.013440</td>\n",
       "      <td>89.615659</td>\n",
       "    </tr>\n",
       "  </tbody>\n",
       "</table>\n",
       "<p>5 rows × 46 columns</p>\n",
       "</div>"
      ],
      "text/plain": [
       "   FIPS  Population  hd01s001  hd02s002  hd02s005  hd02s006  hd02s007  \\\n",
       "0  1001       55246  4.736962      21.8       7.9       5.6       5.8   \n",
       "1  1003      195540  5.260703      19.0       6.4       5.2       5.6   \n",
       "2  1005       27076  4.438653      18.0       6.3       6.5       7.3   \n",
       "3  1007       22512  4.360120      18.4       6.7       6.5       7.0   \n",
       "4  1009       57872  4.758321      20.2       7.0       5.4       6.0   \n",
       "\n",
       "   hd02s008  hd02s009  hd02s010     ...      hd01s168  hd02s181  hd02s184  \\\n",
       "0       6.1       7.6       7.5     ...          3.13      75.4      24.6   \n",
       "1       5.9       6.3       6.6     ...          2.93      72.5      27.5   \n",
       "2       6.6       6.6       6.6     ...          3.01      66.8      33.2   \n",
       "3       7.2       7.6       7.1     ...          3.09      75.6      24.4   \n",
       "4       6.0       6.8       7.0     ...          3.07      80.6      19.4   \n",
       "\n",
       "   hd01vd01      d002      d014      d019      d024      d029  lnd110210d  \n",
       "0     52475  0.562138  0.003017  0.020029  0.002868  0.017704   92.781808  \n",
       "1     50183  0.545409  0.002747  0.023886  0.003444  0.020292  122.920831  \n",
       "2     35634  0.437169  0.002342  0.019348  0.003666  0.022200   30.563959  \n",
       "3     37984  0.524582  0.001886  0.020244  0.002012  0.020370   36.101222  \n",
       "4     44409  0.606034  0.001946  0.017981  0.003707  0.013440   89.615659  \n",
       "\n",
       "[5 rows x 46 columns]"
      ]
     },
     "execution_count": 3,
     "metadata": {},
     "output_type": "execute_result"
    }
   ],
   "source": [
    "df_merged = pd.read_csv(\"../data/chlamydia_cdc_census.csv\")\n",
    "df_merged.drop(\"Cases\", axis=1, inplace=True)\n",
    "df_merged.head()"
   ]
  },
  {
   "cell_type": "code",
   "execution_count": 4,
   "metadata": {
    "collapsed": true
   },
   "outputs": [],
   "source": [
    "df_zipfips= pd.read_csv(\"../data/ZIP_COUNTY_122014.csv\", usecols={0,1})"
   ]
  },
  {
   "cell_type": "code",
   "execution_count": 5,
   "metadata": {
    "collapsed": true
   },
   "outputs": [],
   "source": [
    "zip2fips = dict(zip(df_zipfips[\"ZIP\"], df_zipfips[\"COUNTY\"]))"
   ]
  },
  {
   "cell_type": "code",
   "execution_count": 6,
   "metadata": {
    "collapsed": false
   },
   "outputs": [],
   "source": [
    "fips = zip2fips[10027]"
   ]
  },
  {
   "cell_type": "code",
   "execution_count": 7,
   "metadata": {
    "collapsed": false
   },
   "outputs": [
    {
     "data": {
      "text/plain": [
       "(1, 46)"
      ]
     },
     "execution_count": 7,
     "metadata": {},
     "output_type": "execute_result"
    }
   ],
   "source": [
    "target = df_merged[df_merged['FIPS']==fips]\n",
    "target.shape"
   ]
  },
  {
   "cell_type": "code",
   "execution_count": 8,
   "metadata": {
    "collapsed": false
   },
   "outputs": [],
   "source": [
    "target_params = target.values[0]"
   ]
  },
  {
   "cell_type": "code",
   "execution_count": 9,
   "metadata": {
    "collapsed": true
   },
   "outputs": [],
   "source": [
    "model = pickle.load(open('../data/randomforest_params.pickle', \"rb\" ))"
   ]
  },
  {
   "cell_type": "code",
   "execution_count": 10,
   "metadata": {
    "collapsed": true
   },
   "outputs": [],
   "source": [
    "model2 = pickle.load(open('../data/gradientboosting_params.pickle', \"rb\" ))"
   ]
  },
  {
   "cell_type": "code",
   "execution_count": 11,
   "metadata": {
    "collapsed": true
   },
   "outputs": [],
   "source": [
    "Ymean = pickle.load(open('../data/Ymean.pickle', \"rb\"))"
   ]
  },
  {
   "cell_type": "code",
   "execution_count": 12,
   "metadata": {
    "collapsed": true
   },
   "outputs": [],
   "source": [
    "Ystd = pickle.load(open('../data/Ystd.pickle', \"rb\"))"
   ]
  },
  {
   "cell_type": "code",
   "execution_count": 13,
   "metadata": {
    "collapsed": false
   },
   "outputs": [
    {
     "name": "stderr",
     "output_type": "stream",
     "text": [
      "/Users/akuepper/anaconda/lib/python3.5/site-packages/sklearn/utils/validation.py:386: DeprecationWarning: Passing 1d arrays as data is deprecated in 0.17 and willraise ValueError in 0.19. Reshape your data either using X.reshape(-1, 1) if your data has a single feature or X.reshape(1, -1) if it contains a single sample.\n",
      "  DeprecationWarning)\n"
     ]
    }
   ],
   "source": [
    "chlamydia_rate = model.predict(target_params[1:])"
   ]
  },
  {
   "cell_type": "code",
   "execution_count": 14,
   "metadata": {
    "collapsed": false
   },
   "outputs": [
    {
     "data": {
      "text/plain": [
       "(0.04390608807429472,\n",
       " 3.960329144301384,\n",
       " 5.454453321469633,\n",
       " 2.5821170396492725,\n",
       " 1.1687800645377253,\n",
       " 0.5883415801955493,\n",
       " 0.2886825290884878,\n",
       " 0.12425422925025406,\n",
       " 0.036442053101664616,\n",
       " 0.007024974091887155)"
      ]
     },
     "execution_count": 14,
     "metadata": {},
     "output_type": "execute_result"
    }
   ],
   "source": [
    "gender_rate = {}\n",
    "gender_factor = {}\n",
    "gender_number = {}\n",
    "gender_rate[\"Male\"] = 278.4e-5\n",
    "gender_rate[\"Female\"] = 627.2e-5\n",
    "gender_number[\"Male\"] = 155651602\n",
    "gender_number[\"Female\"] = 160477237\n",
    "rate_average = (gender_rate[\"Male\"]*gender_number[\"Male\"]+gender_rate[\"Female\"]*gender_number[\"Male\"])/(gender_number[\"Male\"]+gender_number[\"Female\"])\n",
    "gender_factor[\"Male\"] = gender_rate[\"Male\"]/rate_average\n",
    "gender_factor[\"Female\"] = gender_rate[\"Female\"]/rate_average\n",
    "gender_factor[\"Female\"], gender_factor[\"Male\"]\n",
    "race_rate = {}\n",
    "race_factor = {}\n",
    "race_number = {}\n",
    "race_number[\"Native\"] = 1942876.0\n",
    "race_number[\"Asian\"] = 12721721.0\n",
    "race_number[\"Black\"] = 29489649.0\n",
    "race_number[\"Hispanic\"] = 46407173.0\n",
    "race_number[\"Multiple\"] = 5145135.0\n",
    "race_number[\"Pacific\"] = 473703.0\n",
    "race_number[\"White\"] = 161443167.0\n",
    "race_rate[\"Native\"] = 689.1e-5\n",
    "race_rate[\"Asian\"] = 115.8e-5\n",
    "race_rate[\"Black\"] = 1152.6e-5\n",
    "race_rate[\"Hispanic\"] = 376.2e-5\n",
    "race_rate[\"Multiple\"] = 116.1e-5\n",
    "race_rate[\"Pacific\"] = 641.5e-5\n",
    "race_rate[\"White\"] = 187.0e-5\n",
    "US_number = race_number[\"Native\"] + race_number[\"Asian\"] + race_number[\"Black\"] + race_number[\"Hispanic\"] + race_number[\"Multiple\"] + race_number[\"Pacific\"] + race_number[\"White\"]\n",
    "rate_average = (race_rate[\"Native\"]*race_number[\"Native\"]+race_rate[\"Asian\"]*race_number[\"Asian\"]+race_rate[\"Black\"]*race_number[\"Black\"]+race_rate[\"Hispanic\"]*race_number[\"Hispanic\"]+race_rate[\"Multiple\"]*race_number[\"Multiple\"]+race_rate[\"Pacific\"]*race_number[\"Multiple\"]+race_rate[\"White\"]*race_number[\"White\"])/US_number  \n",
    "race_factor[\"Native\"] = race_rate[\"Native\"]/rate_average\n",
    "race_factor[\"Asian\"] = race_rate[\"Asian\"]/rate_average\n",
    "race_factor[\"Black\"] = race_rate[\"Black\"]/rate_average\n",
    "race_factor[\"Hispanic\"] = race_rate[\"Hispanic\"]/rate_average\n",
    "race_factor[\"Multiple\"] = race_rate[\"Multiple\"]/rate_average\n",
    "race_factor[\"Pacific\"] = race_rate[\"Pacific\"]/rate_average\n",
    "race_factor[\"White\"] = race_rate[\"White\"]/rate_average\n",
    "\n",
    "age_rate = {}\n",
    "age_factor = {}\n",
    "age_number = {}\n",
    "age_number[\"0-14\"] = 61089123.0\n",
    "age_number[\"15-19\"] = 21158964.0\n",
    "age_number[\"20-24\"] = 22795438.0\n",
    "age_number[\"25-29\"] = 21580198.0\n",
    "age_number[\"30-34\"] = 21264389.0\n",
    "age_number[\"35-39\"] = 19603770.0\n",
    "age_number[\"40-44\"] = 20848920.0\n",
    "age_number[\"45-54\"] = 43767532.0\n",
    "age_number[\"55-64\"] = 39316431.0\n",
    "age_number[\"65+\"] = 44704074.0\n",
    "\n",
    "age_rate[\"0-14\"] = 20.0e-5\n",
    "age_rate[\"15-19\"] = 1804.0e-5\n",
    "age_rate[\"20-24\"] = 2484.6e-5\n",
    "age_rate[\"25-29\"] = 1176.2e-5\n",
    "age_rate[\"30-34\"] = 532.4e-5\n",
    "age_rate[\"35-39\"] = 268.0e-5\n",
    "age_rate[\"40-44\"] = 131.5e-5\n",
    "age_rate[\"45-54\"] = 56.6e-5\n",
    "age_rate[\"55-64\"] = 16.6e-5\n",
    "age_rate[\"65+\"] = 3.2e-5\n",
    "\n",
    "US_age_number = age_number[\"0-14\"] + age_number[\"15-19\"] + age_number[\"20-24\"] + age_number[\"25-29\"] + age_number[\"30-34\"] + age_number[\"35-39\"] + age_number[\"40-44\"] + age_number[\"45-54\"] + age_number[\"55-64\"] + age_number[\"65+\"]\n",
    "rate_average = (age_rate[\"0-14\"]*age_number[\"0-14\"]+age_rate[\"15-19\"]*age_number[\"15-19\"]+age_rate[\"20-24\"]*age_number[\"20-24\"]+age_rate[\"25-29\"]*age_number[\"25-29\"]+age_rate[\"30-34\"]*age_number[\"30-34\"]+age_rate[\"35-39\"]*age_number[\"35-39\"]+age_rate[\"40-44\"]*age_number[\"40-44\"]+age_rate[\"45-54\"]*age_number[\"45-54\"]+age_rate[\"55-64\"]*age_number[\"55-64\"]+age_rate[\"65+\"]*age_number[\"65+\"])/US_age_number  \n",
    "age_factor[\"0-14\"] = age_rate[\"0-14\"]/rate_average\n",
    "age_factor[\"15-19\"] = age_rate[\"15-19\"]/rate_average\n",
    "age_factor[\"20-24\"] = age_rate[\"20-24\"]/rate_average\n",
    "age_factor[\"25-29\"] = age_rate[\"25-29\"]/rate_average\n",
    "age_factor[\"30-34\"] = age_rate[\"30-34\"]/rate_average\n",
    "age_factor[\"35-39\"] = age_rate[\"35-39\"]/rate_average\n",
    "age_factor[\"40-44\"] = age_rate[\"40-44\"]/rate_average\n",
    "age_factor[\"45-54\"] = age_rate[\"45-54\"]/rate_average\n",
    "age_factor[\"55-64\"] = age_rate[\"55-64\"]/rate_average\n",
    "age_factor[\"65+\"] = age_rate[\"65+\"]/rate_average\n",
    "\n",
    "race_factor[\"Native\"], race_factor[\"Asian\"], race_factor[\"Black\"], race_factor[\"Hispanic\"], race_factor[\"Multiple\"], race_factor[\"Pacific\"], race_factor[\"White\"]\n",
    "age_factor[\"0-14\"], age_factor[\"15-19\"], age_factor[\"20-24\"], age_factor[\"25-29\"], age_factor[\"30-34\"], age_factor[\"35-39\"], age_factor[\"40-44\"], age_factor[\"45-54\"], age_factor[\"55-64\"], age_factor[\"65+\"]"
   ]
  },
  {
   "cell_type": "code",
   "execution_count": 15,
   "metadata": {
    "collapsed": false
   },
   "outputs": [
    {
     "name": "stdout",
     "output_type": "stream",
     "text": [
      "Your individual chance of having Chlamydia is 4.74 percent\n"
     ]
    },
    {
     "name": "stderr",
     "output_type": "stream",
     "text": [
      "/Users/akuepper/anaconda/lib/python3.5/site-packages/sklearn/utils/validation.py:386: DeprecationWarning: Passing 1d arrays as data is deprecated in 0.17 and willraise ValueError in 0.19. Reshape your data either using X.reshape(-1, 1) if your data has a single feature or X.reshape(1, -1) if it contains a single sample.\n",
      "  DeprecationWarning)\n"
     ]
    }
   ],
   "source": [
    "def calculate_rate(Zipcode, Race, Gender, Age):\n",
    "    fips = zip2fips[int(Zipcode)]\n",
    "    target = df_merged[df_merged['FIPS']==fips]\n",
    "    target_params = target.values[0]\n",
    "    chlamydia_rate = model.predict(target_params[1:])\n",
    "    return chlamydia_rate*gender_factor[Gender]*race_factor[Race]*age_factor[Age]\n",
    "\n",
    "Race = \"White\"\n",
    "Gender = \"Male\"\n",
    "Age = \"35-39\"\n",
    "Zipcode = \"02139\"\n",
    "print(\"Your individual chance of having Chlamydia is %.2f percent\"%(calculate_rate(Zipcode, Race, Gender, Age)*100))"
   ]
  },
  {
   "cell_type": "markdown",
   "metadata": {
    "collapsed": true
   },
   "source": [
    "## ZIP code census data base CSV file"
   ]
  },
  {
   "cell_type": "code",
   "execution_count": 16,
   "metadata": {
    "collapsed": true
   },
   "outputs": [],
   "source": [
    "df_zipcode = pd.read_csv(\"../data/census_zipcode.csv\")\n",
    "df_zipcode_unnormalized = pd.read_csv(\"../data/census_zipcode_unnormalized.csv\")"
   ]
  },
  {
   "cell_type": "code",
   "execution_count": 17,
   "metadata": {
    "collapsed": false
   },
   "outputs": [
    {
     "data": {
      "text/html": [
       "<div>\n",
       "<table border=\"1\" class=\"dataframe\">\n",
       "  <thead>\n",
       "    <tr style=\"text-align: right;\">\n",
       "      <th></th>\n",
       "      <th>geoid2</th>\n",
       "      <th>Population</th>\n",
       "      <th>hd01s001</th>\n",
       "      <th>hd02s002</th>\n",
       "      <th>hd02s005</th>\n",
       "      <th>hd02s006</th>\n",
       "      <th>hd02s007</th>\n",
       "      <th>hd02s008</th>\n",
       "      <th>hd02s009</th>\n",
       "      <th>hd02s010</th>\n",
       "      <th>...</th>\n",
       "      <th>hd01s168</th>\n",
       "      <th>hd02s181</th>\n",
       "      <th>hd02s184</th>\n",
       "      <th>hd01vd01</th>\n",
       "      <th>d002</th>\n",
       "      <th>d014</th>\n",
       "      <th>d019</th>\n",
       "      <th>d024</th>\n",
       "      <th>d029</th>\n",
       "      <th>landsqmi</th>\n",
       "    </tr>\n",
       "  </thead>\n",
       "  <tbody>\n",
       "    <tr>\n",
       "      <th>0</th>\n",
       "      <td>602</td>\n",
       "      <td>-0.187985</td>\n",
       "      <td>0.202049</td>\n",
       "      <td>-0.140291</td>\n",
       "      <td>0.868417</td>\n",
       "      <td>0.458393</td>\n",
       "      <td>0.369554</td>\n",
       "      <td>1.049363</td>\n",
       "      <td>0.316382</td>\n",
       "      <td>0.966525</td>\n",
       "      <td>...</td>\n",
       "      <td>1.155430</td>\n",
       "      <td>0.683548</td>\n",
       "      <td>-0.683573</td>\n",
       "      <td>-2.522258</td>\n",
       "      <td>0.550821</td>\n",
       "      <td>-0.475777</td>\n",
       "      <td>-1.064918</td>\n",
       "      <td>-0.417037</td>\n",
       "      <td>-1.132623</td>\n",
       "      <td>0.653718</td>\n",
       "    </tr>\n",
       "    <tr>\n",
       "      <th>1</th>\n",
       "      <td>603</td>\n",
       "      <td>-0.147833</td>\n",
       "      <td>0.401021</td>\n",
       "      <td>0.001670</td>\n",
       "      <td>0.241583</td>\n",
       "      <td>0.222605</td>\n",
       "      <td>0.452316</td>\n",
       "      <td>0.835698</td>\n",
       "      <td>0.668510</td>\n",
       "      <td>-0.023418</td>\n",
       "      <td>...</td>\n",
       "      <td>0.376440</td>\n",
       "      <td>-1.061493</td>\n",
       "      <td>1.061497</td>\n",
       "      <td>-2.524746</td>\n",
       "      <td>-1.301043</td>\n",
       "      <td>-0.781474</td>\n",
       "      <td>-1.519258</td>\n",
       "      <td>-0.905455</td>\n",
       "      <td>0.099090</td>\n",
       "      <td>0.876386</td>\n",
       "    </tr>\n",
       "    <tr>\n",
       "      <th>2</th>\n",
       "      <td>606</td>\n",
       "      <td>-0.294408</td>\n",
       "      <td>-1.124613</td>\n",
       "      <td>0.356574</td>\n",
       "      <td>0.689322</td>\n",
       "      <td>0.694182</td>\n",
       "      <td>0.866131</td>\n",
       "      <td>0.408369</td>\n",
       "      <td>0.081630</td>\n",
       "      <td>0.100325</td>\n",
       "      <td>...</td>\n",
       "      <td>1.377999</td>\n",
       "      <td>-0.036628</td>\n",
       "      <td>0.036615</td>\n",
       "      <td>-2.705957</td>\n",
       "      <td>-0.339241</td>\n",
       "      <td>-0.015301</td>\n",
       "      <td>0.107207</td>\n",
       "      <td>-1.278090</td>\n",
       "      <td>-0.523061</td>\n",
       "      <td>-0.057227</td>\n",
       "    </tr>\n",
       "    <tr>\n",
       "      <th>3</th>\n",
       "      <td>610</td>\n",
       "      <td>-0.226109</td>\n",
       "      <td>-0.056754</td>\n",
       "      <td>0.072651</td>\n",
       "      <td>0.510226</td>\n",
       "      <td>0.144009</td>\n",
       "      <td>0.286791</td>\n",
       "      <td>1.049363</td>\n",
       "      <td>0.903262</td>\n",
       "      <td>0.966525</td>\n",
       "      <td>...</td>\n",
       "      <td>0.821577</td>\n",
       "      <td>0.683548</td>\n",
       "      <td>-0.683573</td>\n",
       "      <td>-2.446622</td>\n",
       "      <td>-0.395512</td>\n",
       "      <td>-0.547272</td>\n",
       "      <td>-0.622365</td>\n",
       "      <td>-0.760020</td>\n",
       "      <td>0.785830</td>\n",
       "      <td>0.330580</td>\n",
       "    </tr>\n",
       "    <tr>\n",
       "      <th>4</th>\n",
       "      <td>612</td>\n",
       "      <td>-0.110268</td>\n",
       "      <td>0.547769</td>\n",
       "      <td>-0.317743</td>\n",
       "      <td>0.420679</td>\n",
       "      <td>0.183307</td>\n",
       "      <td>0.121265</td>\n",
       "      <td>0.622034</td>\n",
       "      <td>0.433758</td>\n",
       "      <td>0.224068</td>\n",
       "      <td>...</td>\n",
       "      <td>0.320798</td>\n",
       "      <td>0.032620</td>\n",
       "      <td>-0.032634</td>\n",
       "      <td>-2.406234</td>\n",
       "      <td>-1.282855</td>\n",
       "      <td>-0.831928</td>\n",
       "      <td>-1.189636</td>\n",
       "      <td>-1.009735</td>\n",
       "      <td>0.851580</td>\n",
       "      <td>0.447418</td>\n",
       "    </tr>\n",
       "  </tbody>\n",
       "</table>\n",
       "<p>5 rows × 46 columns</p>\n",
       "</div>"
      ],
      "text/plain": [
       "   geoid2  Population  hd01s001  hd02s002  hd02s005  hd02s006  hd02s007  \\\n",
       "0     602   -0.187985  0.202049 -0.140291  0.868417  0.458393  0.369554   \n",
       "1     603   -0.147833  0.401021  0.001670  0.241583  0.222605  0.452316   \n",
       "2     606   -0.294408 -1.124613  0.356574  0.689322  0.694182  0.866131   \n",
       "3     610   -0.226109 -0.056754  0.072651  0.510226  0.144009  0.286791   \n",
       "4     612   -0.110268  0.547769 -0.317743  0.420679  0.183307  0.121265   \n",
       "\n",
       "   hd02s008  hd02s009  hd02s010    ...     hd01s168  hd02s181  hd02s184  \\\n",
       "0  1.049363  0.316382  0.966525    ...     1.155430  0.683548 -0.683573   \n",
       "1  0.835698  0.668510 -0.023418    ...     0.376440 -1.061493  1.061497   \n",
       "2  0.408369  0.081630  0.100325    ...     1.377999 -0.036628  0.036615   \n",
       "3  1.049363  0.903262  0.966525    ...     0.821577  0.683548 -0.683573   \n",
       "4  0.622034  0.433758  0.224068    ...     0.320798  0.032620 -0.032634   \n",
       "\n",
       "   hd01vd01      d002      d014      d019      d024      d029  landsqmi  \n",
       "0 -2.522258  0.550821 -0.475777 -1.064918 -0.417037 -1.132623  0.653718  \n",
       "1 -2.524746 -1.301043 -0.781474 -1.519258 -0.905455  0.099090  0.876386  \n",
       "2 -2.705957 -0.339241 -0.015301  0.107207 -1.278090 -0.523061 -0.057227  \n",
       "3 -2.446622 -0.395512 -0.547272 -0.622365 -0.760020  0.785830  0.330580  \n",
       "4 -2.406234 -1.282855 -0.831928 -1.189636 -1.009735  0.851580  0.447418  \n",
       "\n",
       "[5 rows x 46 columns]"
      ]
     },
     "execution_count": 17,
     "metadata": {},
     "output_type": "execute_result"
    }
   ],
   "source": [
    "df_zipcode.head()"
   ]
  },
  {
   "cell_type": "code",
   "execution_count": 18,
   "metadata": {
    "collapsed": false
   },
   "outputs": [
    {
     "data": {
      "text/html": [
       "<div>\n",
       "<table border=\"1\" class=\"dataframe\">\n",
       "  <thead>\n",
       "    <tr style=\"text-align: right;\">\n",
       "      <th></th>\n",
       "      <th>geoid2</th>\n",
       "      <th>Population</th>\n",
       "      <th>hd01s001</th>\n",
       "      <th>hd02s002</th>\n",
       "      <th>hd02s005</th>\n",
       "      <th>hd02s006</th>\n",
       "      <th>hd02s007</th>\n",
       "      <th>hd02s008</th>\n",
       "      <th>hd02s009</th>\n",
       "      <th>hd02s010</th>\n",
       "      <th>...</th>\n",
       "      <th>hd01s168</th>\n",
       "      <th>hd02s181</th>\n",
       "      <th>hd02s184</th>\n",
       "      <th>hd01vd01</th>\n",
       "      <th>d002</th>\n",
       "      <th>d014</th>\n",
       "      <th>d019</th>\n",
       "      <th>d024</th>\n",
       "      <th>d029</th>\n",
       "      <th>landsqmi</th>\n",
       "    </tr>\n",
       "  </thead>\n",
       "  <tbody>\n",
       "    <tr>\n",
       "      <th>487</th>\n",
       "      <td>2139</td>\n",
       "      <td>36349</td>\n",
       "      <td>4.560492</td>\n",
       "      <td>9.6</td>\n",
       "      <td>6.7</td>\n",
       "      <td>16.8</td>\n",
       "      <td>19.1</td>\n",
       "      <td>12.1</td>\n",
       "      <td>7</td>\n",
       "      <td>4.9</td>\n",
       "      <td>...</td>\n",
       "      <td>2.81</td>\n",
       "      <td>32.2</td>\n",
       "      <td>67.8</td>\n",
       "      <td>73819</td>\n",
       "      <td>0.258902</td>\n",
       "      <td>0.007714</td>\n",
       "      <td>0.039328</td>\n",
       "      <td>0.009229</td>\n",
       "      <td>0.038983</td>\n",
       "      <td>14198.828125</td>\n",
       "    </tr>\n",
       "  </tbody>\n",
       "</table>\n",
       "<p>1 rows × 46 columns</p>\n",
       "</div>"
      ],
      "text/plain": [
       "     geoid2  Population  hd01s001  hd02s002  hd02s005  hd02s006  hd02s007  \\\n",
       "487    2139       36349  4.560492       9.6       6.7      16.8      19.1   \n",
       "\n",
       "     hd02s008  hd02s009  hd02s010      ...       hd01s168  hd02s181  hd02s184  \\\n",
       "487      12.1         7       4.9      ...           2.81      32.2      67.8   \n",
       "\n",
       "     hd01vd01      d002      d014      d019      d024      d029      landsqmi  \n",
       "487     73819  0.258902  0.007714  0.039328  0.009229  0.038983  14198.828125  \n",
       "\n",
       "[1 rows x 46 columns]"
      ]
     },
     "execution_count": 18,
     "metadata": {},
     "output_type": "execute_result"
    }
   ],
   "source": [
    "df_zipcode_unnormalized[df_zipcode_unnormalized[\"geoid2\"]==int(Zipcode)]"
   ]
  },
  {
   "cell_type": "code",
   "execution_count": 19,
   "metadata": {
    "collapsed": false
   },
   "outputs": [
    {
     "name": "stdout",
     "output_type": "stream",
     "text": [
      "Your individual chance of having Chlamydia is 0.28 percent\n"
     ]
    },
    {
     "name": "stderr",
     "output_type": "stream",
     "text": [
      "/Users/akuepper/anaconda/lib/python3.5/site-packages/sklearn/utils/validation.py:386: DeprecationWarning: Passing 1d arrays as data is deprecated in 0.17 and willraise ValueError in 0.19. Reshape your data either using X.reshape(-1, 1) if your data has a single feature or X.reshape(1, -1) if it contains a single sample.\n",
      "  DeprecationWarning)\n"
     ]
    },
    {
     "data": {
      "text/plain": [
       "(487    36349\n",
       " Name: Population, dtype: int64, 487    18283.547\n",
       " dtype: float64, 487    22645.427\n",
       " dtype: float64, 487    2544.43\n",
       " dtype: float64)"
      ]
     },
     "execution_count": 19,
     "metadata": {},
     "output_type": "execute_result"
    }
   ],
   "source": [
    "def calculate_rate(Zipcode):\n",
    "    target = df_zipcode[df_zipcode[\"geoid2\"]==int(Zipcode)]\n",
    "    target_params = target.values[0]\n",
    "    chlamydia_rate = model.predict(target_params[1:])*Ystd+Ymean\n",
    "    return chlamydia_rate\n",
    "\n",
    "Race = \"White\"\n",
    "Gender = \"Male\"\n",
    "Age = \"35-39\"\n",
    "Zipcode = \"02139\"\n",
    "zipcoderate = calculate_rate(Zipcode)\n",
    "\n",
    "target_unnormalized = df_zipcode_unnormalized[df_zipcode_unnormalized[\"geoid2\"]==int(Zipcode)]\n",
    "\n",
    "TOTALNR = target_unnormalized[\"Population\"]\n",
    "\n",
    "if Gender == \"Male\":\n",
    "    gender_table = \"hd02s026\"\n",
    "else:\n",
    "    gender_table = \"hd02s051\"\n",
    "\n",
    "GENDERNR = TOTALNR*target_unnormalized[gender_table]/100.0\n",
    "\n",
    "if Race == \"White\":\n",
    "    race_table = \"hd02s078\"\n",
    "elif Race == \"Black\":\n",
    "    race_table = \"hd02s079\"\n",
    "elif Race == \"Native\":\n",
    "    race_table = \"hd02s080\"\n",
    "elif Race == \"Asian\":\n",
    "    race_table = \"hd02s081\"\n",
    "elif Race == \"Pacific\":\n",
    "    race_table = \"hd02s089\"\n",
    "elif Race == \"Multiple\":\n",
    "    race_table = \"hd02s095\"\n",
    "elif Race == \"Hispanic\":\n",
    "    race_table = \"hd02s107\"\n",
    "\n",
    "RACENR = TOTALNR*target_unnormalized[race_table]/100.0\n",
    "\n",
    "if Age == \"0-14\":\n",
    "    age_table = \"hd02s002\"\n",
    "elif Age == \"15-19\":\n",
    "    age_table = \"hd02s005\"\n",
    "elif Age == \"20-24\":\n",
    "    age_table = \"hd02s006\"\n",
    "elif Age == \"25-29\":\n",
    "    age_table = \"hd02s007\"\n",
    "elif Age == \"30-34\":\n",
    "    age_table = \"hd02s008\"\n",
    "elif Age == \"35-39\":\n",
    "    age_table = \"hd02s009\"\n",
    "elif Age == \"40-44\":\n",
    "    age_table = \"hd02s010\"\n",
    "elif Age == \"45-54\":\n",
    "    age_table = \"hd02s011\"\n",
    "elif Age == \"55-64\":\n",
    "    age_table = \"hd02s013\"\n",
    "elif Age == \"65+\":\n",
    "    age_table = \"hd02s015\"\n",
    "\n",
    "AGENR = TOTALNR*target_unnormalized[age_table]/100.0\n",
    "\n",
    "the_result = 100*(zipcoderate/TOTALNR + gender_rate[Gender]/GENDERNR + race_rate[Race]/RACENR + age_rate[Age]/AGENR)/(1.0/TOTALNR+1.0/GENDERNR+1.0/RACENR+1.0/AGENR)\n",
    "\n",
    "print(\"Your individual chance of having Chlamydia is %.2f percent\"%(the_result))\n",
    "TOTALNR, GENDERNR, RACENR, AGENR"
   ]
  },
  {
   "cell_type": "markdown",
   "metadata": {
    "collapsed": true
   },
   "source": [
    "## Model validation with Boston Public Health Commission data"
   ]
  },
  {
   "cell_type": "code",
   "execution_count": 20,
   "metadata": {
    "collapsed": false
   },
   "outputs": [],
   "source": [
    "df_boston = np.genfromtxt(\"../data/zipcodes_boston.txt\", dtype=[('Neighborhood','O'),('zip1','i8'),('zip2','i8'),('zip3','i8'),('zip4','i8'),('zip5','i8'),('zip6','i8')], delimiter=\",\")"
   ]
  },
  {
   "cell_type": "code",
   "execution_count": 21,
   "metadata": {
    "collapsed": false
   },
   "outputs": [
    {
     "data": {
      "text/plain": [
       "(array([(b'HydePark', 2136, 0, 0, 0, 0, 0),\n",
       "        (b'WestRoxbury', 2132, 0, 0, 0, 0, 0),\n",
       "        (b'Roslindale', 2131, 0, 0, 0, 0, 0),\n",
       "        (b'Mattapan', 2126, 0, 0, 0, 0, 0),\n",
       "        (b'JamaicaPlain', 2130, 0, 0, 0, 0, 0),\n",
       "        (b'SouthDorchester', 2124, 2122, 0, 0, 0, 0),\n",
       "        (b'NorthDorchester', 2121, 2125, 0, 0, 0, 0),\n",
       "        (b'Roxbury', 2119, 2120, 0, 0, 0, 0),\n",
       "        (b'Fenway', 2215, 2115, 0, 0, 0, 0),\n",
       "        (b'SouthEnd', 2118, 2111, 0, 0, 0, 0),\n",
       "        (b'SouthBoston', 2127, 2210, 0, 0, 0, 0),\n",
       "        (b'BackBay', 2199, 2116, 2110, 2113, 2114, 2109),\n",
       "        (b'Charlestown', 2129, 0, 0, 0, 0, 0),\n",
       "        (b'Allston', 2134, 2135, 2163, 0, 0, 0),\n",
       "        (b'EastBoston', 2128, 0, 0, 0, 0, 0)], \n",
       "       dtype=[('Neighborhood', 'O'), ('zip1', '<i8'), ('zip2', '<i8'), ('zip3', '<i8'), ('zip4', '<i8'), ('zip5', '<i8'), ('zip6', '<i8')]),\n",
       " 15)"
      ]
     },
     "execution_count": 21,
     "metadata": {},
     "output_type": "execute_result"
    }
   ],
   "source": [
    "df_boston, len(df_boston)"
   ]
  },
  {
   "cell_type": "code",
   "execution_count": 22,
   "metadata": {
    "collapsed": false,
    "scrolled": false
   },
   "outputs": [
    {
     "name": "stderr",
     "output_type": "stream",
     "text": [
      "/Users/akuepper/anaconda/lib/python3.5/site-packages/sklearn/utils/validation.py:386: DeprecationWarning: Passing 1d arrays as data is deprecated in 0.17 and willraise ValueError in 0.19. Reshape your data either using X.reshape(-1, 1) if your data has a single feature or X.reshape(1, -1) if it contains a single sample.\n",
      "  DeprecationWarning)\n",
      "/Users/akuepper/anaconda/lib/python3.5/site-packages/sklearn/utils/validation.py:386: DeprecationWarning: Passing 1d arrays as data is deprecated in 0.17 and willraise ValueError in 0.19. Reshape your data either using X.reshape(-1, 1) if your data has a single feature or X.reshape(1, -1) if it contains a single sample.\n",
      "  DeprecationWarning)\n",
      "/Users/akuepper/anaconda/lib/python3.5/site-packages/sklearn/utils/validation.py:386: DeprecationWarning: Passing 1d arrays as data is deprecated in 0.17 and willraise ValueError in 0.19. Reshape your data either using X.reshape(-1, 1) if your data has a single feature or X.reshape(1, -1) if it contains a single sample.\n",
      "  DeprecationWarning)\n",
      "/Users/akuepper/anaconda/lib/python3.5/site-packages/sklearn/utils/validation.py:386: DeprecationWarning: Passing 1d arrays as data is deprecated in 0.17 and willraise ValueError in 0.19. Reshape your data either using X.reshape(-1, 1) if your data has a single feature or X.reshape(1, -1) if it contains a single sample.\n",
      "  DeprecationWarning)\n",
      "/Users/akuepper/anaconda/lib/python3.5/site-packages/sklearn/utils/validation.py:386: DeprecationWarning: Passing 1d arrays as data is deprecated in 0.17 and willraise ValueError in 0.19. Reshape your data either using X.reshape(-1, 1) if your data has a single feature or X.reshape(1, -1) if it contains a single sample.\n",
      "  DeprecationWarning)\n",
      "/Users/akuepper/anaconda/lib/python3.5/site-packages/sklearn/utils/validation.py:386: DeprecationWarning: Passing 1d arrays as data is deprecated in 0.17 and willraise ValueError in 0.19. Reshape your data either using X.reshape(-1, 1) if your data has a single feature or X.reshape(1, -1) if it contains a single sample.\n",
      "  DeprecationWarning)\n",
      "/Users/akuepper/anaconda/lib/python3.5/site-packages/sklearn/utils/validation.py:386: DeprecationWarning: Passing 1d arrays as data is deprecated in 0.17 and willraise ValueError in 0.19. Reshape your data either using X.reshape(-1, 1) if your data has a single feature or X.reshape(1, -1) if it contains a single sample.\n",
      "  DeprecationWarning)\n",
      "/Users/akuepper/anaconda/lib/python3.5/site-packages/sklearn/utils/validation.py:386: DeprecationWarning: Passing 1d arrays as data is deprecated in 0.17 and willraise ValueError in 0.19. Reshape your data either using X.reshape(-1, 1) if your data has a single feature or X.reshape(1, -1) if it contains a single sample.\n",
      "  DeprecationWarning)\n",
      "/Users/akuepper/anaconda/lib/python3.5/site-packages/sklearn/utils/validation.py:386: DeprecationWarning: Passing 1d arrays as data is deprecated in 0.17 and willraise ValueError in 0.19. Reshape your data either using X.reshape(-1, 1) if your data has a single feature or X.reshape(1, -1) if it contains a single sample.\n",
      "  DeprecationWarning)\n",
      "/Users/akuepper/anaconda/lib/python3.5/site-packages/sklearn/utils/validation.py:386: DeprecationWarning: Passing 1d arrays as data is deprecated in 0.17 and willraise ValueError in 0.19. Reshape your data either using X.reshape(-1, 1) if your data has a single feature or X.reshape(1, -1) if it contains a single sample.\n",
      "  DeprecationWarning)\n",
      "/Users/akuepper/anaconda/lib/python3.5/site-packages/sklearn/utils/validation.py:386: DeprecationWarning: Passing 1d arrays as data is deprecated in 0.17 and willraise ValueError in 0.19. Reshape your data either using X.reshape(-1, 1) if your data has a single feature or X.reshape(1, -1) if it contains a single sample.\n",
      "  DeprecationWarning)\n",
      "/Users/akuepper/anaconda/lib/python3.5/site-packages/sklearn/utils/validation.py:386: DeprecationWarning: Passing 1d arrays as data is deprecated in 0.17 and willraise ValueError in 0.19. Reshape your data either using X.reshape(-1, 1) if your data has a single feature or X.reshape(1, -1) if it contains a single sample.\n",
      "  DeprecationWarning)\n",
      "/Users/akuepper/anaconda/lib/python3.5/site-packages/sklearn/utils/validation.py:386: DeprecationWarning: Passing 1d arrays as data is deprecated in 0.17 and willraise ValueError in 0.19. Reshape your data either using X.reshape(-1, 1) if your data has a single feature or X.reshape(1, -1) if it contains a single sample.\n",
      "  DeprecationWarning)\n"
     ]
    },
    {
     "name": "stdout",
     "output_type": "stream",
     "text": [
      "b'HydePark' 2136 715.0\n",
      "b'WestRoxbury' 2132 343.0\n",
      "b'Roslindale' 2131 639.0\n",
      "b'Mattapan' 2126 749.0\n",
      "b'JamaicaPlain' 2130 551.0\n",
      "b'SouthDorchester' 2124 729.0\n",
      "b'SouthDorchester' 2122 705.0\n",
      "b'NorthDorchester' 2121 698.0\n",
      "b'NorthDorchester' 2125 665.0\n",
      "b'Roxbury' 2119 696.0\n",
      "b'Roxbury' 2120 586.0\n",
      "b'Fenway' 2215 470.0\n",
      "b'Fenway' 2115 487.0\n"
     ]
    },
    {
     "name": "stderr",
     "output_type": "stream",
     "text": [
      "/Users/akuepper/anaconda/lib/python3.5/site-packages/sklearn/utils/validation.py:386: DeprecationWarning: Passing 1d arrays as data is deprecated in 0.17 and willraise ValueError in 0.19. Reshape your data either using X.reshape(-1, 1) if your data has a single feature or X.reshape(1, -1) if it contains a single sample.\n",
      "  DeprecationWarning)\n",
      "/Users/akuepper/anaconda/lib/python3.5/site-packages/sklearn/utils/validation.py:386: DeprecationWarning: Passing 1d arrays as data is deprecated in 0.17 and willraise ValueError in 0.19. Reshape your data either using X.reshape(-1, 1) if your data has a single feature or X.reshape(1, -1) if it contains a single sample.\n",
      "  DeprecationWarning)\n",
      "/Users/akuepper/anaconda/lib/python3.5/site-packages/sklearn/utils/validation.py:386: DeprecationWarning: Passing 1d arrays as data is deprecated in 0.17 and willraise ValueError in 0.19. Reshape your data either using X.reshape(-1, 1) if your data has a single feature or X.reshape(1, -1) if it contains a single sample.\n",
      "  DeprecationWarning)\n",
      "/Users/akuepper/anaconda/lib/python3.5/site-packages/sklearn/utils/validation.py:386: DeprecationWarning: Passing 1d arrays as data is deprecated in 0.17 and willraise ValueError in 0.19. Reshape your data either using X.reshape(-1, 1) if your data has a single feature or X.reshape(1, -1) if it contains a single sample.\n",
      "  DeprecationWarning)\n",
      "/Users/akuepper/anaconda/lib/python3.5/site-packages/sklearn/utils/validation.py:386: DeprecationWarning: Passing 1d arrays as data is deprecated in 0.17 and willraise ValueError in 0.19. Reshape your data either using X.reshape(-1, 1) if your data has a single feature or X.reshape(1, -1) if it contains a single sample.\n",
      "  DeprecationWarning)\n",
      "/Users/akuepper/anaconda/lib/python3.5/site-packages/sklearn/utils/validation.py:386: DeprecationWarning: Passing 1d arrays as data is deprecated in 0.17 and willraise ValueError in 0.19. Reshape your data either using X.reshape(-1, 1) if your data has a single feature or X.reshape(1, -1) if it contains a single sample.\n",
      "  DeprecationWarning)\n",
      "/Users/akuepper/anaconda/lib/python3.5/site-packages/sklearn/utils/validation.py:386: DeprecationWarning: Passing 1d arrays as data is deprecated in 0.17 and willraise ValueError in 0.19. Reshape your data either using X.reshape(-1, 1) if your data has a single feature or X.reshape(1, -1) if it contains a single sample.\n",
      "  DeprecationWarning)\n",
      "/Users/akuepper/anaconda/lib/python3.5/site-packages/sklearn/utils/validation.py:386: DeprecationWarning: Passing 1d arrays as data is deprecated in 0.17 and willraise ValueError in 0.19. Reshape your data either using X.reshape(-1, 1) if your data has a single feature or X.reshape(1, -1) if it contains a single sample.\n",
      "  DeprecationWarning)\n",
      "/Users/akuepper/anaconda/lib/python3.5/site-packages/sklearn/utils/validation.py:386: DeprecationWarning: Passing 1d arrays as data is deprecated in 0.17 and willraise ValueError in 0.19. Reshape your data either using X.reshape(-1, 1) if your data has a single feature or X.reshape(1, -1) if it contains a single sample.\n",
      "  DeprecationWarning)\n",
      "/Users/akuepper/anaconda/lib/python3.5/site-packages/sklearn/utils/validation.py:386: DeprecationWarning: Passing 1d arrays as data is deprecated in 0.17 and willraise ValueError in 0.19. Reshape your data either using X.reshape(-1, 1) if your data has a single feature or X.reshape(1, -1) if it contains a single sample.\n",
      "  DeprecationWarning)\n",
      "/Users/akuepper/anaconda/lib/python3.5/site-packages/sklearn/utils/validation.py:386: DeprecationWarning: Passing 1d arrays as data is deprecated in 0.17 and willraise ValueError in 0.19. Reshape your data either using X.reshape(-1, 1) if your data has a single feature or X.reshape(1, -1) if it contains a single sample.\n",
      "  DeprecationWarning)\n",
      "/Users/akuepper/anaconda/lib/python3.5/site-packages/sklearn/utils/validation.py:386: DeprecationWarning: Passing 1d arrays as data is deprecated in 0.17 and willraise ValueError in 0.19. Reshape your data either using X.reshape(-1, 1) if your data has a single feature or X.reshape(1, -1) if it contains a single sample.\n",
      "  DeprecationWarning)\n",
      "/Users/akuepper/anaconda/lib/python3.5/site-packages/sklearn/utils/validation.py:386: DeprecationWarning: Passing 1d arrays as data is deprecated in 0.17 and willraise ValueError in 0.19. Reshape your data either using X.reshape(-1, 1) if your data has a single feature or X.reshape(1, -1) if it contains a single sample.\n",
      "  DeprecationWarning)\n"
     ]
    },
    {
     "name": "stdout",
     "output_type": "stream",
     "text": [
      "b'SouthEnd' 2118 429.0\n",
      "b'SouthEnd' 2111 515.0\n",
      "b'SouthBoston' 2127 452.0\n",
      "b'SouthBoston' 2210 411.0\n",
      "b'BackBay' 2199 401.0\n",
      "b'BackBay' 2116 480.0\n",
      "b'BackBay' 2110 324.0\n",
      "b'BackBay' 2113 405.0\n",
      "b'BackBay' 2114 458.0\n",
      "b'BackBay' 2109 420.0\n",
      "b'Charlestown' 2129 458.0\n",
      "b'Allston' 2134 497.0\n",
      "b'Allston' 2135 501.0\n",
      "b'Allston' 2163 497.0\n",
      "b'EastBoston' 2128 605.0\n"
     ]
    },
    {
     "name": "stderr",
     "output_type": "stream",
     "text": [
      "/Users/akuepper/anaconda/lib/python3.5/site-packages/sklearn/utils/validation.py:386: DeprecationWarning: Passing 1d arrays as data is deprecated in 0.17 and willraise ValueError in 0.19. Reshape your data either using X.reshape(-1, 1) if your data has a single feature or X.reshape(1, -1) if it contains a single sample.\n",
      "  DeprecationWarning)\n",
      "/Users/akuepper/anaconda/lib/python3.5/site-packages/sklearn/utils/validation.py:386: DeprecationWarning: Passing 1d arrays as data is deprecated in 0.17 and willraise ValueError in 0.19. Reshape your data either using X.reshape(-1, 1) if your data has a single feature or X.reshape(1, -1) if it contains a single sample.\n",
      "  DeprecationWarning)\n"
     ]
    }
   ],
   "source": [
    "predictions = np.zeros(len(df_boston))\n",
    "i = 0\n",
    "for hood in df_boston:\n",
    "    average = 0.0\n",
    "    count = 0\n",
    "    if (hood[\"zip1\"]):\n",
    "        target = df_zipcode[df_zipcode[\"geoid2\"]==int(hood[\"zip1\"])]\n",
    "        target_params = target.values[0]\n",
    "        chlamydia_rate = model.predict(target_params[1:])*Ystd+Ymean\n",
    "        average += chlamydia_rate[0]*1e5\n",
    "        count += 1\n",
    "        print(hood[\"Neighborhood\"], hood[\"zip1\"],round(chlamydia_rate[0]*1e5))\n",
    "    if (hood[\"zip2\"]):\n",
    "        target = df_zipcode[df_zipcode[\"geoid2\"]==int(hood[\"zip2\"])]\n",
    "        target_params = target.values[0]\n",
    "        chlamydia_rate = model.predict(target_params[1:])*Ystd+Ymean\n",
    "        average += chlamydia_rate[0]*1e5\n",
    "        count += 1\n",
    "        print(hood[\"Neighborhood\"], hood[\"zip2\"],round(chlamydia_rate[0]*1e5))\n",
    "    if (hood[\"zip3\"]):\n",
    "        target = df_zipcode[df_zipcode[\"geoid2\"]==int(hood[\"zip3\"])]\n",
    "        target_params = target.values[0]\n",
    "        chlamydia_rate = model.predict(target_params[1:])*Ystd+Ymean\n",
    "        average += chlamydia_rate[0]*1e5\n",
    "        count += 1\n",
    "        print(hood[\"Neighborhood\"], hood[\"zip3\"],round(chlamydia_rate[0]*1e5))\n",
    "    if (hood[\"zip4\"]):\n",
    "        target = df_zipcode[df_zipcode[\"geoid2\"]==int(hood[\"zip4\"])]\n",
    "        target_params = target.values[0]\n",
    "        chlamydia_rate = model.predict(target_params[1:])*Ystd+Ymean\n",
    "        average += chlamydia_rate[0]*1e5\n",
    "        count += 1\n",
    "        print(hood[\"Neighborhood\"], hood[\"zip4\"],round(chlamydia_rate[0]*1e5))\n",
    "    if (hood[\"zip5\"]):\n",
    "        target = df_zipcode[df_zipcode[\"geoid2\"]==int(hood[\"zip5\"])]\n",
    "        target_params = target.values[0]\n",
    "        chlamydia_rate = model.predict(target_params[1:])*Ystd+Ymean\n",
    "        average += chlamydia_rate[0]*1e5\n",
    "        count += 1\n",
    "        print(hood[\"Neighborhood\"], hood[\"zip5\"],round(chlamydia_rate[0]*1e5))\n",
    "    if (hood[\"zip6\"]):\n",
    "        target = df_zipcode[df_zipcode[\"geoid2\"]==int(hood[\"zip6\"])]\n",
    "        target_params = target.values[0]\n",
    "        chlamydia_rate = model.predict(target_params[1:])*Ystd+Ymean\n",
    "        average += chlamydia_rate[0]*1e5\n",
    "        count += 1\n",
    "        print(hood[\"Neighborhood\"], hood[\"zip6\"],round(chlamydia_rate[0]*1e5))\n",
    "    average /= count\n",
    "    predictions[i] = average\n",
    "    i+=1"
   ]
  },
  {
   "cell_type": "code",
   "execution_count": 23,
   "metadata": {
    "collapsed": false
   },
   "outputs": [
    {
     "data": {
      "text/plain": [
       "(15,)"
      ]
     },
     "execution_count": 23,
     "metadata": {},
     "output_type": "execute_result"
    }
   ],
   "source": [
    "len(predictions), "
   ]
  },
  {
   "cell_type": "code",
   "execution_count": 24,
   "metadata": {
    "collapsed": false
   },
   "outputs": [],
   "source": [
    "df_boston_rates = np.genfromtxt(\"../data/rate_boston.txt\", dtype=[('Neighborhood','S20'),('mean','i8'),('error','i8')], delimiter=\",\")"
   ]
  },
  {
   "cell_type": "code",
   "execution_count": 25,
   "metadata": {
    "collapsed": false
   },
   "outputs": [],
   "source": [
    "labels = df_boston[\"Neighborhood\"]"
   ]
  },
  {
   "cell_type": "code",
   "execution_count": 26,
   "metadata": {
    "collapsed": false
   },
   "outputs": [
    {
     "data": {
      "text/plain": [
       "0.50231504327178955"
      ]
     },
     "execution_count": 26,
     "metadata": {},
     "output_type": "execute_result"
    }
   ],
   "source": [
    "R2 = 1.0-np.sum((predictions-df_boston_rates[\"mean\"])**2)/np.sum((df_boston_rates[\"mean\"]-np.mean(df_boston_rates[\"mean\"]))**2)\n",
    "R2"
   ]
  },
  {
   "cell_type": "code",
   "execution_count": 27,
   "metadata": {
    "collapsed": false
   },
   "outputs": [
    {
     "name": "stderr",
     "output_type": "stream",
     "text": [
      "/Users/akuepper/anaconda/lib/python3.5/site-packages/matplotlib/collections.py:590: FutureWarning: elementwise comparison failed; returning scalar instead, but in the future will perform elementwise comparison\n",
      "  if self._edgecolors == str('face'):\n"
     ]
    },
    {
     "data": {
      "image/png": "[encoded data removed]",
      "text/plain": [
       "<matplotlib.figure.Figure at 0x1031e0a58>"
      ]
     },
     "metadata": {},
     "output_type": "display_data"
    }
   ],
   "source": [
    "fig = plt.figure(figsize=(10, 6))\n",
    "data = np.arange(len(df_boston_rates['Neighborhood']))\n",
    "ax1 = plt.scatter(data,predictions)\n",
    "#plt.xlabel(\"Neighborhood\")\n",
    "plt.ylabel(\"Chlamydia cases [per 100,000]\")\n",
    "ax2 = plt.errorbar(data, df_boston_rates[\"mean\"], yerr=df_boston_rates[\"error\"],fmt='o', color='red')\n",
    "plt.xlim([-1,15])\n",
    "plt.ylim([0,1400])\n",
    "\n",
    "x = np.arange(15)\n",
    "labels = ['Hyde Park', 'West Roxbury', 'Roslindale', 'Mattapan','Jamaica Plain', 'South Dorchester', 'North Dorchester', 'Roxbury','Fenway', 'South End', 'South Boston', 'Back Bay','Charlestown', 'Allston', 'East Boston']\n",
    "plt.xticks(x, labels, rotation='vertical')\n",
    "\n",
    "plt.text(12, 1200, r'$R^2 = $%.2f'%(R2), fontsize=20)\n",
    "\n",
    "plt.savefig('../graphics/boston_comparison.png', bbox_inches='tight', dpi=150)"
   ]
  },
  {
   "cell_type": "markdown",
   "metadata": {
    "collapsed": true
   },
   "source": [
    "# Plots for website"
   ]
  },
  {
   "cell_type": "code",
   "execution_count": 28,
   "metadata": {
    "collapsed": false
   },
   "outputs": [
    {
     "name": "stderr",
     "output_type": "stream",
     "text": [
      "/Users/akuepper/anaconda/lib/python3.5/site-packages/sklearn/utils/validation.py:386: DeprecationWarning: Passing 1d arrays as data is deprecated in 0.17 and willraise ValueError in 0.19. Reshape your data either using X.reshape(-1, 1) if your data has a single feature or X.reshape(1, -1) if it contains a single sample.\n",
      "  DeprecationWarning)\n"
     ]
    },
    {
     "data": {
      "text/plain": [
       "array(['You', 'Your gender', 'Your age group', 'Your race / ethnicity',\n",
       "       'Your location'], \n",
       "      dtype='<U21')"
      ]
     },
     "execution_count": 28,
     "metadata": {},
     "output_type": "execute_result"
    }
   ],
   "source": [
    "def calculate_rate(Zipcode):\n",
    "    target = df_zipcode[df_zipcode[\"geoid2\"]==int(Zipcode)]\n",
    "    target_params = target.values[0]\n",
    "    chlamydia_rate = model.predict(target_params[1:])*Ystd+Ymean\n",
    "    return chlamydia_rate\n",
    "\n",
    "Race = \"Black\"\n",
    "Gender = \"Male\"\n",
    "Age = \"30-34\"\n",
    "Zipcode = \"02474\"\n",
    "\n",
    "\n",
    "target_unnormalized = df_zipcode_unnormalized[df_zipcode_unnormalized[\"geoid2\"]==int(Zipcode)]\n",
    "\n",
    "TOTALNR = target_unnormalized[\"Population\"]\n",
    "\n",
    "if Gender == \"Male\":\n",
    "    gender_table = \"hd02s026\"\n",
    "else:\n",
    "    gender_table = \"hd02s051\"\n",
    "\n",
    "GENDERNR = TOTALNR*target_unnormalized[gender_table]/100.0\n",
    "\n",
    "if Race == \"White\":\n",
    "    race_table = \"hd02s078\"\n",
    "elif Race == \"Black\":\n",
    "    race_table = \"hd02s079\"\n",
    "elif Race == \"Native\":\n",
    "    race_table = \"hd02s080\"\n",
    "elif Race == \"Asian\":\n",
    "    race_table = \"hd02s081\"\n",
    "elif Race == \"Pacific\":\n",
    "    race_table = \"hd02s089\"\n",
    "elif Race == \"Multiple\":\n",
    "    race_table = \"hd02s095\"\n",
    "elif Race == \"Hispanic\":\n",
    "    race_table = \"hd02s107\"\n",
    "\n",
    "RACENR = TOTALNR*target_unnormalized[race_table]/100.0\n",
    "\n",
    "if Age == \"0-14\":\n",
    "    age_table = \"hd02s002\"\n",
    "elif Age == \"15-19\":\n",
    "    age_table = \"hd02s005\"\n",
    "elif Age == \"20-24\":\n",
    "    age_table = \"hd02s006\"\n",
    "elif Age == \"25-29\":\n",
    "    age_table = \"hd02s007\"\n",
    "elif Age == \"30-34\":\n",
    "    age_table = \"hd02s008\"\n",
    "elif Age == \"35-39\":\n",
    "    age_table = \"hd02s009\"\n",
    "elif Age == \"40-44\":\n",
    "    age_table = \"hd02s010\"\n",
    "elif Age == \"45-54\":\n",
    "    age_table = \"hd02s011\"\n",
    "elif Age == \"55-64\":\n",
    "    age_table = \"hd02s013\"\n",
    "elif Age == \"65+\":\n",
    "    age_table = \"hd02s015\"\n",
    "\n",
    "AGENR = TOTALNR*target_unnormalized[age_table]/100.0\n",
    "\n",
    "\n",
    "\n",
    "zipcoderate = calculate_rate(Zipcode)*100\n",
    "genderrate = gender_rate[Gender]*100\n",
    "agerate = age_rate[Age]*100\n",
    "racerate = race_rate[Race]*100\n",
    "\n",
    "the_result = (zipcoderate/TOTALNR.values + genderrate/GENDERNR.values + racerate/RACENR.values + agerate/AGENR.values)/(1.0/TOTALNR.values+1.0/GENDERNR.values+1.0/RACENR.values+1.0/AGENR.values)\n",
    "\n",
    "d = np.array([the_result[0], genderrate, agerate, racerate, zipcoderate[0]])\n",
    "d_label = np.array([\"You\", \"Your gender\", \"Your age group\", \"Your race / ethnicity\", \"Your location\"])\n",
    "d_label"
   ]
  },
  {
   "cell_type": "code",
   "execution_count": 1,
   "metadata": {
    "collapsed": false
   },
   "outputs": [
    {
     "ename": "NameError",
     "evalue": "name 'sns' is not defined",
     "output_type": "error",
     "traceback": [
      "\u001b[0;31m---------------------------------------------------------------------------\u001b[0m",
      "\u001b[0;31mNameError\u001b[0m                                 Traceback (most recent call last)",
      "\u001b[0;32m<ipython-input-1-2a9e1e284dae>\u001b[0m in \u001b[0;36m<module>\u001b[0;34m()\u001b[0m\n\u001b[0;32m----> 1\u001b[0;31m \u001b[0msns\u001b[0m\u001b[0;34m.\u001b[0m\u001b[0mset\u001b[0m\u001b[0;34m(\u001b[0m\u001b[0mstyle\u001b[0m\u001b[0;34m=\u001b[0m\u001b[0;34m\"white\"\u001b[0m\u001b[0;34m,\u001b[0m \u001b[0mcontext\u001b[0m\u001b[0;34m=\u001b[0m\u001b[0;34m\"talk\"\u001b[0m\u001b[0;34m)\u001b[0m\u001b[0;34m\u001b[0m\u001b[0m\n\u001b[0m\u001b[1;32m      2\u001b[0m \u001b[0;34m\u001b[0m\u001b[0m\n\u001b[1;32m      3\u001b[0m \u001b[0mfig\u001b[0m\u001b[0;34m,\u001b[0m \u001b[0max\u001b[0m \u001b[0;34m=\u001b[0m \u001b[0mplt\u001b[0m\u001b[0;34m.\u001b[0m\u001b[0msubplots\u001b[0m\u001b[0;34m(\u001b[0m\u001b[0;36m1\u001b[0m\u001b[0;34m,\u001b[0m \u001b[0;36m1\u001b[0m\u001b[0;34m,\u001b[0m \u001b[0mfigsize\u001b[0m\u001b[0;34m=\u001b[0m\u001b[0;34m(\u001b[0m\u001b[0;36m10\u001b[0m\u001b[0;34m,\u001b[0m \u001b[0;36m6\u001b[0m\u001b[0;34m)\u001b[0m\u001b[0;34m,\u001b[0m \u001b[0msharex\u001b[0m\u001b[0;34m=\u001b[0m\u001b[0;32mTrue\u001b[0m\u001b[0;34m)\u001b[0m\u001b[0;34m\u001b[0m\u001b[0m\n\u001b[1;32m      4\u001b[0m \u001b[0msns\u001b[0m\u001b[0;34m.\u001b[0m\u001b[0mbarplot\u001b[0m\u001b[0;34m(\u001b[0m\u001b[0md_label\u001b[0m\u001b[0;34m,\u001b[0m \u001b[0md\u001b[0m\u001b[0;34m,\u001b[0m \u001b[0mpalette\u001b[0m\u001b[0;34m=\u001b[0m\u001b[0;34m\"RdBu_r\"\u001b[0m\u001b[0;34m,\u001b[0m \u001b[0max\u001b[0m\u001b[0;34m=\u001b[0m\u001b[0max\u001b[0m\u001b[0;34m)\u001b[0m\u001b[0;34m\u001b[0m\u001b[0m\n\u001b[1;32m      5\u001b[0m \u001b[0max\u001b[0m\u001b[0;34m.\u001b[0m\u001b[0mset_ylabel\u001b[0m\u001b[0;34m(\u001b[0m\u001b[0;34m\"Risk\"\u001b[0m\u001b[0;34m,\u001b[0m \u001b[0mfontsize\u001b[0m\u001b[0;34m=\u001b[0m\u001b[0;36m20\u001b[0m\u001b[0;34m)\u001b[0m\u001b[0;34m\u001b[0m\u001b[0m\n",
      "\u001b[0;31mNameError\u001b[0m: name 'sns' is not defined"
     ]
    }
   ],
   "source": [
    "sns.set(style=\"white\", context=\"talk\")\n",
    "\n",
    "fig, ax = plt.subplots(1, 1, figsize=(10, 6), sharex=True)\n",
    "sns.barplot(d_label, d, palette=\"RdBu_r\", ax=ax)\n",
    "ax.set_ylabel(\"Risk\", fontsize=20)\n",
    "plt.title(r'Chlamydia', fontsize=20)\n",
    "ax.plot([-1, len(d)], [0,0], \"k-\", linewidth=1.0)\n",
    "sns.despine(bottom=True)\n",
    "plt.setp(fig.axes, yticks=[])\n",
    "plt.tight_layout(h_pad=3)"
   ]
  },
  {
   "cell_type": "code",
   "execution_count": null,
   "metadata": {
    "collapsed": true
   },
   "outputs": [],
   "source": []
  }
 ],
 "metadata": {
  "kernelspec": {
   "display_name": "Python 3",
   "language": "python",
   "name": "python3"
  },
  "language_info": {
   "codemirror_mode": {
    "name": "ipython",
    "version": 3
   },
   "file_extension": ".py",
   "mimetype": "text/x-python",
   "name": "python",
   "nbconvert_exporter": "python",
   "pygments_lexer": "ipython3",
   "version": "3.5.1"
  }
 },
 "nbformat": 4,
 "nbformat_minor": 0
}
