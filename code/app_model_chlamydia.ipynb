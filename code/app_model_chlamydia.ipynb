{
 "cells": [
  {
   "cell_type": "markdown",
   "metadata": {},
   "source": [
    "# A first simple model"
   ]
  },
  {
   "cell_type": "code",
   "execution_count": 91,
   "metadata": {
    "collapsed": true
   },
   "outputs": [],
   "source": [
    "import pandas as pd\n",
    "import pickle\n",
    "import numpy as np\n",
    "import matplotlib.pyplot as plt\n",
    "%matplotlib inline"
   ]
  },
  {
   "cell_type": "code",
   "execution_count": 92,
   "metadata": {
    "collapsed": false
   },
   "outputs": [
    {
     "data": {
      "text/html": [
       "<div>\n",
       "<table border=\"1\" class=\"dataframe\">\n",
       "  <thead>\n",
       "    <tr style=\"text-align: right;\">\n",
       "      <th></th>\n",
       "      <th>Unnamed: 0</th>\n",
       "      <th>FIPS</th>\n",
       "      <th>Population</th>\n",
       "      <th>Cases</th>\n",
       "      <th>hd01s001</th>\n",
       "      <th>hd02s002</th>\n",
       "      <th>hd02s003</th>\n",
       "      <th>hd02s004</th>\n",
       "      <th>hd02s005</th>\n",
       "      <th>hd02s006</th>\n",
       "      <th>...</th>\n",
       "      <th>hd01s167</th>\n",
       "      <th>hd01s168</th>\n",
       "      <th>hd02s181</th>\n",
       "      <th>hd02s184</th>\n",
       "      <th>hd01vd01</th>\n",
       "      <th>d002</th>\n",
       "      <th>d014</th>\n",
       "      <th>d019</th>\n",
       "      <th>d024</th>\n",
       "      <th>d029</th>\n",
       "    </tr>\n",
       "  </thead>\n",
       "  <tbody>\n",
       "    <tr>\n",
       "      <th>0</th>\n",
       "      <td>0</td>\n",
       "      <td>1001</td>\n",
       "      <td>55246</td>\n",
       "      <td>220</td>\n",
       "      <td>4.736962</td>\n",
       "      <td>6.6</td>\n",
       "      <td>7.3</td>\n",
       "      <td>7.9</td>\n",
       "      <td>7.9</td>\n",
       "      <td>5.6</td>\n",
       "      <td>...</td>\n",
       "      <td>2.68</td>\n",
       "      <td>3.13</td>\n",
       "      <td>75.4</td>\n",
       "      <td>24.6</td>\n",
       "      <td>52475</td>\n",
       "      <td>0.562138</td>\n",
       "      <td>0.003017</td>\n",
       "      <td>0.020029</td>\n",
       "      <td>0.002868</td>\n",
       "      <td>0.017704</td>\n",
       "    </tr>\n",
       "    <tr>\n",
       "      <th>1</th>\n",
       "      <td>1</td>\n",
       "      <td>1003</td>\n",
       "      <td>195540</td>\n",
       "      <td>667</td>\n",
       "      <td>5.260703</td>\n",
       "      <td>6.1</td>\n",
       "      <td>6.4</td>\n",
       "      <td>6.5</td>\n",
       "      <td>6.4</td>\n",
       "      <td>5.2</td>\n",
       "      <td>...</td>\n",
       "      <td>2.46</td>\n",
       "      <td>2.93</td>\n",
       "      <td>72.5</td>\n",
       "      <td>27.5</td>\n",
       "      <td>50183</td>\n",
       "      <td>0.545409</td>\n",
       "      <td>0.002747</td>\n",
       "      <td>0.023886</td>\n",
       "      <td>0.003444</td>\n",
       "      <td>0.020292</td>\n",
       "    </tr>\n",
       "    <tr>\n",
       "      <th>2</th>\n",
       "      <td>2</td>\n",
       "      <td>1005</td>\n",
       "      <td>27076</td>\n",
       "      <td>166</td>\n",
       "      <td>4.438653</td>\n",
       "      <td>6.2</td>\n",
       "      <td>6.0</td>\n",
       "      <td>5.8</td>\n",
       "      <td>6.3</td>\n",
       "      <td>6.5</td>\n",
       "      <td>...</td>\n",
       "      <td>2.47</td>\n",
       "      <td>3.01</td>\n",
       "      <td>66.8</td>\n",
       "      <td>33.2</td>\n",
       "      <td>35634</td>\n",
       "      <td>0.437169</td>\n",
       "      <td>0.002342</td>\n",
       "      <td>0.019348</td>\n",
       "      <td>0.003666</td>\n",
       "      <td>0.022200</td>\n",
       "    </tr>\n",
       "    <tr>\n",
       "      <th>3</th>\n",
       "      <td>3</td>\n",
       "      <td>1007</td>\n",
       "      <td>22512</td>\n",
       "      <td>100</td>\n",
       "      <td>4.360120</td>\n",
       "      <td>6.0</td>\n",
       "      <td>6.1</td>\n",
       "      <td>6.3</td>\n",
       "      <td>6.7</td>\n",
       "      <td>6.5</td>\n",
       "      <td>...</td>\n",
       "      <td>2.60</td>\n",
       "      <td>3.09</td>\n",
       "      <td>75.6</td>\n",
       "      <td>24.4</td>\n",
       "      <td>37984</td>\n",
       "      <td>0.524582</td>\n",
       "      <td>0.001886</td>\n",
       "      <td>0.020244</td>\n",
       "      <td>0.002012</td>\n",
       "      <td>0.020370</td>\n",
       "    </tr>\n",
       "    <tr>\n",
       "      <th>4</th>\n",
       "      <td>4</td>\n",
       "      <td>1009</td>\n",
       "      <td>57872</td>\n",
       "      <td>72</td>\n",
       "      <td>4.758321</td>\n",
       "      <td>6.3</td>\n",
       "      <td>6.8</td>\n",
       "      <td>7.1</td>\n",
       "      <td>7.0</td>\n",
       "      <td>5.4</td>\n",
       "      <td>...</td>\n",
       "      <td>2.63</td>\n",
       "      <td>3.07</td>\n",
       "      <td>80.6</td>\n",
       "      <td>19.4</td>\n",
       "      <td>44409</td>\n",
       "      <td>0.606034</td>\n",
       "      <td>0.001946</td>\n",
       "      <td>0.017981</td>\n",
       "      <td>0.003707</td>\n",
       "      <td>0.013440</td>\n",
       "    </tr>\n",
       "  </tbody>\n",
       "</table>\n",
       "<p>5 rows × 55 columns</p>\n",
       "</div>"
      ],
      "text/plain": [
       "   Unnamed: 0  FIPS  Population  Cases  hd01s001  hd02s002  hd02s003  \\\n",
       "0           0  1001       55246    220  4.736962       6.6       7.3   \n",
       "1           1  1003      195540    667  5.260703       6.1       6.4   \n",
       "2           2  1005       27076    166  4.438653       6.2       6.0   \n",
       "3           3  1007       22512    100  4.360120       6.0       6.1   \n",
       "4           4  1009       57872     72  4.758321       6.3       6.8   \n",
       "\n",
       "   hd02s004  hd02s005  hd02s006    ...     hd01s167  hd01s168  hd02s181  \\\n",
       "0       7.9       7.9       5.6    ...         2.68      3.13      75.4   \n",
       "1       6.5       6.4       5.2    ...         2.46      2.93      72.5   \n",
       "2       5.8       6.3       6.5    ...         2.47      3.01      66.8   \n",
       "3       6.3       6.7       6.5    ...         2.60      3.09      75.6   \n",
       "4       7.1       7.0       5.4    ...         2.63      3.07      80.6   \n",
       "\n",
       "   hd02s184  hd01vd01      d002      d014      d019      d024      d029  \n",
       "0      24.6     52475  0.562138  0.003017  0.020029  0.002868  0.017704  \n",
       "1      27.5     50183  0.545409  0.002747  0.023886  0.003444  0.020292  \n",
       "2      33.2     35634  0.437169  0.002342  0.019348  0.003666  0.022200  \n",
       "3      24.4     37984  0.524582  0.001886  0.020244  0.002012  0.020370  \n",
       "4      19.4     44409  0.606034  0.001946  0.017981  0.003707  0.013440  \n",
       "\n",
       "[5 rows x 55 columns]"
      ]
     },
     "execution_count": 92,
     "metadata": {},
     "output_type": "execute_result"
    }
   ],
   "source": [
    "df_merged = pd.read_csv(\"../data/chlamydia_cdc_census.csv\")\n",
    "df_merged.head()"
   ]
  },
  {
   "cell_type": "code",
   "execution_count": 93,
   "metadata": {
    "collapsed": true
   },
   "outputs": [],
   "source": [
    "df_zipfips= pd.read_csv(\"../data/ZIP_COUNTY_122014.csv\", usecols={0,1})"
   ]
  },
  {
   "cell_type": "code",
   "execution_count": 94,
   "metadata": {
    "collapsed": true
   },
   "outputs": [],
   "source": [
    "zip2fips = dict(zip(df_zipfips[\"ZIP\"], df_zipfips[\"COUNTY\"]))"
   ]
  },
  {
   "cell_type": "code",
   "execution_count": 95,
   "metadata": {
    "collapsed": false
   },
   "outputs": [],
   "source": [
    "fips = zip2fips[10027]"
   ]
  },
  {
   "cell_type": "code",
   "execution_count": 96,
   "metadata": {
    "collapsed": false
   },
   "outputs": [
    {
     "data": {
      "text/plain": [
       "(1, 55)"
      ]
     },
     "execution_count": 96,
     "metadata": {},
     "output_type": "execute_result"
    }
   ],
   "source": [
    "target = df_merged[df_merged['FIPS']==fips]\n",
    "target.shape"
   ]
  },
  {
   "cell_type": "code",
   "execution_count": 97,
   "metadata": {
    "collapsed": false
   },
   "outputs": [],
   "source": [
    "target_params = target.values[0]"
   ]
  },
  {
   "cell_type": "code",
   "execution_count": 98,
   "metadata": {
    "collapsed": true
   },
   "outputs": [],
   "source": [
    "model = pickle.load(open('../data/randomforest_params.pickle', \"rb\" ))"
   ]
  },
  {
   "cell_type": "code",
   "execution_count": 99,
   "metadata": {
    "collapsed": false
   },
   "outputs": [
    {
     "name": "stderr",
     "output_type": "stream",
     "text": [
      "/Users/akuepper/anaconda/lib/python3.5/site-packages/sklearn/utils/validation.py:386: DeprecationWarning: Passing 1d arrays as data is deprecated in 0.17 and willraise ValueError in 0.19. Reshape your data either using X.reshape(-1, 1) if your data has a single feature or X.reshape(1, -1) if it contains a single sample.\n",
      "  DeprecationWarning)\n"
     ]
    }
   ],
   "source": [
    "chlamydia_rate = model.predict(target_params[3:])"
   ]
  },
  {
   "cell_type": "code",
   "execution_count": 100,
   "metadata": {
    "collapsed": false
   },
   "outputs": [
    {
     "data": {
      "text/plain": [
       "(2.0094210449309635,\n",
       " 0.33767371499492893,\n",
       " 3.360990707281132,\n",
       " 1.0970021725482926,\n",
       " 0.3385485173653821,\n",
       " 1.8706190688190578,\n",
       " 0.5452934775824846)"
      ]
     },
     "execution_count": 100,
     "metadata": {},
     "output_type": "execute_result"
    }
   ],
   "source": [
    "gender_rate = {}\n",
    "gender_factor = {}\n",
    "gender_number = {}\n",
    "gender_rate[\"Male\"] = 278.4e-5\n",
    "gender_rate[\"Female\"] = 627.2e-5\n",
    "gender_number[\"Male\"] = 155651602\n",
    "gender_number[\"Female\"] = 160477237\n",
    "rate_average = (gender_rate[\"Male\"]*gender_number[\"Male\"]+gender_rate[\"Female\"]*gender_number[\"Male\"])/(gender_number[\"Male\"]+gender_number[\"Female\"])\n",
    "gender_factor[\"Male\"] = gender_rate[\"Male\"]/rate_average\n",
    "gender_factor[\"Female\"] = gender_rate[\"Female\"]/rate_average\n",
    "gender_factor[\"Female\"], gender_factor[\"Male\"]\n",
    "race_rate = {}\n",
    "race_factor = {}\n",
    "race_number = {}\n",
    "race_number[\"Native\"] = 1942876.0\n",
    "race_number[\"Asian\"] = 12721721.0\n",
    "race_number[\"Black\"] = 29489649.0\n",
    "race_number[\"Hispanic\"] = 46407173.0\n",
    "race_number[\"Multiple\"] = 5145135.0\n",
    "race_number[\"Pacific\"] = 473703.0\n",
    "race_number[\"White\"] = 161443167.0\n",
    "race_rate[\"Native\"] = 689.1e-5\n",
    "race_rate[\"Asian\"] = 115.8e-5\n",
    "race_rate[\"Black\"] = 1152.6e-5\n",
    "race_rate[\"Hispanic\"] = 376.2e-5\n",
    "race_rate[\"Multiple\"] = 116.1e-5\n",
    "race_rate[\"Pacific\"] = 641.5e-5\n",
    "race_rate[\"White\"] = 187.0e-5\n",
    "US_number = race_number[\"Native\"] + race_number[\"Asian\"] + race_number[\"Black\"] + race_number[\"Hispanic\"] + race_number[\"Multiple\"] + race_number[\"Pacific\"] + race_number[\"White\"]\n",
    "rate_average = (race_rate[\"Native\"]*race_number[\"Native\"]+race_rate[\"Asian\"]*race_number[\"Asian\"]+race_rate[\"Black\"]*race_number[\"Black\"]+race_rate[\"Hispanic\"]*race_number[\"Hispanic\"]+race_rate[\"Multiple\"]*race_number[\"Multiple\"]+race_rate[\"Pacific\"]*race_number[\"Multiple\"]+race_rate[\"White\"]*race_number[\"White\"])/US_number  \n",
    "race_factor[\"Native\"] = race_rate[\"Native\"]/rate_average\n",
    "race_factor[\"Asian\"] = race_rate[\"Asian\"]/rate_average\n",
    "race_factor[\"Black\"] = race_rate[\"Black\"]/rate_average\n",
    "race_factor[\"Hispanic\"] = race_rate[\"Hispanic\"]/rate_average\n",
    "race_factor[\"Multiple\"] = race_rate[\"Multiple\"]/rate_average\n",
    "race_factor[\"Pacific\"] = race_rate[\"Pacific\"]/rate_average\n",
    "race_factor[\"White\"] = race_rate[\"White\"]/rate_average\n",
    "\n",
    "age_rate = {}\n",
    "age_factor = {}\n",
    "age_number = {}\n",
    "age_number[\"0-14\"] = 61089123.0\n",
    "age_number[\"15-19\"] = 21158964.0\n",
    "age_number[\"20-24\"] = 22795438.0\n",
    "age_number[\"25-29\"] = 21580198.0\n",
    "age_number[\"30-34\"] = 21264389.0\n",
    "age_number[\"35-39\"] = 19603770.0\n",
    "age_number[\"40-44\"] = 20848920.0\n",
    "age_number[\"45-54\"] = 43767532.0\n",
    "age_number[\"55-64\"] = 39316431.0\n",
    "age_number[\"65+\"] = 44704074.0\n",
    "\n",
    "age_rate[\"0-14\"] = 20.0e-5\n",
    "age_rate[\"15-19\"] = 1804.0e-5\n",
    "age_rate[\"20-24\"] = 2484.6e-5\n",
    "age_rate[\"25-29\"] = 1176.2e-5\n",
    "age_rate[\"30-34\"] = 532.4e-5\n",
    "age_rate[\"35-39\"] = 268.0e-5\n",
    "age_rate[\"40-44\"] = 131.5e-5\n",
    "age_rate[\"45-54\"] = 56.6e-5\n",
    "age_rate[\"55-64\"] = 16.6e-5\n",
    "age_rate[\"65+\"] = 3.2e-5\n",
    "\n",
    "US_age_number = age_number[\"0-14\"] + age_number[\"15-19\"] + age_number[\"20-24\"] + age_number[\"25-29\"] + age_number[\"30-34\"] + age_number[\"35-39\"] + age_number[\"40-44\"] + age_number[\"45-54\"] + age_number[\"55-64\"] + age_number[\"65+\"]\n",
    "rate_average = (age_rate[\"0-14\"]*age_number[\"0-14\"]+age_rate[\"15-19\"]*age_number[\"15-19\"]+age_rate[\"20-24\"]*age_number[\"20-24\"]+age_rate[\"25-29\"]*age_number[\"25-29\"]+age_rate[\"30-34\"]*age_number[\"30-34\"]+age_rate[\"35-39\"]*age_number[\"35-39\"]+age_rate[\"40-44\"]*age_number[\"40-44\"]+age_rate[\"45-54\"]*age_number[\"45-54\"]+age_rate[\"55-64\"]*age_number[\"55-64\"]+age_rate[\"65+\"]*age_number[\"65+\"])/US_age_number  \n",
    "age_factor[\"0-14\"] = age_rate[\"0-14\"]/rate_average\n",
    "age_factor[\"15-19\"] = age_rate[\"15-19\"]/rate_average\n",
    "age_factor[\"20-24\"] = age_rate[\"20-24\"]/rate_average\n",
    "age_factor[\"25-29\"] = age_rate[\"30-34\"]/rate_average\n",
    "age_factor[\"30-34\"] = age_rate[\"30-34\"]/rate_average\n",
    "age_factor[\"35-39\"] = age_rate[\"35-39\"]/rate_average\n",
    "age_factor[\"40-44\"] = age_rate[\"40-44\"]/rate_average\n",
    "age_factor[\"45-54\"] = age_rate[\"45-54\"]/rate_average\n",
    "age_factor[\"55-64\"] = age_rate[\"55-64\"]/rate_average\n",
    "age_factor[\"65+\"] = age_rate[\"65+\"]/rate_average\n",
    "\n",
    "race_factor[\"Native\"], race_factor[\"Asian\"], race_factor[\"Black\"], race_factor[\"Hispanic\"], race_factor[\"Multiple\"], race_factor[\"Pacific\"], race_factor[\"White\"]\n",
    "#age_factor[\"0-14\"], age_factor[\"15-19\"], age_factor[\"20-24\"], age_factor[\"25-29\"], age_factor[\"30-34\"], age_factor[\"35-39\"], age_factor[\"40-44\"], age_factor[\"45-54\"], age_factor[\"55-64\"], age_factor[\"65+\"]"
   ]
  },
  {
   "cell_type": "code",
   "execution_count": 101,
   "metadata": {
    "collapsed": false
   },
   "outputs": [
    {
     "name": "stdout",
     "output_type": "stream",
     "text": [
      "Your individual chance of having Chlamydia is 0.05 percent\n"
     ]
    },
    {
     "name": "stderr",
     "output_type": "stream",
     "text": [
      "/Users/akuepper/anaconda/lib/python3.5/site-packages/sklearn/utils/validation.py:386: DeprecationWarning: Passing 1d arrays as data is deprecated in 0.17 and willraise ValueError in 0.19. Reshape your data either using X.reshape(-1, 1) if your data has a single feature or X.reshape(1, -1) if it contains a single sample.\n",
      "  DeprecationWarning)\n"
     ]
    }
   ],
   "source": [
    "def calculate_rate(Zipcode, Race, Gender, Age):\n",
    "    fips = zip2fips[int(Zipcode)]\n",
    "    target = df_merged[df_merged['FIPS']==fips]\n",
    "    target_params = target.values[0]\n",
    "    chlamydia_rate = model.predict(target_params[3:])\n",
    "    return chlamydia_rate*gender_factor[Gender]*race_factor[Race]*age_factor[Age]\n",
    "\n",
    "Race = \"White\"\n",
    "Gender = \"Male\"\n",
    "Age = \"35-39\"\n",
    "Zipcode = \"02139\"\n",
    "print(\"Your individual chance of having Chlamydia is %.2f percent\"%(calculate_rate(Zipcode, Race, Gender, Age)*100))"
   ]
  },
  {
   "cell_type": "markdown",
   "metadata": {
    "collapsed": true
   },
   "source": [
    "## ZIP code census data base"
   ]
  },
  {
   "cell_type": "code",
   "execution_count": 102,
   "metadata": {
    "collapsed": true
   },
   "outputs": [],
   "source": [
    "df_zipcode = pd.read_csv(\"../data/census_zipcode.csv\")"
   ]
  },
  {
   "cell_type": "code",
   "execution_count": 103,
   "metadata": {
    "collapsed": false
   },
   "outputs": [
    {
     "data": {
      "text/html": [
       "<div>\n",
       "<table border=\"1\" class=\"dataframe\">\n",
       "  <thead>\n",
       "    <tr style=\"text-align: right;\">\n",
       "      <th></th>\n",
       "      <th>Unnamed: 0</th>\n",
       "      <th>geoid2</th>\n",
       "      <th>hd01s001</th>\n",
       "      <th>hd02s002</th>\n",
       "      <th>hd02s003</th>\n",
       "      <th>hd02s004</th>\n",
       "      <th>hd02s005</th>\n",
       "      <th>hd02s006</th>\n",
       "      <th>hd02s007</th>\n",
       "      <th>hd02s008</th>\n",
       "      <th>...</th>\n",
       "      <th>hd01s167</th>\n",
       "      <th>hd01s168</th>\n",
       "      <th>hd02s181</th>\n",
       "      <th>hd02s184</th>\n",
       "      <th>hd01vd01</th>\n",
       "      <th>d002</th>\n",
       "      <th>d014</th>\n",
       "      <th>d019</th>\n",
       "      <th>d024</th>\n",
       "      <th>d029</th>\n",
       "    </tr>\n",
       "  </thead>\n",
       "  <tbody>\n",
       "    <tr>\n",
       "      <th>0</th>\n",
       "      <td>0</td>\n",
       "      <td>601</td>\n",
       "      <td>18570</td>\n",
       "      <td>6.1</td>\n",
       "      <td>6.7</td>\n",
       "      <td>7.8</td>\n",
       "      <td>8.4</td>\n",
       "      <td>7</td>\n",
       "      <td>6.9</td>\n",
       "      <td>6.1</td>\n",
       "      <td>...</td>\n",
       "      <td>2.84</td>\n",
       "      <td>3.27</td>\n",
       "      <td>67.3</td>\n",
       "      <td>32.7</td>\n",
       "      <td>10833</td>\n",
       "      <td>0.523372</td>\n",
       "      <td>0.000920</td>\n",
       "      <td>0.028659</td>\n",
       "      <td>0.001992</td>\n",
       "      <td>0.023142</td>\n",
       "    </tr>\n",
       "    <tr>\n",
       "      <th>1</th>\n",
       "      <td>1</td>\n",
       "      <td>602</td>\n",
       "      <td>41520</td>\n",
       "      <td>5.5</td>\n",
       "      <td>6</td>\n",
       "      <td>7.3</td>\n",
       "      <td>7.9</td>\n",
       "      <td>7.2</td>\n",
       "      <td>6.3</td>\n",
       "      <td>6.7</td>\n",
       "      <td>...</td>\n",
       "      <td>2.76</td>\n",
       "      <td>3.20</td>\n",
       "      <td>77.5</td>\n",
       "      <td>22.5</td>\n",
       "      <td>16353</td>\n",
       "      <td>0.551393</td>\n",
       "      <td>0.001933</td>\n",
       "      <td>0.022930</td>\n",
       "      <td>0.002733</td>\n",
       "      <td>0.016998</td>\n",
       "    </tr>\n",
       "    <tr>\n",
       "      <th>2</th>\n",
       "      <td>2</td>\n",
       "      <td>603</td>\n",
       "      <td>54689</td>\n",
       "      <td>5.9</td>\n",
       "      <td>6.3</td>\n",
       "      <td>7</td>\n",
       "      <td>7.2</td>\n",
       "      <td>6.6</td>\n",
       "      <td>6.4</td>\n",
       "      <td>6.5</td>\n",
       "      <td>...</td>\n",
       "      <td>2.53</td>\n",
       "      <td>3.06</td>\n",
       "      <td>64.9</td>\n",
       "      <td>35.1</td>\n",
       "      <td>16323</td>\n",
       "      <td>0.443599</td>\n",
       "      <td>0.001559</td>\n",
       "      <td>0.019564</td>\n",
       "      <td>0.002127</td>\n",
       "      <td>0.025519</td>\n",
       "    </tr>\n",
       "    <tr>\n",
       "      <th>3</th>\n",
       "      <td>3</td>\n",
       "      <td>606</td>\n",
       "      <td>6615</td>\n",
       "      <td>6.6</td>\n",
       "      <td>6.2</td>\n",
       "      <td>7.4</td>\n",
       "      <td>7.7</td>\n",
       "      <td>7.8</td>\n",
       "      <td>6.9</td>\n",
       "      <td>6.1</td>\n",
       "      <td>...</td>\n",
       "      <td>2.75</td>\n",
       "      <td>3.24</td>\n",
       "      <td>72.3</td>\n",
       "      <td>27.7</td>\n",
       "      <td>14138</td>\n",
       "      <td>0.499584</td>\n",
       "      <td>0.002496</td>\n",
       "      <td>0.031614</td>\n",
       "      <td>0.001664</td>\n",
       "      <td>0.021215</td>\n",
       "    </tr>\n",
       "    <tr>\n",
       "      <th>4</th>\n",
       "      <td>4</td>\n",
       "      <td>610</td>\n",
       "      <td>29016</td>\n",
       "      <td>5.7</td>\n",
       "      <td>6.1</td>\n",
       "      <td>7.6</td>\n",
       "      <td>7.5</td>\n",
       "      <td>6.4</td>\n",
       "      <td>6.2</td>\n",
       "      <td>6.7</td>\n",
       "      <td>...</td>\n",
       "      <td>2.67</td>\n",
       "      <td>3.14</td>\n",
       "      <td>77.5</td>\n",
       "      <td>22.5</td>\n",
       "      <td>17265</td>\n",
       "      <td>0.496309</td>\n",
       "      <td>0.001846</td>\n",
       "      <td>0.026209</td>\n",
       "      <td>0.002307</td>\n",
       "      <td>0.030269</td>\n",
       "    </tr>\n",
       "  </tbody>\n",
       "</table>\n",
       "<p>5 rows × 53 columns</p>\n",
       "</div>"
      ],
      "text/plain": [
       "   Unnamed: 0  geoid2  hd01s001 hd02s002 hd02s003 hd02s004 hd02s005 hd02s006  \\\n",
       "0           0     601     18570      6.1      6.7      7.8      8.4        7   \n",
       "1           1     602     41520      5.5        6      7.3      7.9      7.2   \n",
       "2           2     603     54689      5.9      6.3        7      7.2      6.6   \n",
       "3           3     606      6615      6.6      6.2      7.4      7.7      7.8   \n",
       "4           4     610     29016      5.7      6.1      7.6      7.5      6.4   \n",
       "\n",
       "  hd02s007 hd02s008    ...    hd01s167 hd01s168 hd02s181 hd02s184 hd01vd01  \\\n",
       "0      6.9      6.1    ...        2.84     3.27     67.3     32.7    10833   \n",
       "1      6.3      6.7    ...        2.76     3.20     77.5     22.5    16353   \n",
       "2      6.4      6.5    ...        2.53     3.06     64.9     35.1    16323   \n",
       "3      6.9      6.1    ...        2.75     3.24     72.3     27.7    14138   \n",
       "4      6.2      6.7    ...        2.67     3.14     77.5     22.5    17265   \n",
       "\n",
       "       d002      d014      d019      d024      d029  \n",
       "0  0.523372  0.000920  0.028659  0.001992  0.023142  \n",
       "1  0.551393  0.001933  0.022930  0.002733  0.016998  \n",
       "2  0.443599  0.001559  0.019564  0.002127  0.025519  \n",
       "3  0.499584  0.002496  0.031614  0.001664  0.021215  \n",
       "4  0.496309  0.001846  0.026209  0.002307  0.030269  \n",
       "\n",
       "[5 rows x 53 columns]"
      ]
     },
     "execution_count": 103,
     "metadata": {},
     "output_type": "execute_result"
    }
   ],
   "source": [
    "df_zipcode.head()"
   ]
  },
  {
   "cell_type": "code",
   "execution_count": 104,
   "metadata": {
    "collapsed": false
   },
   "outputs": [
    {
     "data": {
      "text/html": [
       "<div>\n",
       "<table border=\"1\" class=\"dataframe\">\n",
       "  <thead>\n",
       "    <tr style=\"text-align: right;\">\n",
       "      <th></th>\n",
       "      <th>Unnamed: 0</th>\n",
       "      <th>geoid2</th>\n",
       "      <th>hd01s001</th>\n",
       "      <th>hd02s002</th>\n",
       "      <th>hd02s003</th>\n",
       "      <th>hd02s004</th>\n",
       "      <th>hd02s005</th>\n",
       "      <th>hd02s006</th>\n",
       "      <th>hd02s007</th>\n",
       "      <th>hd02s008</th>\n",
       "      <th>...</th>\n",
       "      <th>hd01s167</th>\n",
       "      <th>hd01s168</th>\n",
       "      <th>hd02s181</th>\n",
       "      <th>hd02s184</th>\n",
       "      <th>hd01vd01</th>\n",
       "      <th>d002</th>\n",
       "      <th>d014</th>\n",
       "      <th>d019</th>\n",
       "      <th>d024</th>\n",
       "      <th>d029</th>\n",
       "    </tr>\n",
       "  </thead>\n",
       "  <tbody>\n",
       "    <tr>\n",
       "      <th>488</th>\n",
       "      <td>488</td>\n",
       "      <td>2139</td>\n",
       "      <td>36349</td>\n",
       "      <td>4.2</td>\n",
       "      <td>2.9</td>\n",
       "      <td>2.5</td>\n",
       "      <td>6.7</td>\n",
       "      <td>16.8</td>\n",
       "      <td>19.1</td>\n",
       "      <td>12.1</td>\n",
       "      <td>...</td>\n",
       "      <td>2.08</td>\n",
       "      <td>2.81</td>\n",
       "      <td>32.2</td>\n",
       "      <td>67.8</td>\n",
       "      <td>73819</td>\n",
       "      <td>0.258902</td>\n",
       "      <td>0.007714</td>\n",
       "      <td>0.039328</td>\n",
       "      <td>0.009229</td>\n",
       "      <td>0.038983</td>\n",
       "    </tr>\n",
       "  </tbody>\n",
       "</table>\n",
       "<p>1 rows × 53 columns</p>\n",
       "</div>"
      ],
      "text/plain": [
       "     Unnamed: 0  geoid2  hd01s001 hd02s002 hd02s003 hd02s004 hd02s005  \\\n",
       "488         488    2139     36349      4.2      2.9      2.5      6.7   \n",
       "\n",
       "    hd02s006 hd02s007 hd02s008    ...    hd01s167 hd01s168 hd02s181 hd02s184  \\\n",
       "488     16.8     19.1     12.1    ...        2.08     2.81     32.2     67.8   \n",
       "\n",
       "    hd01vd01      d002      d014      d019      d024      d029  \n",
       "488    73819  0.258902  0.007714  0.039328  0.009229  0.038983  \n",
       "\n",
       "[1 rows x 53 columns]"
      ]
     },
     "execution_count": 104,
     "metadata": {},
     "output_type": "execute_result"
    }
   ],
   "source": [
    "df_zipcode[df_zipcode[\"geoid2\"]==int(Zipcode)]"
   ]
  },
  {
   "cell_type": "code",
   "execution_count": 105,
   "metadata": {
    "collapsed": false
   },
   "outputs": [
    {
     "name": "stdout",
     "output_type": "stream",
     "text": [
      "Your individual chance of having Chlamydia is 0.09 percent\n"
     ]
    },
    {
     "name": "stderr",
     "output_type": "stream",
     "text": [
      "/Users/akuepper/anaconda/lib/python3.5/site-packages/sklearn/utils/validation.py:386: DeprecationWarning: Passing 1d arrays as data is deprecated in 0.17 and willraise ValueError in 0.19. Reshape your data either using X.reshape(-1, 1) if your data has a single feature or X.reshape(1, -1) if it contains a single sample.\n",
      "  DeprecationWarning)\n"
     ]
    }
   ],
   "source": [
    "def calculate_rate(Zipcode, Race, Gender, Age):\n",
    "    target = df_zipcode[df_zipcode[\"geoid2\"]==int(Zipcode)]\n",
    "    target_params = target.values[0]\n",
    "    chlamydia_rate = model.predict(target_params[1:])\n",
    "    return chlamydia_rate*gender_factor[Gender]*race_factor[Race]*age_factor[Age]\n",
    "\n",
    "Race = \"White\"\n",
    "Gender = \"Male\"\n",
    "Age = \"35-39\"\n",
    "Zipcode = \"02139\"\n",
    "print(\"Your individual chance of having Chlamydia is %.2f percent\"%(calculate_rate(Zipcode, Race, Gender, Age)*100))"
   ]
  },
  {
   "cell_type": "markdown",
   "metadata": {
    "collapsed": true
   },
   "source": [
    "## Model validation with Boston Public Health Commission data"
   ]
  },
  {
   "cell_type": "code",
   "execution_count": 106,
   "metadata": {
    "collapsed": false
   },
   "outputs": [],
   "source": [
    "df_boston = np.genfromtxt(\"../data/zipcodes_boston.txt\", dtype=[('Neighborhood','S20'),('zip1','i8'),('zip2','i8'),('zip3','i8'),('zip4','i8'),('zip5','i8'),('zip6','i8')], delimiter=\",\")"
   ]
  },
  {
   "cell_type": "code",
   "execution_count": 107,
   "metadata": {
    "collapsed": false
   },
   "outputs": [
    {
     "data": {
      "text/plain": [
       "(array([(b'HydePark', 2136, 0, 0, 0, 0, 0),\n",
       "        (b'WestRoxbury', 2132, 0, 0, 0, 0, 0),\n",
       "        (b'Roslindale', 2131, 0, 0, 0, 0, 0),\n",
       "        (b'Mattapan', 2126, 0, 0, 0, 0, 0),\n",
       "        (b'JamaicaPlain', 2130, 0, 0, 0, 0, 0),\n",
       "        (b'SouthDorchester', 2124, 2122, 0, 0, 0, 0),\n",
       "        (b'NorthDorchester', 2121, 2125, 0, 0, 0, 0),\n",
       "        (b'Roxbury', 2119, 2120, 0, 0, 0, 0),\n",
       "        (b'Fenway', 2215, 2115, 0, 0, 0, 0),\n",
       "        (b'SouthEnd', 2118, 2111, 0, 0, 0, 0),\n",
       "        (b'SouthBoston', 2127, 2210, 0, 0, 0, 0),\n",
       "        (b'BackBay', 2199, 2116, 2110, 2113, 2114, 2109),\n",
       "        (b'Charlestown', 2129, 0, 0, 0, 0, 0),\n",
       "        (b'Allston', 2134, 2135, 2163, 0, 0, 0),\n",
       "        (b'EastBoston', 2128, 0, 0, 0, 0, 0)], \n",
       "       dtype=[('Neighborhood', 'S20'), ('zip1', '<i8'), ('zip2', '<i8'), ('zip3', '<i8'), ('zip4', '<i8'), ('zip5', '<i8'), ('zip6', '<i8')]),\n",
       " 15)"
      ]
     },
     "execution_count": 107,
     "metadata": {},
     "output_type": "execute_result"
    }
   ],
   "source": [
    "df_boston, len(df_boston)"
   ]
  },
  {
   "cell_type": "code",
   "execution_count": 108,
   "metadata": {
    "collapsed": false,
    "scrolled": false
   },
   "outputs": [
    {
     "name": "stderr",
     "output_type": "stream",
     "text": [
      "/Users/akuepper/anaconda/lib/python3.5/site-packages/sklearn/utils/validation.py:386: DeprecationWarning: Passing 1d arrays as data is deprecated in 0.17 and willraise ValueError in 0.19. Reshape your data either using X.reshape(-1, 1) if your data has a single feature or X.reshape(1, -1) if it contains a single sample.\n",
      "  DeprecationWarning)\n",
      "/Users/akuepper/anaconda/lib/python3.5/site-packages/sklearn/utils/validation.py:386: DeprecationWarning: Passing 1d arrays as data is deprecated in 0.17 and willraise ValueError in 0.19. Reshape your data either using X.reshape(-1, 1) if your data has a single feature or X.reshape(1, -1) if it contains a single sample.\n",
      "  DeprecationWarning)\n",
      "/Users/akuepper/anaconda/lib/python3.5/site-packages/sklearn/utils/validation.py:386: DeprecationWarning: Passing 1d arrays as data is deprecated in 0.17 and willraise ValueError in 0.19. Reshape your data either using X.reshape(-1, 1) if your data has a single feature or X.reshape(1, -1) if it contains a single sample.\n",
      "  DeprecationWarning)\n",
      "/Users/akuepper/anaconda/lib/python3.5/site-packages/sklearn/utils/validation.py:386: DeprecationWarning: Passing 1d arrays as data is deprecated in 0.17 and willraise ValueError in 0.19. Reshape your data either using X.reshape(-1, 1) if your data has a single feature or X.reshape(1, -1) if it contains a single sample.\n",
      "  DeprecationWarning)\n",
      "/Users/akuepper/anaconda/lib/python3.5/site-packages/sklearn/utils/validation.py:386: DeprecationWarning: Passing 1d arrays as data is deprecated in 0.17 and willraise ValueError in 0.19. Reshape your data either using X.reshape(-1, 1) if your data has a single feature or X.reshape(1, -1) if it contains a single sample.\n",
      "  DeprecationWarning)\n",
      "/Users/akuepper/anaconda/lib/python3.5/site-packages/sklearn/utils/validation.py:386: DeprecationWarning: Passing 1d arrays as data is deprecated in 0.17 and willraise ValueError in 0.19. Reshape your data either using X.reshape(-1, 1) if your data has a single feature or X.reshape(1, -1) if it contains a single sample.\n",
      "  DeprecationWarning)\n",
      "/Users/akuepper/anaconda/lib/python3.5/site-packages/sklearn/utils/validation.py:386: DeprecationWarning: Passing 1d arrays as data is deprecated in 0.17 and willraise ValueError in 0.19. Reshape your data either using X.reshape(-1, 1) if your data has a single feature or X.reshape(1, -1) if it contains a single sample.\n",
      "  DeprecationWarning)\n",
      "/Users/akuepper/anaconda/lib/python3.5/site-packages/sklearn/utils/validation.py:386: DeprecationWarning: Passing 1d arrays as data is deprecated in 0.17 and willraise ValueError in 0.19. Reshape your data either using X.reshape(-1, 1) if your data has a single feature or X.reshape(1, -1) if it contains a single sample.\n",
      "  DeprecationWarning)\n",
      "/Users/akuepper/anaconda/lib/python3.5/site-packages/sklearn/utils/validation.py:386: DeprecationWarning: Passing 1d arrays as data is deprecated in 0.17 and willraise ValueError in 0.19. Reshape your data either using X.reshape(-1, 1) if your data has a single feature or X.reshape(1, -1) if it contains a single sample.\n",
      "  DeprecationWarning)\n",
      "/Users/akuepper/anaconda/lib/python3.5/site-packages/sklearn/utils/validation.py:386: DeprecationWarning: Passing 1d arrays as data is deprecated in 0.17 and willraise ValueError in 0.19. Reshape your data either using X.reshape(-1, 1) if your data has a single feature or X.reshape(1, -1) if it contains a single sample.\n",
      "  DeprecationWarning)\n",
      "/Users/akuepper/anaconda/lib/python3.5/site-packages/sklearn/utils/validation.py:386: DeprecationWarning: Passing 1d arrays as data is deprecated in 0.17 and willraise ValueError in 0.19. Reshape your data either using X.reshape(-1, 1) if your data has a single feature or X.reshape(1, -1) if it contains a single sample.\n",
      "  DeprecationWarning)\n",
      "/Users/akuepper/anaconda/lib/python3.5/site-packages/sklearn/utils/validation.py:386: DeprecationWarning: Passing 1d arrays as data is deprecated in 0.17 and willraise ValueError in 0.19. Reshape your data either using X.reshape(-1, 1) if your data has a single feature or X.reshape(1, -1) if it contains a single sample.\n",
      "  DeprecationWarning)\n",
      "/Users/akuepper/anaconda/lib/python3.5/site-packages/sklearn/utils/validation.py:386: DeprecationWarning: Passing 1d arrays as data is deprecated in 0.17 and willraise ValueError in 0.19. Reshape your data either using X.reshape(-1, 1) if your data has a single feature or X.reshape(1, -1) if it contains a single sample.\n",
      "  DeprecationWarning)\n",
      "/Users/akuepper/anaconda/lib/python3.5/site-packages/sklearn/utils/validation.py:386: DeprecationWarning: Passing 1d arrays as data is deprecated in 0.17 and willraise ValueError in 0.19. Reshape your data either using X.reshape(-1, 1) if your data has a single feature or X.reshape(1, -1) if it contains a single sample.\n",
      "  DeprecationWarning)\n",
      "/Users/akuepper/anaconda/lib/python3.5/site-packages/sklearn/utils/validation.py:386: DeprecationWarning: Passing 1d arrays as data is deprecated in 0.17 and willraise ValueError in 0.19. Reshape your data either using X.reshape(-1, 1) if your data has a single feature or X.reshape(1, -1) if it contains a single sample.\n",
      "  DeprecationWarning)\n",
      "/Users/akuepper/anaconda/lib/python3.5/site-packages/sklearn/utils/validation.py:386: DeprecationWarning: Passing 1d arrays as data is deprecated in 0.17 and willraise ValueError in 0.19. Reshape your data either using X.reshape(-1, 1) if your data has a single feature or X.reshape(1, -1) if it contains a single sample.\n",
      "  DeprecationWarning)\n",
      "/Users/akuepper/anaconda/lib/python3.5/site-packages/sklearn/utils/validation.py:386: DeprecationWarning: Passing 1d arrays as data is deprecated in 0.17 and willraise ValueError in 0.19. Reshape your data either using X.reshape(-1, 1) if your data has a single feature or X.reshape(1, -1) if it contains a single sample.\n",
      "  DeprecationWarning)\n"
     ]
    },
    {
     "name": "stdout",
     "output_type": "stream",
     "text": [
      "b'HydePark' 2136 671.0\n",
      "b'WestRoxbury' 2132 308.0\n",
      "b'Roslindale' 2131 640.0\n",
      "b'Mattapan' 2126 519.0\n",
      "b'JamaicaPlain' 2130 523.0\n",
      "b'SouthDorchester' 2124 664.0\n",
      "b'SouthDorchester' 2122 656.0\n",
      "b'NorthDorchester' 2121 794.0\n",
      "b'NorthDorchester' 2125 607.0\n",
      "b'Roxbury' 2119 749.0\n",
      "b'Roxbury' 2120 507.0\n",
      "b'Fenway' 2215 422.0\n",
      "b'Fenway' 2115 433.0\n",
      "b'SouthEnd' 2118 353.0\n",
      "b'SouthEnd' 2111 538.0\n",
      "b'SouthBoston' 2127 464.0\n",
      "b'SouthBoston' 2210 321.0\n",
      "b'BackBay' 2199 389.0\n",
      "b'BackBay' 2116 484.0\n",
      "b'BackBay' 2110 308.0\n",
      "b'BackBay' 2113 404.0\n",
      "b'BackBay' 2114 437.0\n",
      "b'BackBay' 2109 386.0\n",
      "b'Charlestown' 2129 489.0\n",
      "b'Allston' 2134 422.0\n",
      "b'Allston' 2135 465.0\n",
      "b'Allston' 2163 442.0\n",
      "b'EastBoston' 2128 649.0\n"
     ]
    },
    {
     "name": "stderr",
     "output_type": "stream",
     "text": [
      "/Users/akuepper/anaconda/lib/python3.5/site-packages/sklearn/utils/validation.py:386: DeprecationWarning: Passing 1d arrays as data is deprecated in 0.17 and willraise ValueError in 0.19. Reshape your data either using X.reshape(-1, 1) if your data has a single feature or X.reshape(1, -1) if it contains a single sample.\n",
      "  DeprecationWarning)\n",
      "/Users/akuepper/anaconda/lib/python3.5/site-packages/sklearn/utils/validation.py:386: DeprecationWarning: Passing 1d arrays as data is deprecated in 0.17 and willraise ValueError in 0.19. Reshape your data either using X.reshape(-1, 1) if your data has a single feature or X.reshape(1, -1) if it contains a single sample.\n",
      "  DeprecationWarning)\n",
      "/Users/akuepper/anaconda/lib/python3.5/site-packages/sklearn/utils/validation.py:386: DeprecationWarning: Passing 1d arrays as data is deprecated in 0.17 and willraise ValueError in 0.19. Reshape your data either using X.reshape(-1, 1) if your data has a single feature or X.reshape(1, -1) if it contains a single sample.\n",
      "  DeprecationWarning)\n",
      "/Users/akuepper/anaconda/lib/python3.5/site-packages/sklearn/utils/validation.py:386: DeprecationWarning: Passing 1d arrays as data is deprecated in 0.17 and willraise ValueError in 0.19. Reshape your data either using X.reshape(-1, 1) if your data has a single feature or X.reshape(1, -1) if it contains a single sample.\n",
      "  DeprecationWarning)\n",
      "/Users/akuepper/anaconda/lib/python3.5/site-packages/sklearn/utils/validation.py:386: DeprecationWarning: Passing 1d arrays as data is deprecated in 0.17 and willraise ValueError in 0.19. Reshape your data either using X.reshape(-1, 1) if your data has a single feature or X.reshape(1, -1) if it contains a single sample.\n",
      "  DeprecationWarning)\n",
      "/Users/akuepper/anaconda/lib/python3.5/site-packages/sklearn/utils/validation.py:386: DeprecationWarning: Passing 1d arrays as data is deprecated in 0.17 and willraise ValueError in 0.19. Reshape your data either using X.reshape(-1, 1) if your data has a single feature or X.reshape(1, -1) if it contains a single sample.\n",
      "  DeprecationWarning)\n",
      "/Users/akuepper/anaconda/lib/python3.5/site-packages/sklearn/utils/validation.py:386: DeprecationWarning: Passing 1d arrays as data is deprecated in 0.17 and willraise ValueError in 0.19. Reshape your data either using X.reshape(-1, 1) if your data has a single feature or X.reshape(1, -1) if it contains a single sample.\n",
      "  DeprecationWarning)\n",
      "/Users/akuepper/anaconda/lib/python3.5/site-packages/sklearn/utils/validation.py:386: DeprecationWarning: Passing 1d arrays as data is deprecated in 0.17 and willraise ValueError in 0.19. Reshape your data either using X.reshape(-1, 1) if your data has a single feature or X.reshape(1, -1) if it contains a single sample.\n",
      "  DeprecationWarning)\n",
      "/Users/akuepper/anaconda/lib/python3.5/site-packages/sklearn/utils/validation.py:386: DeprecationWarning: Passing 1d arrays as data is deprecated in 0.17 and willraise ValueError in 0.19. Reshape your data either using X.reshape(-1, 1) if your data has a single feature or X.reshape(1, -1) if it contains a single sample.\n",
      "  DeprecationWarning)\n",
      "/Users/akuepper/anaconda/lib/python3.5/site-packages/sklearn/utils/validation.py:386: DeprecationWarning: Passing 1d arrays as data is deprecated in 0.17 and willraise ValueError in 0.19. Reshape your data either using X.reshape(-1, 1) if your data has a single feature or X.reshape(1, -1) if it contains a single sample.\n",
      "  DeprecationWarning)\n",
      "/Users/akuepper/anaconda/lib/python3.5/site-packages/sklearn/utils/validation.py:386: DeprecationWarning: Passing 1d arrays as data is deprecated in 0.17 and willraise ValueError in 0.19. Reshape your data either using X.reshape(-1, 1) if your data has a single feature or X.reshape(1, -1) if it contains a single sample.\n",
      "  DeprecationWarning)\n"
     ]
    }
   ],
   "source": [
    "predictions = np.zeros(len(df_boston))\n",
    "i = 0\n",
    "for hood in df_boston:\n",
    "    average = 0.0\n",
    "    count = 0\n",
    "    if (hood[\"zip1\"]):\n",
    "        target = df_zipcode[df_zipcode[\"geoid2\"]==int(hood[\"zip1\"])]\n",
    "        target_params = target.values[0]\n",
    "        chlamydia_rate = model.predict(target_params[1:])\n",
    "        average += chlamydia_rate[0]*1e5\n",
    "        count += 1\n",
    "        print(hood[\"Neighborhood\"], hood[\"zip1\"],round(chlamydia_rate[0]*1e5))\n",
    "    if (hood[\"zip2\"]):\n",
    "        target = df_zipcode[df_zipcode[\"geoid2\"]==int(hood[\"zip2\"])]\n",
    "        target_params = target.values[0]\n",
    "        chlamydia_rate = model.predict(target_params[1:])\n",
    "        average += chlamydia_rate[0]*1e5\n",
    "        count += 1\n",
    "        print(hood[\"Neighborhood\"], hood[\"zip2\"],round(chlamydia_rate[0]*1e5))\n",
    "    if (hood[\"zip3\"]):\n",
    "        target = df_zipcode[df_zipcode[\"geoid2\"]==int(hood[\"zip3\"])]\n",
    "        target_params = target.values[0]\n",
    "        chlamydia_rate = model.predict(target_params[1:])\n",
    "        average += chlamydia_rate[0]*1e5\n",
    "        count += 1\n",
    "        print(hood[\"Neighborhood\"], hood[\"zip3\"],round(chlamydia_rate[0]*1e5))\n",
    "    if (hood[\"zip4\"]):\n",
    "        target = df_zipcode[df_zipcode[\"geoid2\"]==int(hood[\"zip4\"])]\n",
    "        target_params = target.values[0]\n",
    "        chlamydia_rate = model.predict(target_params[1:])\n",
    "        average += chlamydia_rate[0]*1e5\n",
    "        count += 1\n",
    "        print(hood[\"Neighborhood\"], hood[\"zip4\"],round(chlamydia_rate[0]*1e5))\n",
    "    if (hood[\"zip5\"]):\n",
    "        target = df_zipcode[df_zipcode[\"geoid2\"]==int(hood[\"zip5\"])]\n",
    "        target_params = target.values[0]\n",
    "        chlamydia_rate = model.predict(target_params[1:])\n",
    "        average += chlamydia_rate[0]*1e5\n",
    "        count += 1\n",
    "        print(hood[\"Neighborhood\"], hood[\"zip5\"],round(chlamydia_rate[0]*1e5))\n",
    "    if (hood[\"zip6\"]):\n",
    "        target = df_zipcode[df_zipcode[\"geoid2\"]==int(hood[\"zip6\"])]\n",
    "        target_params = target.values[0]\n",
    "        chlamydia_rate = model.predict(target_params[1:])\n",
    "        average += chlamydia_rate[0]*1e5\n",
    "        count += 1\n",
    "        print(hood[\"Neighborhood\"], hood[\"zip6\"],round(chlamydia_rate[0]*1e5))\n",
    "    average /= count\n",
    "    predictions[i] = average\n",
    "    i+=1"
   ]
  },
  {
   "cell_type": "code",
   "execution_count": 109,
   "metadata": {
    "collapsed": false
   },
   "outputs": [
    {
     "data": {
      "text/plain": [
       "(15,)"
      ]
     },
     "execution_count": 109,
     "metadata": {},
     "output_type": "execute_result"
    }
   ],
   "source": [
    "len(predictions), "
   ]
  },
  {
   "cell_type": "code",
   "execution_count": 110,
   "metadata": {
    "collapsed": false
   },
   "outputs": [],
   "source": [
    "df_boston_rates = np.genfromtxt(\"../data/rate_boston.txt\", dtype=[('Neighborhood','S20'),('mean','i8'),('error','i8')], delimiter=\",\")"
   ]
  },
  {
   "cell_type": "code",
   "execution_count": 111,
   "metadata": {
    "collapsed": false
   },
   "outputs": [
    {
     "name": "stderr",
     "output_type": "stream",
     "text": [
      "/Users/akuepper/anaconda/lib/python3.5/site-packages/matplotlib/collections.py:590: FutureWarning: elementwise comparison failed; returning scalar instead, but in the future will perform elementwise comparison\n",
      "  if self._edgecolors == str('face'):\n"
     ]
    },
    {
     "data": {
      "image/png": "[encoded data removed]",
      "text/plain": [
       "<matplotlib.figure.Figure at 0x113038400>"
      ]
     },
     "metadata": {},
     "output_type": "display_data"
    }
   ],
   "source": [
    "fig = plt.figure(figsize=(10, 6))\n",
    "data = np.arange(len(df_boston_rates['Neighborhood']))\n",
    "ax1 = plt.scatter(data,predictions)\n",
    "plt.xlabel(\"Neighborhood\")\n",
    "plt.ylabel(\"Chlamydia cases [per 100,000]\")\n",
    "ax2 = plt.errorbar(data, df_boston_rates[\"mean\"], yerr=df_boston_rates[\"error\"],fmt='o', color='red')\n",
    "plt.savefig('../graphics/boston_comparison.png', bbox_inches='tight', dpi=150)"
   ]
  },
  {
   "cell_type": "code",
   "execution_count": null,
   "metadata": {
    "collapsed": true
   },
   "outputs": [],
   "source": []
  },
  {
   "cell_type": "code",
   "execution_count": null,
   "metadata": {
    "collapsed": true
   },
   "outputs": [],
   "source": []
  },
  {
   "cell_type": "code",
   "execution_count": null,
   "metadata": {
    "collapsed": true
   },
   "outputs": [],
   "source": []
  },
  {
   "cell_type": "code",
   "execution_count": null,
   "metadata": {
    "collapsed": true
   },
   "outputs": [],
   "source": []
  }
 ],
 "metadata": {
  "kernelspec": {
   "display_name": "Python 3",
   "language": "python",
   "name": "python3"
  },
  "language_info": {
   "codemirror_mode": {
    "name": "ipython",
    "version": 3
   },
   "file_extension": ".py",
   "mimetype": "text/x-python",
   "name": "python",
   "nbconvert_exporter": "python",
   "pygments_lexer": "ipython3",
   "version": "3.5.1"
  }
 },
 "nbformat": 4,
 "nbformat_minor": 0
}
