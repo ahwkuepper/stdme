{
 "cells": [
  {
   "cell_type": "markdown",
   "metadata": {},
   "source": [
    "## National statistics for gender, race and age"
   ]
  },
  {
   "cell_type": "code",
   "execution_count": 1,
   "metadata": {
    "collapsed": false
   },
   "outputs": [
    {
     "data": {
      "text/plain": [
       "(1.4066309123229905, 0.6243718845515316, 0.004458881107370277)"
      ]
     },
     "execution_count": 1,
     "metadata": {},
     "output_type": "execute_result"
    }
   ],
   "source": [
    "gender_rate = {}\n",
    "gender_factor = {}\n",
    "gender_number = {}\n",
    "gender_rate[\"Male\"] = 278.4e-5\n",
    "gender_rate[\"Female\"] = 627.2e-5\n",
    "gender_number[\"Male\"] = 155651602\n",
    "gender_number[\"Female\"] = 160477237\n",
    "rate_average = (gender_rate[\"Male\"]*gender_number[\"Male\"]+gender_rate[\"Female\"]*gender_number[\"Male\"])/(gender_number[\"Male\"]+gender_number[\"Female\"])\n",
    "gender_factor[\"Male\"] = gender_rate[\"Male\"]/rate_average\n",
    "gender_factor[\"Female\"] = gender_rate[\"Female\"]/rate_average\n",
    "gender_factor[\"Female\"], gender_factor[\"Male\"], rate_average\n"
   ]
  },
  {
   "cell_type": "code",
   "execution_count": 25,
   "metadata": {
    "collapsed": false
   },
   "outputs": [
    {
     "data": {
      "text/plain": [
       "(2.0094210449309635,\n",
       " 0.33767371499492893,\n",
       " 3.360990707281132,\n",
       " 1.0970021725482926,\n",
       " 0.3385485173653821,\n",
       " 1.8706190688190578,\n",
       " 0.5452934775824846)"
      ]
     },
     "execution_count": 25,
     "metadata": {},
     "output_type": "execute_result"
    }
   ],
   "source": [
    "race_rate = {}\n",
    "race_factor = {}\n",
    "race_number = {}\n",
    "race_number[\"Native\"] = 1942876.0\n",
    "race_number[\"Asian\"] = 12721721.0\n",
    "race_number[\"Black\"] = 29489649.0\n",
    "race_number[\"Hispanic\"] = 46407173.0\n",
    "race_number[\"Multiple\"] = 5145135.0\n",
    "race_number[\"Pacific\"] = 473703.0\n",
    "race_number[\"White\"] = 161443167.0\n",
    "race_rate[\"Native\"] = 689.1e-5\n",
    "race_rate[\"Asian\"] = 115.8e-5\n",
    "race_rate[\"Black\"] = 1152.6e-5\n",
    "race_rate[\"Hispanic\"] = 376.2e-5\n",
    "race_rate[\"Multiple\"] = 116.1e-5\n",
    "race_rate[\"Pacific\"] = 641.5e-5\n",
    "race_rate[\"White\"] = 187.0e-5\n",
    "US_number = race_number[\"Native\"] + race_number[\"Asian\"] + race_number[\"Black\"] + race_number[\"Hispanic\"] + race_number[\"Multiple\"] + race_number[\"Pacific\"] + race_number[\"White\"]\n",
    "rate_average = (race_rate[\"Native\"]*race_number[\"Native\"]+race_rate[\"Asian\"]*race_number[\"Asian\"]+race_rate[\"Black\"]*race_number[\"Black\"]+race_rate[\"Hispanic\"]*race_number[\"Hispanic\"]+race_rate[\"Multiple\"]*race_number[\"Multiple\"]+race_rate[\"Pacific\"]*race_number[\"Multiple\"]+race_rate[\"White\"]*race_number[\"White\"])/US_number  \n",
    "race_factor[\"Native\"] = race_rate[\"Native\"]/rate_average\n",
    "race_factor[\"Asian\"] = race_rate[\"Asian\"]/rate_average\n",
    "race_factor[\"Black\"] = race_rate[\"Black\"]/rate_average\n",
    "race_factor[\"Hispanic\"] = race_rate[\"Hispanic\"]/rate_average\n",
    "race_factor[\"Multiple\"] = race_rate[\"Multiple\"]/rate_average\n",
    "race_factor[\"Pacific\"] = race_rate[\"Pacific\"]/rate_average\n",
    "race_factor[\"White\"] = race_rate[\"White\"]/rate_average\n",
    "race_factor[\"Native\"], race_factor[\"Asian\"], race_factor[\"Black\"], race_factor[\"Hispanic\"], race_factor[\"Multiple\"], race_factor[\"Pacific\"], race_factor[\"White\"]"
   ]
  },
  {
   "cell_type": "code",
   "execution_count": 22,
   "metadata": {
    "collapsed": false
   },
   "outputs": [],
   "source": [
    "race_percentage = {}\n",
    "race_percentage[\"Native\"] = 1942876.0/316128839.0\n",
    "race_percentage[\"Asian\"] = 12721721.0/316128839.0\n",
    "race_percentage[\"Black\"] = 29489649.0/316128839.0\n",
    "race_percentage[\"Hispanic\"] = 46407173.0/316128839.0\n",
    "race_percentage[\"Multiple\"] = 5145135.0/316128839.0\n",
    "race_percentage[\"Pacific\"] = 473703.0/316128839.0\n",
    "race_percentage[\"White\"] = 161443167.0/316128839.0"
   ]
  },
  {
   "cell_type": "markdown",
   "metadata": {},
   "source": [
    "We are asking the question of how likely is it that a male/female has an STD given that he/she has a certain race. "
   ]
  },
  {
   "cell_type": "code",
   "execution_count": 31,
   "metadata": {
    "collapsed": false
   },
   "outputs": [
    {
     "data": {
      "text/plain": [
       "0.009023537302551983"
      ]
     },
     "execution_count": 31,
     "metadata": {},
     "output_type": "execute_result"
    }
   ],
   "source": [
    "race_rate[\"Pacific\"]*gender_factor[\"Female\"]"
   ]
  },
  {
   "cell_type": "code",
   "execution_count": 33,
   "metadata": {
    "collapsed": false
   },
   "outputs": [
    {
     "data": {
      "text/plain": [
       "2.6312706073817345"
      ]
     },
     "execution_count": 33,
     "metadata": {},
     "output_type": "execute_result"
    }
   ],
   "source": [
    "gender_factor[\"Female\"]*race_factor[\"Pacific\"]"
   ]
  },
  {
   "cell_type": "code",
   "execution_count": null,
   "metadata": {
    "collapsed": true
   },
   "outputs": [],
   "source": []
  }
 ],
 "metadata": {
  "kernelspec": {
   "display_name": "Python 3",
   "language": "python",
   "name": "python3"
  },
  "language_info": {
   "codemirror_mode": {
    "name": "ipython",
    "version": 3
   },
   "file_extension": ".py",
   "mimetype": "text/x-python",
   "name": "python",
   "nbconvert_exporter": "python",
   "pygments_lexer": "ipython3",
   "version": "3.5.1"
  }
 },
 "nbformat": 4,
 "nbformat_minor": 0
}
