{
 "cells": [
  {
   "cell_type": "markdown",
   "metadata": {},
   "source": [
    "# STD & me"
   ]
  },
  {
   "cell_type": "markdown",
   "metadata": {},
   "source": [
    "Analysis of 2014 data from the CDC on the prevalence of STD's in U.S. counties. "
   ]
  },
  {
   "cell_type": "code",
   "execution_count": 74,
   "metadata": {
    "collapsed": true
   },
   "outputs": [],
   "source": [
    "import pandas as pd\n",
    "import seaborn as sns\n",
    "import numpy as np\n",
    "import matplotlib.pyplot as plt\n",
    "%matplotlib inline"
   ]
  },
  {
   "cell_type": "code",
   "execution_count": 75,
   "metadata": {
    "collapsed": true
   },
   "outputs": [],
   "source": [
    "# Always display all the columns\n",
    "pd.set_option('display.width', 5000) \n",
    "pd.set_option('display.max_columns', 200) \n",
    "\n",
    "# Plain Seaborn figures with matplotlib color codes mapped to the default seaborn palette \n",
    "sns.set(style=\"white\", color_codes=True)"
   ]
  },
  {
   "cell_type": "code",
   "execution_count": 125,
   "metadata": {
    "collapsed": false
   },
   "outputs": [],
   "source": [
    "df = pd.read_csv(\"../data/chlamydia.csv\")"
   ]
  },
  {
   "cell_type": "code",
   "execution_count": 126,
   "metadata": {
    "collapsed": false
   },
   "outputs": [
    {
     "data": {
      "text/plain": [
       "(3228, 12)"
      ]
     },
     "execution_count": 126,
     "metadata": {},
     "output_type": "execute_result"
    }
   ],
   "source": [
    "df.shape"
   ]
  },
  {
   "cell_type": "code",
   "execution_count": 127,
   "metadata": {
    "collapsed": false
   },
   "outputs": [
    {
     "data": {
      "text/plain": [
       "Index(['Disease', 'Area', 'State Abbreviation', 'FIPS', 'Year', 'Race', 'Sex', 'Age group', 'Transmission Category', 'Population', 'Cases', 'Rate'], dtype='object')"
      ]
     },
     "execution_count": 127,
     "metadata": {},
     "output_type": "execute_result"
    }
   ],
   "source": [
    "df.columns"
   ]
  },
  {
   "cell_type": "code",
   "execution_count": 128,
   "metadata": {
    "collapsed": false
   },
   "outputs": [
    {
     "data": {
      "text/plain": [
       "Disease                  object\n",
       "Area                     object\n",
       "State Abbreviation       object\n",
       "FIPS                      int64\n",
       "Year                      int64\n",
       "Race                     object\n",
       "Sex                      object\n",
       "Age group                object\n",
       "Transmission Category    object\n",
       "Population               object\n",
       "Cases                    object\n",
       "Rate                     object\n",
       "dtype: object"
      ]
     },
     "execution_count": 128,
     "metadata": {},
     "output_type": "execute_result"
    }
   ],
   "source": [
    "df.dtypes"
   ]
  },
  {
   "cell_type": "code",
   "execution_count": 129,
   "metadata": {
    "collapsed": false
   },
   "outputs": [
    {
     "name": "stderr",
     "output_type": "stream",
     "text": [
      "/Users/akuepper/anaconda/lib/python3.5/site-packages/ipykernel/__main__.py:1: FutureWarning: convert_objects is deprecated.  Use the data-type specific converters pd.to_datetime, pd.to_timedelta and pd.to_numeric.\n",
      "  if __name__ == '__main__':\n"
     ]
    },
    {
     "data": {
      "text/plain": [
       "Disease                   object\n",
       "Area                      object\n",
       "State Abbreviation        object\n",
       "FIPS                       int64\n",
       "Year                       int64\n",
       "Race                      object\n",
       "Sex                       object\n",
       "Age group                 object\n",
       "Transmission Category     object\n",
       "Population               float64\n",
       "Cases                    float64\n",
       "Rate                     float64\n",
       "dtype: object"
      ]
     },
     "execution_count": 129,
     "metadata": {},
     "output_type": "execute_result"
    }
   ],
   "source": [
    "df_test = df.convert_objects(convert_numeric=True)\n",
    "df_test.dtypes"
   ]
  },
  {
   "cell_type": "code",
   "execution_count": 130,
   "metadata": {
    "collapsed": false
   },
   "outputs": [
    {
     "data": {
      "text/html": [
       "<div>\n",
       "<table border=\"1\" class=\"dataframe\">\n",
       "  <thead>\n",
       "    <tr style=\"text-align: right;\">\n",
       "      <th></th>\n",
       "      <th>Disease</th>\n",
       "      <th>Area</th>\n",
       "      <th>State Abbreviation</th>\n",
       "      <th>FIPS</th>\n",
       "      <th>Year</th>\n",
       "      <th>Race</th>\n",
       "      <th>Sex</th>\n",
       "      <th>Age group</th>\n",
       "      <th>Transmission Category</th>\n",
       "      <th>Population</th>\n",
       "      <th>Cases</th>\n",
       "      <th>Rate</th>\n",
       "    </tr>\n",
       "  </thead>\n",
       "  <tbody>\n",
       "    <tr>\n",
       "      <th>0</th>\n",
       "      <td>Chlamydia</td>\n",
       "      <td>Autauga County</td>\n",
       "      <td>AL</td>\n",
       "      <td>1001</td>\n",
       "      <td>2014</td>\n",
       "      <td>All races/ethnicities</td>\n",
       "      <td>Both sexes</td>\n",
       "      <td>All age groups</td>\n",
       "      <td>All transmission categories</td>\n",
       "      <td>NaN</td>\n",
       "      <td>220</td>\n",
       "      <td>398.2</td>\n",
       "    </tr>\n",
       "    <tr>\n",
       "      <th>1</th>\n",
       "      <td>Chlamydia</td>\n",
       "      <td>Baldwin County</td>\n",
       "      <td>AL</td>\n",
       "      <td>1003</td>\n",
       "      <td>2014</td>\n",
       "      <td>All races/ethnicities</td>\n",
       "      <td>Both sexes</td>\n",
       "      <td>All age groups</td>\n",
       "      <td>All transmission categories</td>\n",
       "      <td>NaN</td>\n",
       "      <td>667</td>\n",
       "      <td>341.1</td>\n",
       "    </tr>\n",
       "    <tr>\n",
       "      <th>2</th>\n",
       "      <td>Chlamydia</td>\n",
       "      <td>Barbour County</td>\n",
       "      <td>AL</td>\n",
       "      <td>1005</td>\n",
       "      <td>2014</td>\n",
       "      <td>All races/ethnicities</td>\n",
       "      <td>Both sexes</td>\n",
       "      <td>All age groups</td>\n",
       "      <td>All transmission categories</td>\n",
       "      <td>NaN</td>\n",
       "      <td>166</td>\n",
       "      <td>613.1</td>\n",
       "    </tr>\n",
       "    <tr>\n",
       "      <th>3</th>\n",
       "      <td>Chlamydia</td>\n",
       "      <td>Bibb County</td>\n",
       "      <td>AL</td>\n",
       "      <td>1007</td>\n",
       "      <td>2014</td>\n",
       "      <td>All races/ethnicities</td>\n",
       "      <td>Both sexes</td>\n",
       "      <td>All age groups</td>\n",
       "      <td>All transmission categories</td>\n",
       "      <td>NaN</td>\n",
       "      <td>100</td>\n",
       "      <td>444.2</td>\n",
       "    </tr>\n",
       "    <tr>\n",
       "      <th>4</th>\n",
       "      <td>Chlamydia</td>\n",
       "      <td>Blount County</td>\n",
       "      <td>AL</td>\n",
       "      <td>1009</td>\n",
       "      <td>2014</td>\n",
       "      <td>All races/ethnicities</td>\n",
       "      <td>Both sexes</td>\n",
       "      <td>All age groups</td>\n",
       "      <td>All transmission categories</td>\n",
       "      <td>NaN</td>\n",
       "      <td>72</td>\n",
       "      <td>124.4</td>\n",
       "    </tr>\n",
       "  </tbody>\n",
       "</table>\n",
       "</div>"
      ],
      "text/plain": [
       "     Disease            Area State Abbreviation  FIPS  Year                   Race         Sex       Age group        Transmission Category  Population  Cases   Rate\n",
       "0  Chlamydia  Autauga County                 AL  1001  2014  All races/ethnicities  Both sexes  All age groups  All transmission categories         NaN    220  398.2\n",
       "1  Chlamydia  Baldwin County                 AL  1003  2014  All races/ethnicities  Both sexes  All age groups  All transmission categories         NaN    667  341.1\n",
       "2  Chlamydia  Barbour County                 AL  1005  2014  All races/ethnicities  Both sexes  All age groups  All transmission categories         NaN    166  613.1\n",
       "3  Chlamydia     Bibb County                 AL  1007  2014  All races/ethnicities  Both sexes  All age groups  All transmission categories         NaN    100  444.2\n",
       "4  Chlamydia   Blount County                 AL  1009  2014  All races/ethnicities  Both sexes  All age groups  All transmission categories         NaN     72  124.4"
      ]
     },
     "execution_count": 130,
     "metadata": {},
     "output_type": "execute_result"
    }
   ],
   "source": [
    "df_test.head()"
   ]
  },
  {
   "cell_type": "code",
   "execution_count": 131,
   "metadata": {
    "collapsed": false
   },
   "outputs": [],
   "source": [
    "df['Population'] = df['Population'].str.replace(',','')\n",
    "df['Cases'] = df['Cases'].str.replace(',','')"
   ]
  },
  {
   "cell_type": "code",
   "execution_count": 132,
   "metadata": {
    "collapsed": false
   },
   "outputs": [
    {
     "name": "stderr",
     "output_type": "stream",
     "text": [
      "/Users/akuepper/anaconda/lib/python3.5/site-packages/ipykernel/__main__.py:1: FutureWarning: convert_objects is deprecated.  Use the data-type specific converters pd.to_datetime, pd.to_timedelta and pd.to_numeric.\n",
      "  if __name__ == '__main__':\n"
     ]
    },
    {
     "data": {
      "text/plain": [
       "Disease                   object\n",
       "Area                      object\n",
       "State Abbreviation        object\n",
       "FIPS                       int64\n",
       "Year                       int64\n",
       "Race                      object\n",
       "Sex                       object\n",
       "Age group                 object\n",
       "Transmission Category     object\n",
       "Population               float64\n",
       "Cases                    float64\n",
       "Rate                     float64\n",
       "dtype: object"
      ]
     },
     "execution_count": 132,
     "metadata": {},
     "output_type": "execute_result"
    }
   ],
   "source": [
    "df = df.convert_objects(convert_numeric=True)\n",
    "df.dtypes"
   ]
  },
  {
   "cell_type": "code",
   "execution_count": 133,
   "metadata": {
    "collapsed": false
   },
   "outputs": [
    {
     "data": {
      "text/html": [
       "<div>\n",
       "<table border=\"1\" class=\"dataframe\">\n",
       "  <thead>\n",
       "    <tr style=\"text-align: right;\">\n",
       "      <th></th>\n",
       "      <th>Disease</th>\n",
       "      <th>Area</th>\n",
       "      <th>State Abbreviation</th>\n",
       "      <th>FIPS</th>\n",
       "      <th>Year</th>\n",
       "      <th>Race</th>\n",
       "      <th>Sex</th>\n",
       "      <th>Age group</th>\n",
       "      <th>Transmission Category</th>\n",
       "      <th>Population</th>\n",
       "      <th>Cases</th>\n",
       "      <th>Rate</th>\n",
       "    </tr>\n",
       "  </thead>\n",
       "  <tbody>\n",
       "    <tr>\n",
       "      <th>0</th>\n",
       "      <td>Chlamydia</td>\n",
       "      <td>Autauga County</td>\n",
       "      <td>AL</td>\n",
       "      <td>1001</td>\n",
       "      <td>2014</td>\n",
       "      <td>All races/ethnicities</td>\n",
       "      <td>Both sexes</td>\n",
       "      <td>All age groups</td>\n",
       "      <td>All transmission categories</td>\n",
       "      <td>55246</td>\n",
       "      <td>220</td>\n",
       "      <td>398.2</td>\n",
       "    </tr>\n",
       "    <tr>\n",
       "      <th>1</th>\n",
       "      <td>Chlamydia</td>\n",
       "      <td>Baldwin County</td>\n",
       "      <td>AL</td>\n",
       "      <td>1003</td>\n",
       "      <td>2014</td>\n",
       "      <td>All races/ethnicities</td>\n",
       "      <td>Both sexes</td>\n",
       "      <td>All age groups</td>\n",
       "      <td>All transmission categories</td>\n",
       "      <td>195540</td>\n",
       "      <td>667</td>\n",
       "      <td>341.1</td>\n",
       "    </tr>\n",
       "    <tr>\n",
       "      <th>2</th>\n",
       "      <td>Chlamydia</td>\n",
       "      <td>Barbour County</td>\n",
       "      <td>AL</td>\n",
       "      <td>1005</td>\n",
       "      <td>2014</td>\n",
       "      <td>All races/ethnicities</td>\n",
       "      <td>Both sexes</td>\n",
       "      <td>All age groups</td>\n",
       "      <td>All transmission categories</td>\n",
       "      <td>27076</td>\n",
       "      <td>166</td>\n",
       "      <td>613.1</td>\n",
       "    </tr>\n",
       "    <tr>\n",
       "      <th>3</th>\n",
       "      <td>Chlamydia</td>\n",
       "      <td>Bibb County</td>\n",
       "      <td>AL</td>\n",
       "      <td>1007</td>\n",
       "      <td>2014</td>\n",
       "      <td>All races/ethnicities</td>\n",
       "      <td>Both sexes</td>\n",
       "      <td>All age groups</td>\n",
       "      <td>All transmission categories</td>\n",
       "      <td>22512</td>\n",
       "      <td>100</td>\n",
       "      <td>444.2</td>\n",
       "    </tr>\n",
       "    <tr>\n",
       "      <th>4</th>\n",
       "      <td>Chlamydia</td>\n",
       "      <td>Blount County</td>\n",
       "      <td>AL</td>\n",
       "      <td>1009</td>\n",
       "      <td>2014</td>\n",
       "      <td>All races/ethnicities</td>\n",
       "      <td>Both sexes</td>\n",
       "      <td>All age groups</td>\n",
       "      <td>All transmission categories</td>\n",
       "      <td>57872</td>\n",
       "      <td>72</td>\n",
       "      <td>124.4</td>\n",
       "    </tr>\n",
       "  </tbody>\n",
       "</table>\n",
       "</div>"
      ],
      "text/plain": [
       "     Disease            Area State Abbreviation  FIPS  Year                   Race         Sex       Age group        Transmission Category  Population  Cases   Rate\n",
       "0  Chlamydia  Autauga County                 AL  1001  2014  All races/ethnicities  Both sexes  All age groups  All transmission categories       55246    220  398.2\n",
       "1  Chlamydia  Baldwin County                 AL  1003  2014  All races/ethnicities  Both sexes  All age groups  All transmission categories      195540    667  341.1\n",
       "2  Chlamydia  Barbour County                 AL  1005  2014  All races/ethnicities  Both sexes  All age groups  All transmission categories       27076    166  613.1\n",
       "3  Chlamydia     Bibb County                 AL  1007  2014  All races/ethnicities  Both sexes  All age groups  All transmission categories       22512    100  444.2\n",
       "4  Chlamydia   Blount County                 AL  1009  2014  All races/ethnicities  Both sexes  All age groups  All transmission categories       57872     72  124.4"
      ]
     },
     "execution_count": 133,
     "metadata": {},
     "output_type": "execute_result"
    }
   ],
   "source": [
    "df.head()"
   ]
  },
  {
   "cell_type": "code",
   "execution_count": 134,
   "metadata": {
    "collapsed": false
   },
   "outputs": [
    {
     "data": {
      "text/plain": [
       "count        3220.000000\n",
       "mean        99360.995963\n",
       "std        318648.364529\n",
       "min            90.000000\n",
       "25%         11267.750000\n",
       "50%         26165.500000\n",
       "75%         66834.250000\n",
       "max      10017068.000000\n",
       "Name: Population, dtype: float64"
      ]
     },
     "execution_count": 134,
     "metadata": {},
     "output_type": "execute_result"
    }
   ],
   "source": [
    "df['Population'].describe()"
   ]
  },
  {
   "cell_type": "code",
   "execution_count": 135,
   "metadata": {
    "collapsed": false
   },
   "outputs": [
    {
     "data": {
      "text/plain": [
       "207"
      ]
     },
     "execution_count": 135,
     "metadata": {},
     "output_type": "execute_result"
    }
   ],
   "source": [
    "df['Population'].idxmax()"
   ]
  },
  {
   "cell_type": "code",
   "execution_count": 136,
   "metadata": {
    "collapsed": false
   },
   "outputs": [
    {
     "data": {
      "text/plain": [
       "Disease                                    Chlamydia\n",
       "Area                              Los Angeles County\n",
       "State Abbreviation                                CA\n",
       "FIPS                                            6037\n",
       "Year                                            2014\n",
       "Race                           All races/ethnicities\n",
       "Sex                                       Both sexes\n",
       "Age group                             All age groups\n",
       "Transmission Category    All transmission categories\n",
       "Population                               1.00171e+07\n",
       "Cases                                          54881\n",
       "Rate                                           547.9\n",
       "Name: 207, dtype: object"
      ]
     },
     "execution_count": 136,
     "metadata": {},
     "output_type": "execute_result"
    }
   ],
   "source": [
    "df.loc[207]"
   ]
  },
  {
   "cell_type": "code",
   "execution_count": 137,
   "metadata": {
    "collapsed": false
   },
   "outputs": [
    {
     "data": {
      "image/png": "[encoded data removed]",
      "text/plain": [
       "<matplotlib.figure.Figure at 0x10cd62160>"
      ]
     },
     "metadata": {},
     "output_type": "display_data"
    }
   ],
   "source": [
    "fig = plt.figure(figsize=(10, 6))\n",
    "data = np.log10(df['Population'])\n",
    "ax = data.plot.hist(50)\n",
    "ax.set_xlabel(\"log(Population)\")\n",
    "ax.set_title(\"Chlamydia\")\n",
    "plt.savefig('../graphics/county_population.png', bbox_inches='tight', dpi=150)"
   ]
  },
  {
   "cell_type": "code",
   "execution_count": null,
   "metadata": {
    "collapsed": false
   },
   "outputs": [
    {
     "data": {
      "image/png": "[encoded data removed]",
      "text/plain": [
       "<matplotlib.figure.Figure at 0x10cd62d30>"
      ]
     },
     "metadata": {},
     "output_type": "display_data"
    }
   ],
   "source": [
    "fig = plt.figure(figsize=(10, 6))\n",
    "data = np.log10(df['Cases']+1)\n",
    "ax = data.plot.hist(50)\n",
    "ax.set_xlabel(\"log(Cases)\")\n",
    "ax.set_title(\"Chlamydia\")\n",
    "plt.savefig('../graphics/county_cases.png', bbox_inches='tight', dpi=150)"
   ]
  },
  {
   "cell_type": "code",
   "execution_count": null,
   "metadata": {
    "collapsed": false
   },
   "outputs": [],
   "source": [
    "fig = plt.figure(figsize=(10, 6))\n",
    "ax = df['Rate'].plot.hist(100)\n",
    "ax.set_xlabel(\"Rate\")\n",
    "ax.set_title(\"Chlamydia\")\n",
    "plt.savefig('../graphics/county_rate.png', bbox_inches='tight', dpi=150)"
   ]
  },
  {
   "cell_type": "code",
   "execution_count": null,
   "metadata": {
    "collapsed": true
   },
   "outputs": [],
   "source": [
    "outliers = df[df['Rate']<50]"
   ]
  },
  {
   "cell_type": "code",
   "execution_count": null,
   "metadata": {
    "collapsed": false
   },
   "outputs": [],
   "source": [
    "outliers"
   ]
  },
  {
   "cell_type": "markdown",
   "metadata": {},
   "source": [
    "People in D.C. don't have Chlamydia. Or so it seems."
   ]
  },
  {
   "cell_type": "code",
   "execution_count": null,
   "metadata": {
    "collapsed": true
   },
   "outputs": [],
   "source": []
  }
 ],
 "metadata": {
  "kernelspec": {
   "display_name": "Python 3",
   "language": "python",
   "name": "python3"
  },
  "language_info": {
   "codemirror_mode": {
    "name": "ipython",
    "version": 3
   },
   "file_extension": ".py",
   "mimetype": "text/x-python",
   "name": "python",
   "nbconvert_exporter": "python",
   "pygments_lexer": "ipython3",
   "version": "3.5.1"
  }
 },
 "nbformat": 4,
 "nbformat_minor": 0
}
